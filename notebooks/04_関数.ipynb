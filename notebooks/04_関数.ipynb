{
 "cells": [
  {
   "cell_type": "markdown",
   "id": "introductory-roommate",
   "metadata": {},
   "source": [
    "# 関数"
   ]
  },
  {
   "cell_type": "markdown",
   "id": "economic-server",
   "metadata": {},
   "source": [
    "これまでに「順次実行（上から下に順に実行）」「条件分岐（if文）」「反復処理（while文、for文）」について学んだ。あとはアルゴリズム（計算手順）を適切に書くことができれば、いろいろなことをプログラム上で実現できるはずである。しかし、これまで学んだ内容だけでは（原理的には可能であっても）実際に巨大なプログラムをまったく間違いなく書くことは難しい。一般に、大き過ぎる問題（プログラミングの場合、巨大なプログラムを間違いなく書くこと）を解決するコツは、それを手頃な大きさの小さな問題に分割して1つずつ解決していくことである。前回触れたオブジェクト指向プログラミングもそのような方法の1つである。今回はPythonにおける「関数」を導入して、何度も利用する処理のまとまりを定義したり、プログラムを分かりやすく分割したりする手法を学ぶ<a name=\"cite_ref-1\"></a>[<sup>[1]</sup>](#cite_note-1)。"
   ]
  },
  {
   "cell_type": "markdown",
   "id": "vocational-wallet",
   "metadata": {},
   "source": [
    "## 今回のねらい"
   ]
  },
  {
   "cell_type": "markdown",
   "id": "coordinated-suspect",
   "metadata": {},
   "source": [
    "- 関数の定義の仕方、およびその呼び出し方について基礎的なことを理解する。\n",
    "- 関数内のローカル変数について理解する。"
   ]
  },
  {
   "cell_type": "markdown",
   "id": "quick-optics",
   "metadata": {},
   "source": [
    "## 簡単な例"
   ]
  },
  {
   "cell_type": "markdown",
   "id": "functioning-auditor",
   "metadata": {},
   "source": [
    "Pythonでは、処理のまとまりを「関数」として定義し、あとで呼び出せる。次のセルでは「`\"わんわん\"`と出力する」という処理を行う`inu`関数を定義している<a name=\"cite_ref-2\"></a>[<sup>[2]</sup>](#cite_note-2)。"
   ]
  },
  {
   "cell_type": "code",
   "execution_count": null,
   "id": "serial-therapy",
   "metadata": {},
   "outputs": [],
   "source": [
    "def inu():\n",
    "    print(\"わんわん\")"
   ]
  },
  {
   "cell_type": "markdown",
   "id": "blessed-station",
   "metadata": {},
   "source": [
    "文法のポイントは以下の通りである。\n",
    "\n",
    "- 関数の定義は`def`キーワードで始まる。\n",
    "- `def`キーワードの後に関数名（ここでは`inu`）を書く。\n",
    "- その後に引数<a name=\"cite_ref-3\"></a>[<sup>[3]</sup>](#cite_note-3)（parameter）リストを丸括弧で囲んで書く。ただし、この例では引数は空`()`としている。その後にコロン（`:`）を書く。\n",
    "- 関数で行いたい処理は、インデントによって表されたブロックに書く<a name=\"cite_ref-4\"></a>[<sup>[4]</sup>](#cite_note-4)。\n",
    "\n",
    "この時点では、関数`inu`が定義されただけで、その中身の処理が実行されたわけではない。定義された`inu`関数を呼び出してその中身を実行するには次のようにする（関数名の後の丸括弧`()`を忘れないように）。"
   ]
  },
  {
   "cell_type": "code",
   "execution_count": null,
   "id": "danish-command",
   "metadata": {},
   "outputs": [],
   "source": [
    "inu()"
   ]
  },
  {
   "cell_type": "markdown",
   "id": "virtual-collection",
   "metadata": {},
   "source": [
    "関数は何度でも呼び出せる。"
   ]
  },
  {
   "cell_type": "code",
   "execution_count": null,
   "id": "rural-water",
   "metadata": {},
   "outputs": [],
   "source": [
    "inu()\n",
    "inu()"
   ]
  },
  {
   "cell_type": "code",
   "execution_count": null,
   "id": "asian-wrist",
   "metadata": {},
   "outputs": [],
   "source": [
    "for i in range(5):\n",
    "    inu()"
   ]
  },
  {
   "cell_type": "markdown",
   "id": "clean-arrow",
   "metadata": {},
   "source": [
    "なお、関数を`def`文で定義し直した場合、その関数は上書きされる<a name=\"cite_ref-5\"></a>[<sup>[5]</sup>](#cite_note-5)。"
   ]
  },
  {
   "cell_type": "code",
   "execution_count": null,
   "id": "textile-share",
   "metadata": {},
   "outputs": [],
   "source": [
    "def inu():\n",
    "    print(\"わん\")\n",
    "\n",
    "\n",
    "def inu():\n",
    "    print(\"わんわん\")\n",
    "\n",
    "\n",
    "def inu():\n",
    "    print(\"わんわんわん\")\n",
    "\n",
    "\n",
    "inu()  # 最後に定義したものが使われる"
   ]
  },
  {
   "cell_type": "markdown",
   "id": "sitting-ireland",
   "metadata": {},
   "source": [
    "## 引数を使う"
   ]
  },
  {
   "cell_type": "markdown",
   "id": "divided-question",
   "metadata": {},
   "source": [
    "関数には引数といって、その呼び出し時に外部からデータを与えられる。次のセルの`inu`関数は、引数<a name=\"cite_ref-6\"></a>[<sup>[6]</sup>](#cite_note-6)`n`をとり、その値によって鳴く回数を変えている。"
   ]
  },
  {
   "cell_type": "code",
   "execution_count": null,
   "id": "right-three",
   "metadata": {},
   "outputs": [],
   "source": [
    "def inu(n):\n",
    "    print(\"わん\" * n)"
   ]
  },
  {
   "cell_type": "markdown",
   "id": "dramatic-phase",
   "metadata": {},
   "source": [
    "ここでは、`文字列 * 整数`が（`リスト * 整数`と同様に）その文字列を指定された回数だけ繰り返したものを与えることを利用している。"
   ]
  },
  {
   "cell_type": "markdown",
   "id": "unable-christian",
   "metadata": {},
   "source": [
    "関数の呼び出し側は、次のように丸括弧の中にデータを与えることで、関数に引数<a name=\"cite_ref-7\"></a>[<sup>[7]</sup>](#cite_note-7)を渡す<a name=\"cite_ref-8\"></a>[<sup>[8]</sup>](#cite_note-8)。"
   ]
  },
  {
   "cell_type": "code",
   "execution_count": null,
   "id": "disabled-nebraska",
   "metadata": {},
   "outputs": [],
   "source": [
    "inu(1)\n",
    "inu(2)"
   ]
  },
  {
   "cell_type": "code",
   "execution_count": null,
   "id": "stunning-second",
   "metadata": {},
   "outputs": [],
   "source": [
    "for i in range(5):\n",
    "    inu(i)"
   ]
  },
  {
   "cell_type": "markdown",
   "id": "verbal-tradition",
   "metadata": {},
   "source": [
    "2個以上の引数を使うこともできる。"
   ]
  },
  {
   "cell_type": "code",
   "execution_count": null,
   "id": "devoted-shark",
   "metadata": {},
   "outputs": [],
   "source": [
    "def make_sound(sound, n):\n",
    "    print(sound * n)"
   ]
  },
  {
   "cell_type": "code",
   "execution_count": null,
   "id": "engaged-cycling",
   "metadata": {},
   "outputs": [],
   "source": [
    "make_sound(\"わん\", 3)\n",
    "make_sound(\"にゃん\", 2)"
   ]
  },
  {
   "cell_type": "markdown",
   "id": "three-terrain",
   "metadata": {},
   "source": [
    "## 関数を終了する"
   ]
  },
  {
   "cell_type": "markdown",
   "id": "small-police",
   "metadata": {},
   "source": [
    "関数の中でreturn文を使うと、その関数の実行は終了して、呼び出し側に処理が戻る。次の例を見てみよう。"
   ]
  },
  {
   "cell_type": "code",
   "execution_count": null,
   "id": "ahead-aircraft",
   "metadata": {},
   "outputs": [],
   "source": [
    "def make_sounds():\n",
    "    print(\"わんわん\")\n",
    "    print(\"にゃんにゃん\")\n",
    "    return\n",
    "    print(\"がおーがおー\")"
   ]
  },
  {
   "cell_type": "code",
   "execution_count": null,
   "id": "consecutive-pontiac",
   "metadata": {},
   "outputs": [],
   "source": [
    "make_sounds()"
   ]
  },
  {
   "cell_type": "markdown",
   "id": "aquatic-consultancy",
   "metadata": {},
   "source": [
    "3番目の鳴き声が出力されずに関数が終了していることが分かるだろう。通常は、条件判断と組み合わせることで「ある条件が満たされたら関数を終了する」というように使うか、あるいは次で見るように「関数の結果として値を返す」ことに使う。"
   ]
  },
  {
   "cell_type": "markdown",
   "id": "ready-equation",
   "metadata": {},
   "source": [
    "## 値を返す"
   ]
  },
  {
   "cell_type": "markdown",
   "id": "further-reynolds",
   "metadata": {},
   "source": [
    "return文で、キーワード`return`の後に式を与えると、その値を関数の結果として返せる<a name=\"cite_ref-9\"></a>[<sup>[9]</sup>](#cite_note-9)。"
   ]
  },
  {
   "cell_type": "code",
   "execution_count": null,
   "id": "checked-leadership",
   "metadata": {},
   "outputs": [],
   "source": [
    "def square(x):\n",
    "    return x**2"
   ]
  },
  {
   "cell_type": "code",
   "execution_count": null,
   "id": "express-prototype",
   "metadata": {},
   "outputs": [],
   "source": [
    "for i in range(5):\n",
    "    result = square(i)\n",
    "    print(f\"{i} ** 2 ==> {result}\")"
   ]
  },
  {
   "cell_type": "markdown",
   "id": "human-concentrate",
   "metadata": {},
   "source": [
    "<!-- textlint-disable ja-technical-writing/ja-no-mixed-period -->\n",
    "\n",
    "引数をとり、値を返すことによって、数学の「関数」っぽいものとして見えるようになったことだろう。次の例では質点の周りの重力ポテンシャル：\n",
    "\n",
    "<!-- textlint-enable -->"
   ]
  },
  {
   "cell_type": "markdown",
   "id": "hollow-rebound",
   "metadata": {},
   "source": [
    "$$\n",
    "\\phi(x,y,z) = - \\frac{GM}{\\sqrt{x^2+y^2+z^2}},\n",
    "\\tag{1}\n",
    "$$"
   ]
  },
  {
   "cell_type": "markdown",
   "id": "crude-poetry",
   "metadata": {},
   "source": [
    "を定義している。ただし簡単のために$GM=1$となる単位系を取った。"
   ]
  },
  {
   "cell_type": "code",
   "execution_count": null,
   "id": "express-thumb",
   "metadata": {},
   "outputs": [],
   "source": [
    "def potential(x, y, z):\n",
    "    return -1 / (x**2 + y**2 + z**2) ** (1 / 2)"
   ]
  },
  {
   "cell_type": "code",
   "execution_count": null,
   "id": "collectible-junction",
   "metadata": {},
   "outputs": [],
   "source": [
    "potential(3.0, 4.0, 5.0)"
   ]
  },
  {
   "cell_type": "markdown",
   "id": "dangerous-token",
   "metadata": {},
   "source": [
    "## 練習問題"
   ]
  },
  {
   "cell_type": "markdown",
   "id": "adapted-consultancy",
   "metadata": {},
   "source": [
    "(1) 次のような関数を定義せよ。"
   ]
  },
  {
   "cell_type": "markdown",
   "id": "optimum-benchmark",
   "metadata": {},
   "source": [
    "$$\n",
    "f(x) = x^3 + 1 .\n",
    "\\tag{2}\n",
    "$$"
   ]
  },
  {
   "cell_type": "markdown",
   "id": "hairy-inclusion",
   "metadata": {},
   "source": [
    "<!-- textlint-disable jtf-style/4.3.7.山かっこ<> -->\n",
    "$$\n",
    "g(x) =\n",
    "\\begin{cases}\n",
    "\\phantom{-}x , & \\text{for } x \\ge 0 , \\\\\n",
    "-x , & \\text{for } x < 0 .\n",
    "\\end{cases}\n",
    "\\tag{3}\n",
    "$$\n",
    "<!-- textlint-enable -->"
   ]
  },
  {
   "cell_type": "markdown",
   "id": "metallic-queen",
   "metadata": {},
   "source": [
    "## 複数の値を返す"
   ]
  },
  {
   "cell_type": "markdown",
   "id": "ranking-auditor",
   "metadata": {},
   "source": [
    "Pythonの関数が返すものは、必ずしも数である必要はない。文字列でも、リストでも、そのほか何でもよい。ここではリストを返す次の関数を考えよう。"
   ]
  },
  {
   "cell_type": "code",
   "execution_count": null,
   "id": "activated-brazil",
   "metadata": {},
   "outputs": [],
   "source": [
    "def f(x):\n",
    "    return [x, x + 1]"
   ]
  },
  {
   "cell_type": "code",
   "execution_count": null,
   "id": "monetary-canada",
   "metadata": {},
   "outputs": [],
   "source": [
    "f(100)"
   ]
  },
  {
   "cell_type": "code",
   "execution_count": null,
   "id": "defensive-tuesday",
   "metadata": {},
   "outputs": [],
   "source": [
    "a = f(1000)  # 返ってきた値を変数aに代入してみる。\n",
    "\n",
    "print(a[0])\n",
    "print(a[1])"
   ]
  },
  {
   "cell_type": "markdown",
   "id": "beginning-confirmation",
   "metadata": {},
   "source": [
    "なお、Pythonでは複数同時の代入（multiple assignment）が可能である。左辺と右辺をコンマ（`,`）で区切る<a name=\"cite_ref-10\"></a>[<sup>[10]</sup>](#cite_note-10)。ただし要素の数は左辺と右辺で同じでなければならない。"
   ]
  },
  {
   "cell_type": "code",
   "execution_count": null,
   "id": "occasional-steering",
   "metadata": {},
   "outputs": [],
   "source": [
    "x, y = 100, 200\n",
    "\n",
    "print(x)\n",
    "print(y)"
   ]
  },
  {
   "cell_type": "markdown",
   "id": "reasonable-crazy",
   "metadata": {},
   "source": [
    "右辺にはリストを書いてもよい。"
   ]
  },
  {
   "cell_type": "code",
   "execution_count": null,
   "id": "afb93584",
   "metadata": {},
   "outputs": [],
   "source": [
    "x, y = [100, 200]\n",
    "\n",
    "print(x)\n",
    "print(y)"
   ]
  },
  {
   "cell_type": "markdown",
   "id": "8bee190d",
   "metadata": {},
   "source": [
    "つまり関数`f`から返ってきた値を`x`と`y`に同時代入できる。"
   ]
  },
  {
   "cell_type": "code",
   "execution_count": null,
   "id": "continental-accuracy",
   "metadata": {},
   "outputs": [],
   "source": [
    "x, y = f(1000)\n",
    "\n",
    "print(x)\n",
    "print(y)"
   ]
  },
  {
   "cell_type": "markdown",
   "id": "based-possession",
   "metadata": {},
   "source": [
    "## デフォルト引数とキーワード引数"
   ]
  },
  {
   "cell_type": "markdown",
   "id": "noticed-garden",
   "metadata": {},
   "source": [
    "多機能な関数を作ると、引数の数が多くなってしまうことがある。その場合、関数を使う側も多くの引数を間違うことなく正確に渡さなければならず、使い勝手の悪いものになってしまう。Pythonでは、引数に対してデフォルトの値を定義できる<a name=\"cite_ref-11\"></a>[<sup>[11]</sup>](#cite_note-11)。"
   ]
  },
  {
   "cell_type": "code",
   "execution_count": null,
   "id": "brutal-darkness",
   "metadata": {},
   "outputs": [],
   "source": [
    "def func_with_many_params(a, b=0, c=0, d=0, e=0, f=0, g=0):\n",
    "    print(f\"a = {a}\")\n",
    "    print(f\"b = {b}\")\n",
    "    print(f\"c = {c}\")\n",
    "    print(f\"d = {d}\")\n",
    "    print(f\"e = {e}\")\n",
    "    print(f\"f = {f}\")\n",
    "    print(f\"g = {g}\")"
   ]
  },
  {
   "cell_type": "markdown",
   "id": "fresh-irish",
   "metadata": {},
   "source": [
    "上の関数`func_with_many_params`では`b`から`g`までの引数に対してデフォルトの値が与えられている。つまり`a`は必須の引数であり、`b`から`g`はオプション引数である。呼び出し側はオプション引数を何個か省略でき、その場合はデフォルトの値が使われる。"
   ]
  },
  {
   "cell_type": "code",
   "execution_count": null,
   "id": "broken-toronto",
   "metadata": {},
   "outputs": [],
   "source": [
    "func_with_many_params(100)  # bからgを省略"
   ]
  },
  {
   "cell_type": "code",
   "execution_count": null,
   "id": "handed-class",
   "metadata": {},
   "outputs": [],
   "source": [
    "func_with_many_params(100, 200, 300, 400)  # eからgを省略"
   ]
  },
  {
   "cell_type": "code",
   "execution_count": null,
   "id": "optical-technique",
   "metadata": {},
   "outputs": [],
   "source": [
    "func_with_many_params(100, 200, 300, 400, 500, 600, 700)  # 省略なし"
   ]
  },
  {
   "cell_type": "markdown",
   "id": "expanded-appearance",
   "metadata": {},
   "source": [
    "`kwarg=value`という形式のキーワード引数を関数に渡すこともできる。"
   ]
  },
  {
   "cell_type": "code",
   "execution_count": null,
   "id": "electoral-frederick",
   "metadata": {},
   "outputs": [],
   "source": [
    "func_with_many_params(100, e=500)  # 必須引数aとオプション引数eを渡す"
   ]
  },
  {
   "cell_type": "code",
   "execution_count": null,
   "id": "proof-format",
   "metadata": {},
   "outputs": [],
   "source": [
    "func_with_many_params(100, c=300, f=600, g=700)  # 必須引数aとオプション引数c, f, gを渡す"
   ]
  },
  {
   "cell_type": "markdown",
   "id": "sudden-april",
   "metadata": {},
   "source": [
    "## スコープ（変数の有効範囲）"
   ]
  },
  {
   "cell_type": "markdown",
   "id": "appropriate-intersection",
   "metadata": {},
   "source": [
    "Pythonにおいて、関数内で変数に代入すると、その変数の有効範囲はその関数内**のみ**となる。渡された引数が代入された変数の有効範囲もその関数内**のみ**である。関数の外側からは関数内の変数は見えない。また、関数内の変数への代入は関数の外側には影響を与えない<a name=\"cite_ref-12\"></a>[<sup>[12]</sup>](#cite_note-12)。"
   ]
  },
  {
   "cell_type": "code",
   "execution_count": null,
   "id": "gorgeous-midwest",
   "metadata": {},
   "outputs": [],
   "source": [
    "x = 2\n",
    "y = 3\n",
    "\n",
    "\n",
    "def foo(x):\n",
    "    # xとyの有効範囲はこの関数内のみ。\n",
    "    # 関数外のxとyとは違うものとして扱われる。\n",
    "    # なので、xとyを変更しても、関数外のxとyには影響を与えない。\n",
    "    x += 1\n",
    "    y = 300\n",
    "    print(\"関数の中\")\n",
    "    print(x)\n",
    "    print(y)\n",
    "\n",
    "\n",
    "foo(199)\n",
    "\n",
    "print(\"関数の外\")\n",
    "print(x)\n",
    "print(y)"
   ]
  },
  {
   "cell_type": "markdown",
   "id": "amino-central",
   "metadata": {},
   "source": [
    "ただし、関数内で参照された変数が関数内で定義されていない場合、その外側の変数が参照される<a name=\"cite_ref-13\"></a>[<sup>[13]</sup>](#cite_note-13)。"
   ]
  },
  {
   "cell_type": "code",
   "execution_count": null,
   "id": "fancy-norfolk",
   "metadata": {},
   "outputs": [],
   "source": [
    "x = 2\n",
    "y = 3\n",
    "\n",
    "\n",
    "def foo():\n",
    "    # xとyはこの関数内で定義(代入)されていない。\n",
    "    # 関数外のxとyが参照される。\n",
    "    print(\"関数の中\")\n",
    "    print(x)\n",
    "    print(y)\n",
    "\n",
    "\n",
    "foo()\n",
    "\n",
    "print(\"関数の外\")\n",
    "print(x)\n",
    "print(y)"
   ]
  },
  {
   "cell_type": "markdown",
   "id": "retired-architecture",
   "metadata": {},
   "source": [
    "関数内の変数は、内部からしかその名前でアクセスできないという意味で、ローカル変数（local variable）と呼ばれる。これに対して関数の外側の変数は、どこからでもアクセスできるという意味で、グローバル変数（global variable）と呼ばれる。このような変数の有効範囲のことを、一般にスコープ（scope）と呼ぶ。プログラミング言語によってスコープがどのように決定されるかは違う。Pythonは関数によってスコープが作られる言語であると言える<a name=\"cite_ref-14\"></a>[<sup>[14]</sup>](#cite_note-14)。"
   ]
  },
  {
   "cell_type": "markdown",
   "id": "anonymous-accounting",
   "metadata": {},
   "source": [
    "<!-- textlint-disable ja-technical-writing/max-ten,ja-technical-writing/sentence-length -->\n",
    "\n",
    "関数内の変数を外から参照できないというのは不便なことに思えるかも知れない。しかし、このような外部からは内部が参照できない機構（ブラックボックス；black box）を作ることが大きなプログラムを作るときには役に立つ。大きなプログラムをいくつかの関数に分けて、チームで手分けして書くこととしよう。もし、スコープがない、つまりすべての変数がグローバルならば、「`x`という変数はAさんが使うから他の人は決して使ってはいけない」などということをすべての変数に対してあらかじめ決めておく必要がある。うっかりBさんが自分の作っている関数の中で`x`を使うだけで、Aさんの担当部分に影響を及ぼして、プログラムが正常に動作しなくなるだろう（おそらく、うまくいっているときはうまく動くが、よく分からない複雑な条件下でなぜか動かなくなるという、悪夢のような状況になる）。\n",
    "\n",
    "<!-- textlint-enable -->"
   ]
  },
  {
   "cell_type": "markdown",
   "id": "impaired-outreach",
   "metadata": {},
   "source": [
    "## 関数を関数に渡す、関数から関数を返す"
   ]
  },
  {
   "cell_type": "markdown",
   "id": "animal-leeds",
   "metadata": {},
   "source": [
    "もう少し関数について慣れるために、次の例を考えよう。"
   ]
  },
  {
   "cell_type": "code",
   "execution_count": null,
   "id": "textile-ivory",
   "metadata": {},
   "outputs": [],
   "source": [
    "def f(x):\n",
    "    return x**2\n",
    "\n",
    "\n",
    "def g(x):\n",
    "    return f(x) + 1\n",
    "\n",
    "\n",
    "f(g(1))"
   ]
  },
  {
   "cell_type": "markdown",
   "id": "orange-friendship",
   "metadata": {},
   "source": [
    "<!-- textlint-disable ja-technical-writing/ja-no-mixed-period -->\n",
    "\n",
    "上の例では\n",
    "- 関数`g`の中で関数`f`を呼び出している、\n",
    "- `g(1)`を評価した結果を関数`f`に渡している、\n",
    "\n",
    "ということをしているが、落ち着いて考えればこれまでに学んだことの延長線上にあるものであり、何ら新しいことをしているわけではないことがわかるだろう。\n",
    "\n",
    "<!-- textlint-enable -->"
   ]
  },
  {
   "cell_type": "markdown",
   "id": "agreed-launch",
   "metadata": {},
   "source": [
    "これに対し、次の例では、関数`h`を関数`average`に渡し、`average`の内部で`f(x1)`、`f(x2)`のように呼び出している。"
   ]
  },
  {
   "cell_type": "code",
   "execution_count": null,
   "id": "perceived-hotel",
   "metadata": {},
   "outputs": [],
   "source": [
    "def h(x):\n",
    "    return x**2\n",
    "\n",
    "\n",
    "def average(f, x1, x2):\n",
    "    return (f(x1) + f(x2)) / 2\n",
    "\n",
    "\n",
    "average(h, 1, 2)"
   ]
  },
  {
   "cell_type": "markdown",
   "id": "written-campus",
   "metadata": {},
   "source": [
    "次の例では、`make_func`はその内部で定義したローカル関数<a name=\"cite_ref-15\"></a>[<sup>[15]</sup>](#cite_note-15)を返し、呼び出し側ではそれを`f(20)`のように評価している。"
   ]
  },
  {
   "cell_type": "code",
   "execution_count": null,
   "id": "above-status",
   "metadata": {},
   "outputs": [],
   "source": [
    "def make_func(x):\n",
    "    def add(y):\n",
    "        return x + y\n",
    "\n",
    "    return add\n",
    "\n",
    "\n",
    "f = make_func(1)\n",
    "f(20)"
   ]
  },
  {
   "cell_type": "markdown",
   "id": "bulgarian-personal",
   "metadata": {},
   "source": [
    "## 再帰呼び出し"
   ]
  },
  {
   "cell_type": "markdown",
   "id": "worthy-framing",
   "metadata": {},
   "source": [
    "ある関数の中でその関数自身を呼び出せる<a name=\"cite_ref-16\"></a>[<sup>[16]</sup>](#cite_note-16)<a name=\"cite_ref-17\"></a>[<sup>[17]</sup>](#cite_note-17)。これは、漸化式で定義された数列の計算など、再帰的な構造を持つアルゴリズムの記述に適している。次の例では正の整数$n$に対し階乗を求める関数`factorial`を再帰呼び出しによって定義している<a name=\"cite_ref-18\"></a>[<sup>[18]</sup>](#cite_note-18)<a name=\"cite_ref-19\"></a>[<sup>[19]</sup>](#cite_note-19)。"
   ]
  },
  {
   "cell_type": "code",
   "execution_count": null,
   "id": "secure-musician",
   "metadata": {},
   "outputs": [],
   "source": [
    "def factorial(n):\n",
    "    if n == 1:\n",
    "        return 1\n",
    "    else:\n",
    "        return n * factorial(n - 1)"
   ]
  },
  {
   "cell_type": "code",
   "execution_count": null,
   "id": "offshore-advertiser",
   "metadata": {},
   "outputs": [],
   "source": [
    "factorial(5)"
   ]
  },
  {
   "cell_type": "markdown",
   "id": "powered-supply",
   "metadata": {},
   "source": [
    "ただし、この場合は反復処理を使って同じことをする関数を次のようにも定義できる。"
   ]
  },
  {
   "cell_type": "code",
   "execution_count": null,
   "id": "hazardous-rochester",
   "metadata": {},
   "outputs": [],
   "source": [
    "def factorial(n):\n",
    "    result = 1\n",
    "    for i in range(1, n + 1):\n",
    "        result *= i\n",
    "    return result"
   ]
  },
  {
   "cell_type": "markdown",
   "id": "modified-faith",
   "metadata": {},
   "source": [
    "<!-- textlint-disable ja-technical-writing/ja-no-mixed-period -->\n",
    "\n",
    "次の例は、以下の漸化式\n",
    "\n",
    "<!-- textlint-enable -->"
   ]
  },
  {
   "cell_type": "markdown",
   "id": "color-equity",
   "metadata": {},
   "source": [
    "$$\n",
    "F_1 = F_2 = 1,\n",
    "\\tag{4}\n",
    "$$"
   ]
  },
  {
   "cell_type": "markdown",
   "id": "seventh-measure",
   "metadata": {},
   "source": [
    "$$\n",
    "F_{n} = F_{n-1} + F_{n-2}, \\quad \\text{for } n \\ge 3 ,\n",
    "\\tag{5}\n",
    "$$"
   ]
  },
  {
   "cell_type": "markdown",
   "id": "outstanding-guidance",
   "metadata": {},
   "source": [
    "で定義されるフィボナッチ数列の第$n$項を求める関数`fib`である<a name=\"cite_ref-20\"></a>[<sup>[20]</sup>](#cite_note-20)。"
   ]
  },
  {
   "cell_type": "code",
   "execution_count": null,
   "id": "supposed-cycling",
   "metadata": {},
   "outputs": [],
   "source": [
    "def fib(n):\n",
    "    if n == 1 or n == 2:\n",
    "        return 1\n",
    "    else:\n",
    "        return fib(n - 1) + fib(n - 2)"
   ]
  },
  {
   "cell_type": "code",
   "execution_count": null,
   "id": "dressed-prince",
   "metadata": {},
   "outputs": [],
   "source": [
    "for i in range(1, 11):\n",
    "    print(fib(i))"
   ]
  },
  {
   "cell_type": "markdown",
   "id": "welcome-opportunity",
   "metadata": {},
   "source": [
    "## 練習問題"
   ]
  },
  {
   "cell_type": "markdown",
   "id": "molecular-squad",
   "metadata": {},
   "source": [
    "(2) 以下の漸化式で定義されるトリボナッチ数列の第$n$項を求める関数`tri`を書け。"
   ]
  },
  {
   "cell_type": "markdown",
   "id": "biblical-blackberry",
   "metadata": {},
   "source": [
    "$$\n",
    "T_1 = 0, \\quad\n",
    "T_2 = T_3 = 1,\n",
    "\\tag{6}\n",
    "$$"
   ]
  },
  {
   "cell_type": "markdown",
   "id": "brave-underwear",
   "metadata": {},
   "source": [
    "$$\n",
    "T_{n} = T_{n-1} + T_{n-2} + T_{n-3} , \\quad \\text{for } n \\ge 4 .\n",
    "\\tag{7}\n",
    "$$"
   ]
  },
  {
   "cell_type": "markdown",
   "id": "8fbd6b9d",
   "metadata": {},
   "source": [
    "ちなみにトリボナッチ数列の第10項は$T_{10}=81$となる。"
   ]
  },
  {
   "cell_type": "markdown",
   "id": "floppy-developer",
   "metadata": {},
   "source": [
    "## ブラックジャック"
   ]
  },
  {
   "cell_type": "markdown",
   "id": "distinct-expense",
   "metadata": {},
   "source": [
    "ブラックジャック（Blackjack）というトランプゲームを知っているだろうか。ここでは次のような簡易版（というより変則版）ブラックジャックを考える。\n",
    "- 人間をプレーヤー、コンピューターを親（ディーラー）とする。\n",
    "- プレーヤーは最大3枚までカードを引けるが、引くか引かないかは選択できる。\n",
    "- 親は必ず2枚だけ引く。\n",
    "- カードの数字の合計を得点として勝敗を競う。ただし、21点を**超えた**とき（バスト）は負けとなる。\n",
    "- カードは1から10までとする。本来は、A（エース）は1と11のどちらか都合のよいほうとして数えるのだが、簡単のためそれはしないことにする。\n",
    "- カードの「山」は乱数で作る。つまり乱数によって山から引くカードを決める。本来は、特定の数字のカードは（トランプ1組の場合）4枚以内であるべきだが、簡単のためそのチェックはしないことにする。"
   ]
  },
  {
   "cell_type": "markdown",
   "id": "34207fca",
   "metadata": {},
   "source": [
    "<!-- textlint-disable\n",
    "ja-engineering-paper/prh,\n",
    "ja-technical-writing/ja-no-weak-phrase,\n",
    "ja-technical-writing/ja-no-mixed-period\n",
    "-->\n",
    "\n",
    "「上記のルールのゲームをプログラムせよ」といきなり言われても、途方に暮れてしまうかもしれない。しかし、たとえば\n",
    "\n",
    "- 1枚ランダムにカードを引いてその得点を返す関数\n",
    "- 人間の手札を構成し、その得点を返す関数\n",
    "- コンピューターの手札を構成し、その得点を返す関数\n",
    "- 人間とコンピューターの得点を比較して、勝ち負けを判断する関数\n",
    "- これらを組み合わせてゲーム全体の進行を制御する関数\n",
    "\n",
    "などと作業を細かく分割すると、それぞれの関数で必要な処理は比較的明確であろう。\n",
    "\n",
    "<!-- textlint-enable -->"
   ]
  },
  {
   "cell_type": "markdown",
   "id": "liquid-diploma",
   "metadata": {},
   "source": [
    "## 演習課題"
   ]
  },
  {
   "cell_type": "markdown",
   "id": "round-earthquake",
   "metadata": {},
   "source": [
    "(1) 上記のルールのブラックジャックを行うプログラムは次のように書ける。"
   ]
  },
  {
   "cell_type": "code",
   "execution_count": null,
   "id": "grave-comparative",
   "metadata": {},
   "outputs": [],
   "source": [
    "# 課題解答4.1  <-- 提出する際に、この行を必ず含めること。\n",
    "\n",
    "import random\n",
    "\n",
    "# メッセージとともにユーザーに「y」か「n」を入力させる関数。\n",
    "# 「y」であればTrue、「n」であればFalseを返す。\n",
    "# 「y」と「n」以外の入力は受け付けない（ユーザー入力を繰り返す）。\n",
    "def ask_yesno(message):\n",
    "    answer = input(f\"{message} [y/n]\")\n",
    "    while True:\n",
    "        if answer == \"y\":\n",
    "            return True\n",
    "        elif answer == \"n\":\n",
    "            return False\n",
    "        answer = input(f\"[y/n]\")\n",
    "\n",
    "\n",
    "# ランダムに1枚カードを引いて、その得点を返す関数。\n",
    "# ついでに引いたカードを表示する。\n",
    "def get_card(name):\n",
    "    card = random.randint(1, 10)\n",
    "    print(f\"{name}の引いたカードは{card}です\")\n",
    "    return card\n",
    "\n",
    "\n",
    "# 人間の手札（得点の和）を決めて、それを返す関数。\n",
    "def your_hand():\n",
    "    score = 0\n",
    "    for i in range(3):\n",
    "        if not ask_yesno(\"もう一枚引きますか?\"):\n",
    "            break\n",
    "        score += get_card(\"あなた\")\n",
    "    return score\n",
    "\n",
    "\n",
    "# コンピューターの手札（得点の和）を決めて、それを返す関数。\n",
    "def com_hand():\n",
    "    score = 0\n",
    "    for i in range(2):\n",
    "        score += get_card(\"コンピューター\")\n",
    "    return score\n",
    "\n",
    "\n",
    "# youが人間の手札（得点の和）、comがコンピューターの手札（得点の和）として、\n",
    "# 勝ち負けの判断をして表示する関数。\n",
    "def fight(you, com):\n",
    "    print(f\"あなたは{you}、 コンピューターは{com}\")\n",
    "    # 細かいルール:\n",
    "    # プレイヤーとディーラーがともにバストの場合 ==> （先に引いた）プレイヤーの負け\n",
    "    if you > 21 or you < com <= 21:\n",
    "        print(\"あなたの負け\")\n",
    "    elif you == com:\n",
    "        print(\"引き分け\")\n",
    "    else:\n",
    "        print(\"あなたの勝ち\")\n",
    "\n",
    "\n",
    "# ブラックジャックをする関数。\n",
    "def blackjack():\n",
    "    you = your_hand()\n",
    "    com = com_hand()\n",
    "    fight(you, com)\n",
    "\n",
    "\n",
    "# 実行する。\n",
    "blackjack()"
   ]
  },
  {
   "cell_type": "markdown",
   "id": "technological-limit",
   "metadata": {},
   "source": [
    "<!-- textlint-disable ja-technical-writing/no-mix-dearu-desumasu -->\n",
    "\n",
    "上のプログラムの構造を理解したうえで（関数によって各機能が分割されていることに注意せよ）、次のように書き換えよ。\n",
    "- 人間は毎回カードを引くかどうかを選択しているが、よく考えると2回までなら絶対に得点の和が20を超えないのでバストしない。よって人間は、2回は（確認をしないで）必ず引いて、**3回目のみカードを引くかどうかを選択**するようにする。\n",
    "- コンピューターは2回のみカードを引いている。だがコンピューターにも3枚目のカードを引く権利があってよいはずだ。しかしバストするのも怖いので、コンピューターは2回カードを引いた時点での**得点が17未満なら3枚目のカードを引く**こととする。\n",
    "- カードは1から10までになっているが、トランプには絵札（11、12、13）もある。ブラックジャックではこれらの絵札は10としてカウントする。よって、引ける**カードを1から13までとし、11から13までの絵札の点は10**とする。例：12が出たら「…の引いたカードは12です」と表示されるが、得点は10である。\n",
    "\n",
    "<!-- textlint-enable -->"
   ]
  },
  {
   "cell_type": "markdown",
   "id": "partial-background",
   "metadata": {},
   "source": [
    "## 発展課題"
   ]
  },
  {
   "cell_type": "markdown",
   "id": "sustainable-drunk",
   "metadata": {},
   "source": [
    "<!-- textlint-disable jtf-style/1.1.1.本文 -->\n",
    "\n",
    "余裕があればやってみてください。\n",
    "\n",
    "<!-- textlint-enable -->"
   ]
  },
  {
   "cell_type": "markdown",
   "id": "f315e5a1",
   "metadata": {},
   "source": [
    "再帰呼び出しによる2次元平面内での迷路探索を考える（図1）。迷路は格子状のマス目によって表現されている。各マスは通路と壁のいずれかである。迷路の状態は次のコードのように`m`という変数に、各マスを表す整数の入ったリストのリストとして格納されており、$i$行$j$列の位置のマスには`m[i][j]`によってアクセスできる。"
   ]
  },
  {
   "cell_type": "code",
   "execution_count": null,
   "id": "88a21672",
   "metadata": {},
   "outputs": [],
   "source": [
    "# 迷路の状態を表す定数\n",
    "\n",
    "PASSAGE = 0  # 通路。まだ「通過済み」とマークしていない。\n",
    "VISITED = 1  # 通路。通過済み。\n",
    "WALL = 2  # 壁。移動不可。\n",
    "\n",
    "# 迷路の状態を格納するリストのリスト\n",
    "\n",
    "m = [\n",
    "    [2, 2, 2, 2, 2],\n",
    "    [2, 0, 2, 0, 2],\n",
    "    [2, 0, 2, 2, 2],\n",
    "    [2, 0, 0, 0, 2],\n",
    "    [2, 2, 2, 2, 2],\n",
    "]"
   ]
  },
  {
   "cell_type": "markdown",
   "id": "77e87efe",
   "metadata": {},
   "source": [
    "![迷路探索](https://tueda.github.io/PS2022SS/notebooks/images/maze-explorer.png)\n",
    "\n",
    "<!-- textlint-disable ja-technical-writing/ja-no-mixed-period -->\n",
    "\n",
    "図1. 迷路の探索\n",
    "\n",
    "<!-- textlint-enable -->"
   ]
  },
  {
   "cell_type": "markdown",
   "id": "4e076746",
   "metadata": {},
   "source": [
    "いま、プレーヤーが3行1列の位置にいたとする。プレーヤーは通路のマスは自由に移動できるが、壁のマスには移動できない。プレーヤーの初期位置から、通路を通って辿り着ける位置をすべて調べたい。たとえば、図1の迷路であれば、1行3列の位置は隠し部屋となっており、プレーヤーは到達できない。初期位置も含めた5マスがプレーヤーの到達可能位置となる。このような探索を実現するために、次のような再帰呼び出しのための関数`walk`を書いて、下のプログラムを完成させよ。"
   ]
  },
  {
   "cell_type": "markdown",
   "id": "8471b216",
   "metadata": {},
   "source": [
    "- `walk`はプレーヤーの位置（$i$行$j$列）を引数`i`、`j`として取る。\n",
    "- $i$行$j$列が（まだ通過済みとマークされてない）通路ならば、「通過済み」とマークする。\n",
    "- 隣接する4つのマスそれぞれに対して、まだ通過済みとマークされてない通路ならば、そのマスに対して再帰的に`walk`を呼び出す。"
   ]
  },
  {
   "cell_type": "code",
   "execution_count": null,
   "id": "51acb80c",
   "metadata": {},
   "outputs": [],
   "source": [
    "# 課題解答4.2  <-- 提出する際に、この行を必ず含めること。\n",
    "\n",
    "# 迷路の状態を表す定数（変更しないこと）\n",
    "\n",
    "PASSAGE = 0  # 通路。まだ「通過済み」とマークしていない。\n",
    "VISITED = 1  # 通路。通過済み。\n",
    "WALL = 2  # 壁。移動不可。\n",
    "\n",
    "# 迷路データの読み込み（変更しないこと）\n",
    "# この部分の詳細について理解する必要はない。\n",
    "# 重要なのは、mという変数に迷路の状態が格納されるということ。\n",
    "\n",
    "import base64\n",
    "import zlib\n",
    "\n",
    "\n",
    "def load_maze(data, n_rows, n_cols):\n",
    "    data = zlib.decompress(base64.b64decode(data.replace(\" \", \"\").encode()))\n",
    "    m = [[0] * n_cols for _ in range(n_rows)]\n",
    "    n = int.from_bytes(data, \"big\")\n",
    "    for i in range(n_rows * n_cols):\n",
    "        m[i // n_cols][i % n_cols] = ((n >> i) & 1) * WALL\n",
    "    return m\n",
    "\n",
    "\n",
    "maze_data = \"\"\"\n",
    "eJz7/x8GDnAwMHD/r/////UBDgEG7buvr71efdWhaVf3Vbltq35fNJ6yqvla4rYV9lfOLF\n",
    "q/+O68bSu0DxovWb37fpnZquZDDpNWvb5379sq7iOTBFb9frvtmH73UbXiDOu3OdcPPz7p\n",
    "OY2v/3W00QvrU0Fpqx+/unZmVfepKTNXWd/aunl19qmlahrer/e+eX/7BINng/D9/7L6uw\n",
    "8wbn2x+v53Bb3FB0LrV6z/fzFQa/EB8fCq93cvXmFivh4b/ur/AQcGLma44/8DAOb/eyA=\n",
    "\"\"\"\n",
    "\n",
    "m = load_maze(maze_data, 40, 40)  # 迷路の状態を格納するリストのリスト\n",
    "\n",
    "\n",
    "# 再帰呼び出しによって迷路探索を行う関数（となるように変更せよ）。\n",
    "# 引数 i と j は現在位置を表す。\n",
    "# m[i][j] が 0（= PASSAGE）であれば通路。まだ「通過済み」とマークしていない。\n",
    "# m[i][j] が 1（= VISITED）であれば通路。通過済み。\n",
    "# m[i][j] が 2（= WALL）であれば壁。移動不可。\n",
    "#\n",
    "# なお、課題の迷路は（上の例の迷路とは違って）40行40列の大きさである。\n",
    "\n",
    "\n",
    "def walk(i, j):\n",
    "    m[i][j] = VISITED  # 現在の位置を「通過済み」とマークする。\n",
    "\n",
    "\n",
    "# 初期位置（変更しないこと）。\n",
    "# この位置には壁がないことを仮定してよい（つまり最初は m[6][12] == PASSAGE）。\n",
    "\n",
    "walk(6, 12)\n",
    "\n",
    "# 結果を表示する（変更しないこと）。\n",
    "# VISITED ==> 赤く塗る。\n",
    "# WALL ==> 黒く塗る。\n",
    "%matplotlib inline\n",
    "import matplotlib.pyplot as plt\n",
    "import matplotlib.colors\n",
    "import numpy as np\n",
    "\n",
    "fig, ax = plt.subplots()\n",
    "ax.matshow(m, vmin=0, vmax=2, cmap=matplotlib.colors.ListedColormap([\"w\", \"r\", \"k\"]))\n",
    "ax.axis(\"off\")\n",
    "plt.show()"
   ]
  },
  {
   "cell_type": "markdown",
   "id": "critical-miracle",
   "metadata": {},
   "source": [
    "## 脚注"
   ]
  },
  {
   "cell_type": "markdown",
   "id": "expressed-state",
   "metadata": {},
   "source": [
    "<!-- textlint-disable ja-technical-writing/ja-no-mixed-period -->\n",
    "\n",
    "<a name=\"cite_note-1\"></a>1.&nbsp;[^](#cite_ref-1)\n",
    "計算手順を関数によって分割することをさらに発展させると、次の2つのプログラミングパラダイムに辿り着くだろう：\n",
    "- （分割された）データと計算手順を組み合わせたオブジェクトを中心に据えるオブジェクト指向プログラミング。\n",
    "- 参照透過性を重視した関数型プログラミング。\n",
    "\n",
    "現代的なプログラミング言語の多くと同様に、Pythonは両方の特徴を取り入れたマルチパラダイムプログラミング言語となっている（詳しくは[クラス](https://docs.python.org/ja/3/tutorial/classes.html)や[関数型プログラミング](https://docs.python.org/ja/3/howto/functional.html)を参照せよ）。\n",
    "\n",
    "<!-- textlint-enable -->"
   ]
  },
  {
   "cell_type": "markdown",
   "id": "difficult-cloud",
   "metadata": {},
   "source": [
    "<!-- textlint-disable ja-technical-writing/sentence-length -->\n",
    "\n",
    "<a name=\"cite_note-2\"></a>2.&nbsp;[^](#cite_ref-2)\n",
    "ここでの例のような値を返さない「関数」のことを、プログラミング言語によっては手続き（procedure）、サブルーチン（subroutine）と呼んで関数（function）とは区別することもある。Pythonの値を返さない「関数」は、何もないという値`None`を返している。\n",
    "\n",
    "<!-- textlint-enable -->"
   ]
  },
  {
   "cell_type": "markdown",
   "id": "latter-african",
   "metadata": {},
   "source": [
    "<a name=\"cite_note-3\"></a>3.&nbsp;[^](#cite_ref-3)\n",
    "通常、引数は「ひきすう」というように湯桶読みされる。"
   ]
  },
  {
   "cell_type": "markdown",
   "id": "appropriate-uncle",
   "metadata": {},
   "source": [
    "<a name=\"cite_note-4\"></a>4.&nbsp;[^](#cite_ref-4)\n",
    "最初に関数の説明（人間用のコメント）として[docstring](https://docs.python.org/ja/3/glossary.html#term-docstring)を書くことも多い。"
   ]
  },
  {
   "cell_type": "markdown",
   "id": "divine-disaster",
   "metadata": {},
   "source": [
    "<a name=\"cite_note-5\"></a>5.&nbsp;[^](#cite_ref-5)\n",
    "と言うよりも、`def`による関数定義も「変数に関数を代入する」ことだと思ってよいだろう。\n",
    "```python\n",
    "dog = lambda: print(\"Bow Wow\")  # 右辺はラムダ式による無名関数\n",
    "dog()\n",
    "```"
   ]
  },
  {
   "cell_type": "markdown",
   "id": "still-crime",
   "metadata": {},
   "source": [
    "<a name=\"cite_note-6\"></a>6.&nbsp;[^](#cite_ref-6)\n",
    "関数の定義に使われている引数としての変数を特に仮引数（formal parameter）と呼ぶことがある。"
   ]
  },
  {
   "cell_type": "markdown",
   "id": "selected-marshall",
   "metadata": {},
   "source": [
    "<a name=\"cite_note-7\"></a>7.&nbsp;[^](#cite_ref-7)\n",
    "関数の呼び出し時に与える引数を特に実引数（actual argument）と呼ぶことがある。"
   ]
  },
  {
   "cell_type": "markdown",
   "id": "assigned-laser",
   "metadata": {},
   "source": [
    "<!-- textlint-disable ja-engineering-paper/ja-hiragana-keishikimeishi,ja-technical-writing/max-ten,ja-technical-writing/sentence-length -->\n",
    "\n",
    "<a name=\"cite_note-8\"></a>8.&nbsp;[^](#cite_ref-8)\n",
    "初学者は完全に理解しなくてもよいが、Pythonは引数をともなう関数呼び出しにおいて、値呼び（call by value、あるいは値渡し；pass by valueとも呼ばれる）を評価戦略（evaluation strategy）として採用している。呼び出し側で実引数として変数を与えた場合、その変数が評価され、結果の値が関数側の仮引数として新たな変数に束縛される。よって関数内で仮引数である変数に代入操作を行っても呼び出し側の実引数である変数に**影響を与えない**。CやJavaも、Pythonと同様に値呼びを採用している。一方、多くのFortranのシステムは参照呼び（call by reference、あるいは参照渡し；pass by reference）を採用しており、仮引数である変数への代入は呼び出し側の実引数に**影響する**。C++やC#、VBAなどは値呼び、参照呼びのどちらを使うかを指定できる。\n",
    "\n",
    "さて、JavaやPythonなどには参照呼び・参照渡しは言語仕様として存在しないのだが、関数への実引数としてオブジェクトを与えると**オブジェクトへの参照が値渡し**される。ネットではどうも[そのことを参照渡しと呼んでしまう界隈](https://qiita.com/raccy/items/d4c5e7995a8fc90109ee)が存在するらしい。残念ながら本来の意味とは違う意味で「参照渡し」という用語が使われてしまっているわけだが、皆さんは誤解しないでいただきたい。\n",
    "\n",
    "<!-- textlint-enable -->\n",
    "<!-- textlint-disable ja-engineering-paper/prh,ja-technical-writing/ja-no-weak-phrase -->\n",
    "\n",
    "リストのようにミュータブルなオブジェクトを関数の実引数として渡すと、上記のように関数側には参照が値渡しされるため、仮引数である変数への操作（要素の追加、上書きなどの変更）は呼び出し側に影響する。が、無用な混乱をさけるため、この授業ではそのような操作はしない（と思う）。引数で渡す代わりに今回の発展課題の`m`のようにグローバル変数を使う。\n",
    "\n",
    "<!-- textlint-enable -->"
   ]
  },
  {
   "cell_type": "markdown",
   "id": "proud-villa",
   "metadata": {},
   "source": [
    "<a name=\"cite_note-9\"></a>9.&nbsp;[^](#cite_ref-9)\n",
    "関数から返ってきた値を、戻り値（return value）、返り値、返却値などと呼ぶ。"
   ]
  },
  {
   "cell_type": "markdown",
   "id": "geological-intro",
   "metadata": {},
   "source": [
    "<a name=\"cite_note-10\"></a>10.&nbsp;[^](#cite_ref-10)\n",
    "右辺はタプルであり（タプルのパック；tuple packing）、また、左辺への代入時にシーケンスのアンパック（sequence unpacking）が起こっている。"
   ]
  },
  {
   "cell_type": "markdown",
   "id": "4bc83b99",
   "metadata": {},
   "source": [
    "なお、関数から返す値の個数があらかじめ決まっている場合は、普通はリストよりもタプルを使うことが多い。"
   ]
  },
  {
   "cell_type": "markdown",
   "id": "3f7153fc",
   "metadata": {},
   "source": [
    "```python\n",
    "def f(x):\n",
    "    return x, x + 1\n",
    "```"
   ]
  },
  {
   "cell_type": "markdown",
   "id": "liked-venice",
   "metadata": {},
   "source": [
    "<a name=\"cite_note-11\"></a>11.&nbsp;[^](#cite_ref-11)\n",
    "デフォルト引数、キーワード引数を含む関数定義の詳細については[ここ](https://docs.python.org/ja/3/tutorial/controlflow.html#more-on-defining-functions)を参照せよ。"
   ]
  },
  {
   "cell_type": "markdown",
   "id": "false-switzerland",
   "metadata": {},
   "source": [
    "<a name=\"cite_note-12\"></a>12.&nbsp;[^](#cite_ref-12)\n",
    "外側の変数を変更したい場合は[global文](https://docs.python.org/ja/3/reference/simple_stmts.html#the-global-statement)や[nonlocal文](https://docs.python.org/ja/3/reference/simple_stmts.html#the-nonlocal-statement)による宣言が必要である。"
   ]
  },
  {
   "cell_type": "markdown",
   "id": "geographic-samuel",
   "metadata": {},
   "source": [
    "<a name=\"cite_note-13\"></a>13.&nbsp;[^](#cite_ref-13)\n",
    "ローカル変数としての名前の束縛は、関数定義の中に変数への代入が見つかった時点（その関数を実際に実行する前）で起こる。次の例では（`x = 1`の文は絶対に実行されないが）`x`はローカルとなるので、代入前に参照したこととなりエラーが起こる。\n",
    "```python\n",
    "x = 2\n",
    "\n",
    "def f():\n",
    "    print(x)\n",
    "    if False:\n",
    "        x = 1\n",
    "    \n",
    "f()\n",
    "```\n",
    "一方で、変数の名前解決は実行時に行われる。関数の定義時に定義されていなかったグローバル変数を参照しようとしてもよい（実行時に定義されていれば）。\n",
    "```python\n",
    "def f():\n",
    "    print(new_x)\n",
    "    \n",
    "new_x = 3\n",
    "\n",
    "f()\n",
    "```"
   ]
  },
  {
   "cell_type": "markdown",
   "id": "looking-durham",
   "metadata": {},
   "source": [
    "<a name=\"cite_note-14\"></a>14.&nbsp;[^](#cite_ref-14)\n",
    "関数定義のほかには、クラス定義や（サブ）モジュールもスコープを作る。"
   ]
  },
  {
   "cell_type": "markdown",
   "id": "arctic-lafayette",
   "metadata": {},
   "source": [
    "<a name=\"cite_note-15\"></a>15.&nbsp;[^](#cite_ref-15)\n",
    "[クロージャ](https://ja.wikipedia.org/wiki/%E3%82%AF%E3%83%AD%E3%83%BC%E3%82%B8%E3%83%A3)（closure）となっており、`gen_func`に渡された`x`の値が保存されている。"
   ]
  },
  {
   "cell_type": "markdown",
   "id": "german-executive",
   "metadata": {},
   "source": [
    "<a name=\"cite_note-16\"></a>16.&nbsp;[^](#cite_ref-16)\n",
    "ある関数からその関数を呼ぶ他の関数を呼ぶ、あるいは2つ以上の関数が相互に呼び出し合う場合（相互再帰）も含む。"
   ]
  },
  {
   "cell_type": "markdown",
   "id": "apparent-facial",
   "metadata": {},
   "source": [
    "<a name=\"cite_note-17\"></a>17.&nbsp;[^](#cite_ref-17)\n",
    "ただし最大再帰回数（再帰の深さ）はシステムに依存する（[sys.getrecursionlimit](https://docs.python.org/ja/3/library/sys.html#sys.getrecursionlimit)を参照）。"
   ]
  },
  {
   "cell_type": "markdown",
   "id": "functional-malta",
   "metadata": {},
   "source": [
    "<a name=\"cite_note-18\"></a>18.&nbsp;[^](#cite_ref-18)\n",
    "正の整数以外を渡すと最大再帰回数まで自分自身を呼び続けてしまい`RecursionError`が起こる。"
   ]
  },
  {
   "cell_type": "markdown",
   "id": "arabic-kuwait",
   "metadata": {},
   "source": [
    "<a name=\"cite_note-19\"></a>19.&nbsp;[^](#cite_ref-19)\n",
    "なお、mathモジュールに[階乗を求める関数](https://docs.python.org/ja/3/library/math.html#math.factorial)が用意されている。"
   ]
  },
  {
   "cell_type": "markdown",
   "id": "worth-spirit",
   "metadata": {},
   "source": [
    "<a name=\"cite_note-20\"></a>20.&nbsp;[^](#cite_ref-20)\n",
    "ただしフィボナッチ数列の再帰による計算は非効率である。実際には、繰り返しを使って再帰のない形に書き直すか、[メモ化](https://ja.wikipedia.org/wiki/%E3%83%A1%E3%83%A2%E5%8C%96)（memoization）を使うとよい（例えば[これ](https://docs.python.org/ja/3.6/library/functools.html#functools.lru_cache)）。また、世の中には意図的に再帰による計算が非効率になるように考案された[たらいまわし関数](https://ja.wikipedia.org/wiki/%E7%AB%B9%E5%86%85%E9%96%A2%E6%95%B0)と呼ばれるものがある。"
   ]
  }
 ],
 "metadata": {
  "kernelspec": {
   "display_name": "Python 3 (ipykernel)",
   "language": "python",
   "name": "python3"
  },
  "language_info": {
   "codemirror_mode": {
    "name": "ipython",
    "version": 3
   },
   "file_extension": ".py",
   "mimetype": "text/x-python",
   "name": "python",
   "nbconvert_exporter": "python",
   "pygments_lexer": "ipython3",
   "version": "3.7.13"
  }
 },
 "nbformat": 4,
 "nbformat_minor": 5
}
