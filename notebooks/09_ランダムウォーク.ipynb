{
 "cells": [
  {
   "cell_type": "markdown",
   "id": "lesbian-architecture",
   "metadata": {},
   "source": [
    "# ランダムウォーク"
   ]
  },
  {
   "cell_type": "markdown",
   "id": "accomplished-grade",
   "metadata": {},
   "source": [
    "千鳥足で動く酔っ払いの動きをモデル化してみよう（酔歩；ランダムウォーク；random walk）。このようなモデルは物理学（ブラウン運動など）だけでなく、経済学、生物学など様々な分野で応用される。"
   ]
  },
  {
   "cell_type": "markdown",
   "id": "obvious-booking",
   "metadata": {},
   "source": [
    "<!-- textlint-disable ja-technical-writing/max-ten,ja-technical-writing/ja-no-mixed-period -->\n",
    "\n",
    "まずは、1次元方向のみ（数直線上を右か左）の運動を考える。理想的な完全なる酔っ払いは、現在いる場所も分かっていないし、以前にどちらへ動いたかかも覚えていないので、次の一歩で右に動くか左に動くかは完全にランダムである。よって、この酔っ払い（以降、横文字で格好よくランダムウォーカーと呼ぶ）は、$i$歩目によって、現在位置から確率$1/2$で数直線上を$+1$だけ動き、確率$1/2$で数直線上を$-1$だけ動く。つまり、この1ステップでの変位$X_i$は、\n",
    "\n",
    "<!-- textlint-enable -->"
   ]
  },
  {
   "cell_type": "markdown",
   "id": "identified-standing",
   "metadata": {},
   "source": [
    "$$\n",
    "P(X_i = +1) = P(X_i = -1) = \\frac{1}{2},\n",
    "\\tag{1}\n",
    "$$"
   ]
  },
  {
   "cell_type": "markdown",
   "id": "treated-argument",
   "metadata": {},
   "source": [
    "<!-- textlint-disable ja-technical-writing/ja-no-mixed-period -->\n",
    "\n",
    "のような確率で$+1$か$-1$となる確率変数である。$n$歩後の位置は、$n$歩の変位の和\n",
    "\n",
    "<!-- textlint-enable -->"
   ]
  },
  {
   "cell_type": "markdown",
   "id": "metallic-hunter",
   "metadata": {},
   "source": [
    "$$\n",
    "S_n = X_1 + X_2 + \\dots + X_n,\n",
    "\\tag{2}\n",
    "$$"
   ]
  },
  {
   "cell_type": "markdown",
   "id": "dynamic-staff",
   "metadata": {},
   "source": [
    "で与えられる<a name=\"cite_ref-1\"></a>[<sup>[1]</sup>](#cite_note-1)。ただし、$i \\ne j$に対して$X_i$と$X_j$は独立である<a name=\"cite_ref-2\"></a>[<sup>[2]</sup>](#cite_note-2)。また、初期位置を原点とした（$S_0=0$）。"
   ]
  },
  {
   "cell_type": "markdown",
   "id": "protective-overhead",
   "metadata": {},
   "source": [
    "今回は、数値実験によってランダムウォークの性質に迫っていく。"
   ]
  },
  {
   "cell_type": "markdown",
   "id": "apparent-sierra",
   "metadata": {},
   "source": [
    "## 今回のねらい"
   ]
  },
  {
   "cell_type": "markdown",
   "id": "immune-exclusion",
   "metadata": {},
   "source": [
    "- ランダムウォークを計算機上でシミュレーションする方法を理解する。\n",
    "- ランダムウォークの基本的な性質（の一部）を見いだす。"
   ]
  },
  {
   "cell_type": "markdown",
   "id": "alert-oklahoma",
   "metadata": {},
   "source": [
    "## ランダムウォークの軌跡"
   ]
  },
  {
   "cell_type": "markdown",
   "id": "adaptive-compromise",
   "metadata": {},
   "source": [
    "まずはランダムウォーカーがどのように動くのか、ランダムウォークの軌跡（trajectory）を、各ステップでの位置を折れ線グラフとして描くことで図示してみよう<a name=\"cite_ref-3\"></a>[<sup>[3]</sup>](#cite_note-3)。ここでは、位置を表す変数を`x`としている。"
   ]
  },
  {
   "cell_type": "code",
   "execution_count": null,
   "id": "sensitive-third",
   "metadata": {},
   "outputs": [],
   "source": [
    "# 1次元ランダムウォークの軌跡を描く\n",
    "\n",
    "%matplotlib inline\n",
    "import matplotlib.pyplot as plt\n",
    "import random\n",
    "\n",
    "n = 10  # ランダムウォークの総ステップ数\n",
    "\n",
    "xpoints = []  # 各ステップでの位置を保存するリスト\n",
    "\n",
    "# 初期位置\n",
    "x = 0\n",
    "xpoints.append(x)  # xpoints[0] == 0 となるように初期位置を追加しておく\n",
    "\n",
    "for _ in range(n):\n",
    "    # 次のステップでの位置を計算する\n",
    "    # 確率1/2で+1、確率1/2で-1だけ動く\n",
    "    if random.random() < 0.5:\n",
    "        x += 1\n",
    "    else:\n",
    "        x -= 1\n",
    "\n",
    "    # あとでグラフにしたいので、位置を保存\n",
    "    xpoints.append(x)\n",
    "\n",
    "# 最終的な位置を表示\n",
    "print(f\"x_{n} = {x}\")\n",
    "\n",
    "# 軌跡を折れ線グラフとして描く\n",
    "fig, ax = plt.subplots()\n",
    "ax.plot(xpoints)  # 一つだけリストを渡すと縦軸に使われる（横軸は0, 1, 2, ...）\n",
    "ax.grid()\n",
    "ax.set_ylim(-8, 8)  # 縦軸の範囲を固定（でないと、毎回変わってしまうので）\n",
    "ax.set_xlabel(r\"$n$\")\n",
    "ax.set_ylabel(r\"$x_n$\")\n",
    "plt.show()"
   ]
  },
  {
   "cell_type": "markdown",
   "id": "willing-groove",
   "metadata": {},
   "source": [
    "乱数を使った数値実験であるので、もちろん実行するごとに軌跡は変わるはずである。何回か実行してみて確認せよ。"
   ]
  },
  {
   "cell_type": "markdown",
   "id": "usual-thinking",
   "metadata": {},
   "source": [
    "## 練習問題"
   ]
  },
  {
   "cell_type": "markdown",
   "id": "restricted-tucson",
   "metadata": {},
   "source": [
    "(1) ステップ数を100や1000に増やして実行してみよう。その際、縦軸の範囲をそれぞれ$[-25, 25]$、$[-80, 80]$程度に広げるとよい。"
   ]
  },
  {
   "cell_type": "markdown",
   "id": "ongoing-tattoo",
   "metadata": {},
   "source": [
    "## ランダムウォークの変位の分布"
   ]
  },
  {
   "cell_type": "markdown",
   "id": "dense-spring",
   "metadata": {},
   "source": [
    "ランダムウォークを実行するごとに$n$ステップ後の位置（総変位）は異なるが、その分布はどうなるのだろうか<a name=\"cite_ref-4\"></a>[<sup>[4]</sup>](#cite_note-4)。$n$ステップのランダムウォークを何回も繰り返し、$n$ステップ後の位置だけに注目して、そのヒストグラムを作ってみよう。"
   ]
  },
  {
   "cell_type": "code",
   "execution_count": null,
   "id": "domestic-transition",
   "metadata": {},
   "outputs": [],
   "source": [
    "%%time\n",
    "\n",
    "# nステップ後の変位のヒストグラムを描く\n",
    "\n",
    "%matplotlib inline\n",
    "import matplotlib.pyplot as plt\n",
    "import numpy as np\n",
    "import random\n",
    "import statistics\n",
    "\n",
    "n = 100      # ランダムウォークの総ステップ数\n",
    "k = 10 ** 5  # 試行回数 （サンプルサイズ）\n",
    "\n",
    "def walk(n):  # nステップ後の変位を返す\n",
    "    x = 0\n",
    "    for _ in range(n):\n",
    "        if random.random() < 0.5:\n",
    "            x += 1\n",
    "        else:\n",
    "            x -= 1\n",
    "    return x\n",
    "\n",
    "# k回ランダムウォークを行う\n",
    "data = [walk(n) for _ in range(k)]\n",
    "\n",
    "# 平均と標準偏差\n",
    "print(f\"平均 = {statistics.mean(data)}\")\n",
    "print(f\"標準偏差 = {statistics.stdev(data)}\")\n",
    "\n",
    "# ヒストグラム\n",
    "fig, ax = plt.subplots()\n",
    "ax.hist(data, bins=np.arange(-40.5, 41.5), rwidth=0.8)  # [-40, 40] の範囲（各ビンの中央を整数にするために少しずらしてる）\n",
    "ax.grid()\n",
    "ax.set_xlabel(rf\"$x_{{{n}}}$\")\n",
    "ax.set_ylabel(\"number of events\")\n",
    "plt.show()"
   ]
  },
  {
   "cell_type": "markdown",
   "id": "strong-defensive",
   "metadata": {},
   "source": [
    "## 練習問題"
   ]
  },
  {
   "cell_type": "markdown",
   "id": "valuable-amsterdam",
   "metadata": {},
   "source": [
    "(2) ステップ数を400や900にして実行してみよう（当然、それ相応の時間がかかる）。その際、ヒストグラムの範囲は、それぞれ$[-80, 80]$、$[-120, 120]$程度に広げるとよい。"
   ]
  },
  {
   "cell_type": "markdown",
   "id": "elementary-chemical",
   "metadata": {},
   "source": [
    "## ランダムウォークの平均二乗変位"
   ]
  },
  {
   "cell_type": "markdown",
   "id": "convinced-soldier",
   "metadata": {},
   "source": [
    "ランダムウォーカーが右に動くか左に動くかは等確率であるから、$n$ステップ後の変位の分布は左右対称であり、よって平均を取ると$0$となる。しかし、原点からの距離の平均は$0$ではなく、上で見たように変位の分布は$0$でない分散を持っている。いま、$n$ステップ後の平均変位$\\overline{x_n}$は$0$なので、分散$\\sigma_n^2$は平均二乗変位$\\overline{x_n^2}$に等しい。今度は、ステップ数$n$を変化させて、それとともに平均二乗変位$\\overline{x_n^2}$がどのように変わるか調べてみよう<a name=\"cite_ref-5\"></a>[<sup>[5]</sup>](#cite_note-5)。"
   ]
  },
  {
   "cell_type": "code",
   "execution_count": null,
   "id": "frequent-computer",
   "metadata": {},
   "outputs": [],
   "source": [
    "%%time\n",
    "\n",
    "# ランダムウォークのステップ数と平均二乗変位の関係をグラフにする\n",
    "\n",
    "%matplotlib inline\n",
    "import matplotlib.pyplot as plt\n",
    "import numpy as np\n",
    "import random\n",
    "import statistics\n",
    "\n",
    "def walk(n):  # nステップ後の変位を返す（前の例題のwalk関数と同じ）\n",
    "    x = 0\n",
    "    for _ in range(n):\n",
    "        if random.random() < 0.5:\n",
    "            x += 1\n",
    "        else:\n",
    "            x -= 1\n",
    "    return x\n",
    "\n",
    "@np.vectorize\n",
    "def calc_x2(n, k):  # nステップ後の平均二乗変位を返す（k回の平均をとる）\n",
    "    data = [walk(n) ** 2 for _ in range(k)]\n",
    "    return statistics.mean(data)\n",
    "\n",
    "# nを10、20、30、40、...、100とし、nの関数として平均二乗変位をプロットする\n",
    "# 試行回数はそれぞれ10 ** 4\n",
    "\n",
    "n = range(10, 101, 10)  # 10以上101未満で増分10\n",
    "x2 = calc_x2(n, 10 ** 4)\n",
    "\n",
    "fig, ax = plt.subplots()\n",
    "ax.plot(n, x2, \"o\")\n",
    "ax.grid()\n",
    "ax.set_xlim(0)\n",
    "ax.set_ylim(0)\n",
    "ax.set_xlabel(r\"$n$\")\n",
    "ax.set_ylabel(r\"$\\overline{x_n^2}$\")\n",
    "\n",
    "# 比較のための直線を追加\n",
    "n = np.linspace(0, 100)\n",
    "x2 = n\n",
    "ax.plot(n, x2)\n",
    "\n",
    "plt.show()"
   ]
  },
  {
   "cell_type": "markdown",
   "id": "enhanced-pacific",
   "metadata": {},
   "source": [
    "$\\overline{x_n^2} = n$ という関係式が見てとれるだろうか<a name=\"cite_ref-6\"></a>[<sup>[6]</sup>](#cite_note-6)<a name=\"cite_ref-7\"></a>[<sup>[7]</sup>](#cite_note-7)。"
   ]
  },
  {
   "cell_type": "markdown",
   "id": "cubic-bhutan",
   "metadata": {},
   "source": [
    "## 2次元ランダムウォーク"
   ]
  },
  {
   "cell_type": "markdown",
   "id": "innocent-narrative",
   "metadata": {},
   "source": [
    "<!-- textlint-disable ja-technical-writing/ja-no-mixed-period -->\n",
    "\n",
    "これまで、1次元でのランダムウォークを考えてきたが、これは2次元に拡張できる。つまり、2次元座標において、1ステップで\n",
    "\n",
    "<!-- textlint-enable -->\n",
    "\n",
    "- 確率1/4で東に1動く（$x$座標を$+1$）、\n",
    "- 確率1/4で西に1動く（$x$座標を$-1$）、\n",
    "- 確率1/4で北に1動く（$y$座標を$+1$）、\n",
    "- 確率1/4で南に1動く（$y$座標を$-1$）、\n",
    "\n",
    "とするのである。出発点は原点（$x = 0$、$y = 0$）とする。この2次元ランダムウォークの軌跡を、各ステップでの$x$座標、$y$座標を使って折れ線グラフとして描くことで図示してみよう。"
   ]
  },
  {
   "cell_type": "code",
   "execution_count": null,
   "id": "residential-universal",
   "metadata": {},
   "outputs": [],
   "source": [
    "# 2次元ランダムウォークの軌跡を描く\n",
    "\n",
    "%matplotlib inline\n",
    "import matplotlib.pyplot as plt\n",
    "import random\n",
    "\n",
    "n = 100  # ランダムウォークの総ステップ数\n",
    "\n",
    "xpoints = []  # 各ステップでの位置を保存するリスト\n",
    "ypoints = []\n",
    "\n",
    "# 初期位置\n",
    "x = 0\n",
    "y = 0\n",
    "xpoints.append(x)\n",
    "ypoints.append(y)\n",
    "\n",
    "for _ in range(n):\n",
    "    # 次のステップでの位置を計算する\n",
    "    # 確率1/4でそれぞれ東、西、北、南に動く\n",
    "    r = random.random()\n",
    "    if r < 0.25:\n",
    "        x += 1\n",
    "    elif r < 0.5:\n",
    "        x -= 1\n",
    "    elif r < 0.75:\n",
    "        y += 1\n",
    "    else:\n",
    "        y -= 1\n",
    "\n",
    "    # あとでグラフにしたいので、位置を保存\n",
    "    xpoints.append(x)\n",
    "    ypoints.append(y)\n",
    "\n",
    "# 最終的な位置を表示\n",
    "print(f\"x_{n} = {x}\")\n",
    "print(f\"y_{n} = {y}\")\n",
    "\n",
    "# 軌跡を折れ線グラフとして描く\n",
    "fig, ax = plt.subplots()\n",
    "ax.plot(xpoints, ypoints)\n",
    "ax.grid()\n",
    "ax.set_aspect(\"equal\")\n",
    "ax.set_xlabel(r\"$x$\")\n",
    "ax.set_ylabel(r\"$y$\")\n",
    "plt.show()"
   ]
  },
  {
   "cell_type": "markdown",
   "id": "acting-belgium",
   "metadata": {},
   "source": [
    "## 練習問題"
   ]
  },
  {
   "cell_type": "markdown",
   "id": "stuck-remains",
   "metadata": {},
   "source": [
    "(3) ステップ数を（大幅に）増やしながら何回か実行してみよう。ステップ数を10万や100万程度に増やすと、（全体のスケールから見ると1ステップは十分に小さいので）もはや軌跡がギザギザではなく、なめらかで不規則な曲線として見えるだろう。"
   ]
  },
  {
   "cell_type": "markdown",
   "id": "intended-serum",
   "metadata": {},
   "source": [
    "## 自己回避ランダムウォーク"
   ]
  },
  {
   "cell_type": "markdown",
   "id": "finnish-departure",
   "metadata": {},
   "source": [
    "これまでのランダムウォークは、次のステップでどの方向へ移動するかは完全にランダムであり、過去の移動履歴にはまったく依存しなかった。今度は、極端に過去の履歴に依存する例として「一度通った場所は二度と通らない」という規則を設けてみよう。このようなモデルは自己回避ランダムウォーク（self-avoiding walk）と呼ばれ、溶媒中のポリマーのシミュレーションなどに応用される。"
   ]
  },
  {
   "cell_type": "markdown",
   "id": "arabic-administration",
   "metadata": {},
   "source": [
    "ここでは、過去に移動したことのある位置を記録するために[集合型（`set`）](https://docs.python.org/ja/3/library/stdtypes.html#set-types-set-frozenset)を使う<a name=\"cite_ref-8\"></a>[<sup>[8]</sup>](#cite_note-8)。このデータ型は、重複のない要素の集まりを扱うのに便利である。"
   ]
  },
  {
   "cell_type": "code",
   "execution_count": null,
   "id": "broke-aberdeen",
   "metadata": {},
   "outputs": [],
   "source": [
    "a = set()  # 空のセット\n",
    "a.add(1)  # 要素を追加していく\n",
    "a.add(5)  # 追加する順番は関係なし\n",
    "a.add(3)\n",
    "a.add(1)  # 重複した要素は無視されることに注意\n",
    "a.add(3)\n",
    "print(a)  # {1, 3, 5}"
   ]
  },
  {
   "cell_type": "markdown",
   "id": "another-sacramento",
   "metadata": {},
   "source": [
    "ある要素がセットにあるかどうかを調べるには、`in`演算子を`要素 in 集合`のように使う<a name=\"cite_ref-9\"></a>[<sup>[9]</sup>](#cite_note-9)。"
   ]
  },
  {
   "cell_type": "code",
   "execution_count": null,
   "id": "appreciated-sleeve",
   "metadata": {},
   "outputs": [],
   "source": [
    "print(3 in a)  # True\n",
    "print(6 in a)  # False"
   ]
  },
  {
   "cell_type": "markdown",
   "id": "described-choice",
   "metadata": {},
   "source": [
    "今回のプログラムでセットに入れておきたいのは、通った位置を表す2次元の座標である。ここでは2次元の座標を表すのに[タプル（`tuple`）](https://docs.python.org/ja/3/library/stdtypes.html#tuple)を使う。タプルは、要は読み取り専用の（変更できない）リストである<a name=\"cite_ref-10\"></a>[<sup>[10]</sup>](#cite_note-10)。"
   ]
  },
  {
   "cell_type": "code",
   "execution_count": null,
   "id": "third-intersection",
   "metadata": {},
   "outputs": [],
   "source": [
    "a = set()  # 空のセット\n",
    "p1 = (0, 0)  # (0, 0)というタプル\n",
    "a.add(p1)  # これを追加\n",
    "p2 = (1, 1)  # (1, 1)というタプル\n",
    "a.add(p2)  # これも追加\n",
    "\n",
    "print((0, 0) in a)  # True\n",
    "print((1, 0) in a)  # False"
   ]
  },
  {
   "cell_type": "markdown",
   "id": "intellectual-syndication",
   "metadata": {},
   "source": [
    "では、2次元での自己回避ランダムウォークの軌跡を折れ線グラフとして描くプログラムを示そう。基本的には前の2次元ランダムウォークのプログラムと同じだが、移動済みの位置を記録して、すでに移動した位置には二度と移動しないという処理が加わっている<a name=\"cite_ref-11\"></a>[<sup>[11]</sup>](#cite_note-11)。"
   ]
  },
  {
   "cell_type": "code",
   "execution_count": null,
   "id": "hired-street",
   "metadata": {},
   "outputs": [],
   "source": [
    "# 2次元自己回避ランダムウォークの軌跡を描く\n",
    "\n",
    "%matplotlib inline\n",
    "import matplotlib.pyplot as plt\n",
    "import random\n",
    "\n",
    "n = 100  # 繰り返す数（ただし、毎回移動するわけではない）\n",
    "\n",
    "xpoints = []  # 各ステップでの位置を保存するリスト\n",
    "ypoints = []\n",
    "visited = set()  # 移動したことのある位置を保存するセット\n",
    "\n",
    "# 初期位置\n",
    "x = 0\n",
    "y = 0\n",
    "xpoints.append(x)\n",
    "ypoints.append(y)\n",
    "visited.add((x, y))\n",
    "\n",
    "for _ in range(n):\n",
    "    # 次のステップでの位置を計算する\n",
    "    next_x = x\n",
    "    next_y = y\n",
    "    # 確率1/4でそれぞれ東、西、北、南に動く\n",
    "    r = random.random()\n",
    "    if r < 0.25:\n",
    "        next_x += 1\n",
    "    elif r < 0.5:\n",
    "        next_x -= 1\n",
    "    elif r < 0.75:\n",
    "        next_y += 1\n",
    "    else:\n",
    "        next_y -= 1\n",
    "\n",
    "    # すでに通過したかのチェック\n",
    "    next_point = (next_x, next_y)\n",
    "    if next_point in visited:\n",
    "        continue  # 移動しない\n",
    "\n",
    "    # 実際に移動\n",
    "    x = next_x\n",
    "    y = next_y\n",
    "    visited.add(next_point)\n",
    "\n",
    "    # あとでグラフにしたいので、位置を保存\n",
    "    xpoints.append(x)\n",
    "    ypoints.append(y)\n",
    "\n",
    "# ランダムウォークの長さ（= 移動した回数 = 履歴内の点の数 - 1）を表示\n",
    "print(f\"長さ = {len(visited) - 1}\")\n",
    "\n",
    "# 軌跡を折れ線グラフとして描く\n",
    "fig, ax = plt.subplots()\n",
    "ax.plot(xpoints, ypoints)\n",
    "ax.grid()\n",
    "ax.set_aspect(\"equal\")\n",
    "ax.set_xlabel(r\"$x$\")\n",
    "ax.set_ylabel(r\"$y$\")\n",
    "plt.show()"
   ]
  },
  {
   "cell_type": "markdown",
   "id": "adjustable-effectiveness",
   "metadata": {},
   "source": [
    "## 練習問題"
   ]
  },
  {
   "cell_type": "markdown",
   "id": "sudden-married",
   "metadata": {},
   "source": [
    "(4) 上の自己回避ランダムウォークを「四方に透明な壁を設定する」ことで閉じ込めてみよう。ある長さ$L$を決めて、$|x| > L$もしくは$|y| > L$になってしまうような移動は行わない、とすればよい。"
   ]
  },
  {
   "cell_type": "markdown",
   "id": "precious-romania",
   "metadata": {},
   "source": [
    "## 演習課題"
   ]
  },
  {
   "cell_type": "markdown",
   "id": "accredited-newsletter",
   "metadata": {},
   "source": [
    "<!-- textlint-disable ja-technical-writing/sentence-length,jtf-style/4.3.1.丸かっこ（）,ja-technical-writing/ja-no-mixed-period -->\n",
    "\n",
    "(1) 今回学んだ1次元ランダムウォークでの平均二乗変位はステップ数$n$に比例した。このことは、ランダムウォーカーの動き方を少々変えても変わらない。$i$ステップ目での増分$X_i$に関して、次の(a)から(e)のうちの1つを使い<a name=\"cite_ref-12\"></a>[<sup>[12]</sup>](#cite_note-12)（どれを選ぶべきかは**授業中に指定する**）、1次元ランダムウォークのステップ数$n$と平均二乗変位$\\overline{x_n^2}$の関係をグラフにせよ。その際に、比較のための直線$\\overline{x_n^2} = c n$（$c$は比例係数<a name=\"cite_ref-13\"></a>[<sup>[13]</sup>](#cite_note-13)）も、\n",
    "\n",
    "<!-- textlint-enable -->\n",
    "\n",
    "```python\n",
    "# 比較のための直線を追加\n",
    "c = 10  # この値は例である。うまく選ぶこと。\n",
    "n = np.linspace(0, 100)\n",
    "x2 = c * n\n",
    "ax.plot(n, x2)\n",
    "```\n",
    "\n",
    "のようにして描け。"
   ]
  },
  {
   "cell_type": "markdown",
   "id": "uniform-money",
   "metadata": {},
   "source": [
    "(a) $X_i$ は、$[-\\sqrt{3}, \\sqrt{3}]$ の範囲に一様分布する一様乱数。"
   ]
  },
  {
   "cell_type": "markdown",
   "id": "thrown-whole",
   "metadata": {},
   "source": [
    "(b) $X_i$ は、$[-\\sqrt{6}, \\sqrt{6}]$ の範囲に一様分布する一様乱数。"
   ]
  },
  {
   "cell_type": "markdown",
   "id": "opponent-capability",
   "metadata": {},
   "source": [
    "(c) $X_i$ は平均 $0$、標準偏差 $\\sqrt{3}$ の正規分布に従う正規乱数。"
   ]
  },
  {
   "cell_type": "markdown",
   "id": "published-persian",
   "metadata": {},
   "source": [
    "(d) $X_i$ は平均 $0$、標準偏差 $2$ の正規分布に従う正規乱数。"
   ]
  },
  {
   "cell_type": "markdown",
   "id": "nominated-scanner",
   "metadata": {},
   "source": [
    "(e) $X_i$は、確率$1/4$でそれぞれ$+3$、$+1$、$-1$、$-3$となるような乱数。"
   ]
  },
  {
   "cell_type": "code",
   "execution_count": null,
   "id": "aboriginal-reservoir",
   "metadata": {},
   "outputs": [],
   "source": [
    "# 課題解答9.1  <-- 提出する際に、この行を必ず含めること。\n",
    "\n",
    "%matplotlib inline\n",
    "import matplotlib.pyplot as plt\n",
    "import numpy as np\n",
    "import random\n",
    "import statistics"
   ]
  },
  {
   "cell_type": "markdown",
   "id": "roman-horizon",
   "metadata": {},
   "source": [
    "(2) 1ステップにおいてそれぞれ確率1/4で東西南北に1だけ移動する2次元ランダムウォークを考える。ステップ数$n$と平均二乗変位$\\overline{x_n^2+y_n^2}$の関係をグラフにせよ。比較のための直線も描くこと。"
   ]
  },
  {
   "cell_type": "code",
   "execution_count": null,
   "id": "biblical-rwanda",
   "metadata": {},
   "outputs": [],
   "source": [
    "# 課題解答9.2  <-- 提出する際に、この行を必ず含めること。\n",
    "\n",
    "%matplotlib inline\n",
    "import matplotlib.pyplot as plt\n",
    "import numpy as np\n",
    "import random\n",
    "import statistics"
   ]
  },
  {
   "cell_type": "markdown",
   "id": "partial-background",
   "metadata": {},
   "source": [
    "## 発展課題"
   ]
  },
  {
   "cell_type": "markdown",
   "id": "sustainable-drunk",
   "metadata": {},
   "source": [
    "<!-- textlint-disable jtf-style/1.1.1.本文 -->\n",
    "\n",
    "余裕があればやってみてください。\n",
    "\n",
    "<!-- textlint-enable -->"
   ]
  },
  {
   "cell_type": "markdown",
   "id": "spectacular-hydrogen",
   "metadata": {},
   "source": [
    "<!-- textlint-disable ja-technical-writing/ja-no-mixed-period,ja-technical-writing/sentence-length,ja-technical-writing/max-comma -->\n",
    "\n",
    "(3) 1ステップでの増分$X_i$が平均$0$、標準偏差$\\sigma$の正規分布に従う正規乱数であるような1次元ランダムウォークを考えよう。ただし、$\\sigma$の値は**あなたの学籍番号の下4桁の整数**とする。$n$ステップのランダムウォークの軌跡中の各位置（$x_0, x_1, x_2, \\dots, x_{n-1}, x_n$）の中で、最小値を$x_\\text{min}$、最大値を$x_\\text{max}$としたとき、\n",
    "\n",
    "<!-- textlint-enable -->"
   ]
  },
  {
   "cell_type": "markdown",
   "id": "residential-liability",
   "metadata": {},
   "source": [
    "$$\n",
    "x_\\text{min} = x_0 , \\qquad\n",
    "x_\\text{max} = x_n ,\n",
    "\\tag{3}\n",
    "$$"
   ]
  },
  {
   "cell_type": "markdown",
   "id": "revolutionary-cloud",
   "metadata": {},
   "source": [
    "<!-- textlint-disable ja-technical-writing/ja-no-mixed-period,jtf-style/4.3.1.丸かっこ（） -->\n",
    "\n",
    "となるような確率を$P_n$とする<a name=\"cite_ref-14\"></a>[<sup>[14]</sup>](#cite_note-14)。確率$P_n$は、何回も$n$ステップのランダムウォークを行って、その中で式<!-- eqref -->(3)を満たした回数を数えることで近似的に求めることができる。ステップ数$n$と確率$P_n$の関係をグラフにせよ。その際に、比較する曲線として、\n",
    "\n",
    "<!-- textlint-enable -->"
   ]
  },
  {
   "cell_type": "markdown",
   "id": "eligible-layout",
   "metadata": {},
   "source": [
    "$$\n",
    "P_n = \\frac{1}{2n} ,\n",
    "\\tag{4}\n",
    "$$"
   ]
  },
  {
   "cell_type": "markdown",
   "id": "revised-confidence",
   "metadata": {},
   "source": [
    "も描け。"
   ]
  },
  {
   "cell_type": "code",
   "execution_count": null,
   "id": "african-interim",
   "metadata": {},
   "outputs": [],
   "source": [
    "# 課題解答9.3  <-- 提出する際に、この行を必ず含めること。\n",
    "\n",
    "%matplotlib inline\n",
    "import matplotlib.pyplot as plt\n",
    "import numpy as np\n",
    "import random\n",
    "import statistics"
   ]
  },
  {
   "cell_type": "markdown",
   "id": "hispanic-mason",
   "metadata": {},
   "source": [
    "## 脚注"
   ]
  },
  {
   "cell_type": "markdown",
   "id": "thousand-dominant",
   "metadata": {},
   "source": [
    "<!-- textlint-disable ja-technical-writing/max-kanji-continuous-len,jtf-style/4.3.1.丸かっこ（） -->\n",
    "\n",
    "<a name=\"cite_note-1\"></a>1.&nbsp;[^](#cite_ref-1)\n",
    "式<!-- eqref -->(1)の変位の場合、1次元対称単純ランダムウォーク（one-dimensional simple symmetric random walk）と呼ばれる。\n",
    "\n",
    "<!-- textlint-enable -->"
   ]
  },
  {
   "cell_type": "markdown",
   "id": "royal-flight",
   "metadata": {},
   "source": [
    "<a name=\"cite_note-2\"></a>2.&nbsp;[^](#cite_ref-2)\n",
    "（離散型）確率変数$X$と$Y$は、$P(X=a,Y=b)=P(X=a)P(Y=b)$が成り立つとき、独立である（independent）と言われる。独立であれば無相関であるが、その逆（無相関なら独立）は必ずしも真ではない。"
   ]
  },
  {
   "cell_type": "markdown",
   "id": "level-cement",
   "metadata": {},
   "source": [
    "<!-- textlint-disable ja-technical-writing/ja-no-mixed-period -->\n",
    "\n",
    "<a name=\"cite_note-3\"></a>3.&nbsp;[^](#cite_ref-3)\n",
    "ここでは、\n",
    "```python\n",
    "    if random.random() < 0.5:\n",
    "        x += 1\n",
    "    else:\n",
    "        x -= 1\n",
    "```\n",
    "のように$1$ステップの動きを実装している。このような書き方（を少し一般化したもの）は次回も出てくるが、これは [`random`モジュール](https://docs.python.org/ja/3/library/random.html)の[`choice`関数](https://docs.python.org/ja/3/library/random.html#random.choice)を用いて、\n",
    "```python\n",
    "    x += random.choice([-1, 1])\n",
    "```\n",
    "と書いてもよい。ただし、生成されるシーケンスは違うものとなる。\n",
    "\n",
    "<!-- textlint-enable -->"
   ]
  },
  {
   "cell_type": "markdown",
   "id": "australian-casting",
   "metadata": {},
   "source": [
    "<a name=\"cite_note-4\"></a>4.&nbsp;[^](#cite_ref-4)\n",
    "前々回と前回に学んだ内容から、この分布が何に近いかは分かるはずである。また、$n$が奇数であれば$n$ステップ後の位置は必ず奇数、$n$が偶数であれば$n$ステップ後の位置は必ず偶数である。"
   ]
  },
  {
   "cell_type": "markdown",
   "id": "70296c0b",
   "metadata": {},
   "source": [
    "<a name=\"cite_note-5\"></a>5.&nbsp;[^](#cite_ref-5)\n",
    "簡単のため、ここでは揺らぎによる統計誤差を考えていない（その代わりに$k=10^4$と、統計誤差が無視できるくらい多くサンプルサイズを取っている）。統計誤差を考えるなら、平均値と同時に[標準誤差](https://ja.wikipedia.org/wiki/%E6%A8%99%E6%BA%96%E8%AA%A4%E5%B7%AE)（標準偏差をサンプルサイズの平方根で割ったもの）を計算しておくとよい。\n",
    "```python\n",
    "@np.vectorize\n",
    "def calc_x2(n, k):\n",
    "    data = [walk(n) ** 2 for _ in range(k)]\n",
    "    # nステップ後の平均二乗変位とその誤差を返す\n",
    "    return statistics.mean(data), statistics.stdev(data) / k**0.5\n",
    "```\n",
    "この関数の返り値を次のように受け取る。\n",
    "```python\n",
    "x2, x2_err = calc_x2(n, 10**2)\n",
    "```\n",
    "これを用いて、[`Axes`オブジェクト](https://matplotlib.org/stable/api/axes_api.html#the-axes-class)の[`errorbar`メソッド](https://matplotlib.org/stable/api/_as_gen/matplotlib.axes.Axes.errorbar.html)でエラーバー付きの散布図を描く。\n",
    "```python\n",
    "ax.errorbar(n, x2, x2_err, fmt='o')\n",
    "```\n",
    "<!-- textlint-disable\n",
    "ja-engineering-paper/prh\n",
    "-->\n",
    "このときエラーバーの範囲は$1\\sigma$であるから、だいたい3個につき2個くらいの点についてはエラーバーの範囲内に直線が乗るはずである。\n",
    "<!-- textlint-enable -->"
   ]
  },
  {
   "cell_type": "markdown",
   "id": "understanding-laptop",
   "metadata": {},
   "source": [
    "<a name=\"cite_note-6\"></a>6.&nbsp;[^](#cite_ref-6)\n",
    "$E[X_i^2] = 1$と、$X_i$と$X_j$が無相関であることから、$E[S_n^2] = n$が得られる。"
   ]
  },
  {
   "cell_type": "markdown",
   "id": "growing-colon",
   "metadata": {},
   "source": [
    "<!-- textlint-disable ja-technical-writing/ja-no-mixed-period -->\n",
    "\n",
    "<a name=\"cite_note-7\"></a>7.&nbsp;[^](#cite_ref-7)\n",
    "いま考えているランダムウォークは、ブラウン運動の簡単なモデルの1つである。20世紀初頭、原子や分子の実在について根強い懐疑論があった。化学物質の性質が、その構造式で表しているような原子構造に起因するであろうことは明白であったが、エルンスト・マッハの「あなたは原子を見たことがあるのか」という批判に応えられる者はなかった。1905年、アルベルト・アインシュタインは、ブラウン運動を媒質分子の不規則な熱運動によって説明する論文を発表する：\n",
    "\n",
    "<!-- textlint-enable -->"
   ]
  },
  {
   "cell_type": "markdown",
   "id": "excessive-tender",
   "metadata": {},
   "source": [
    "<!-- textlint-disable ja-technical-writing/sentence-length -->\n",
    "\n",
    "- A. Einstein, *Über die von der molekularkinetischen Theorie der Wärme geforderte Bewegung von in ruhenden Flüssigkeiten suspendierten Teilchen*, [*Ann. Phys.* 322 (1905) 549-560](https://doi.org/10.1002/andp.19053220806).\n",
    "\n",
    "<!-- textlint-enable -->"
   ]
  },
  {
   "cell_type": "markdown",
   "id": "athletic-garage",
   "metadata": {},
   "source": [
    "<!-- textlint-disable ja-technical-writing/ja-no-mixed-period,ja-technical-writing/sentence-length,ja-engineering-paper/use-si-units -->\n",
    "\n",
    "コロイド粒子は絶えずあらゆる方向からの媒質分子の衝突を受け不規則に運動するが、確率論的にその平均二乗変位を論じることはできる。ある一方向を$x$軸と取ると、その方向の平均二乗変位は$\\overline{x^2} = 2 D t$のように観察時間$t$に比例する（今回のランダムウォークの$\\overline{x_n^2} \\propto n$に対応する）。アインシュタインは、もし分子運動論が正しいとすれば、拡散係数$D$が\n",
    "\n",
    "<!-- textlint-enable -->"
   ]
  },
  {
   "cell_type": "markdown",
   "id": "least-sterling",
   "metadata": {},
   "source": [
    "$$\n",
    "D = \\frac{R T}{N_A} \\frac{1}{6\\pi \\eta a} ,\n",
    "$$"
   ]
  },
  {
   "cell_type": "markdown",
   "id": "genetic-thomson",
   "metadata": {},
   "source": [
    "<!-- textlint-disable ja-technical-writing/no-doubled-joshi -->\n",
    "\n",
    "となることを導き（$R$は気体定数、$T$は絶対温度、$N_A$はアボガドロ定数、$\\eta$は液体の粘性係数、$a$はコロイド粒子の半径）、1分間にコロイド粒子が6µm程度動き得ると見積もった。実際、1908年、ジャン・ペランはブラウン運動をしているコロイド粒子の平均二乗変位と観測時間の関係がアインシュタインの予測通りであることを実験的に確かめた（1926年にノーベル物理学賞を受賞）。ようやく人類は原子・分子の存在を顕微鏡の中に「見る」ことができるようになったのである。\n",
    "\n",
    "<!-- textlint-enable -->"
   ]
  },
  {
   "cell_type": "markdown",
   "id": "possible-definition",
   "metadata": {},
   "source": [
    "<a name=\"cite_note-8\"></a>8.&nbsp;[^](#cite_ref-8)\n",
    "Pythonの重要なデータ型の1つ（ではあるがこの授業に出てこなさそうなもの）として[辞書型（あるいはマッピング型；`dict`）](https://docs.python.org/ja/3/library/stdtypes.html#typesmapping)が挙げられる。重複のない要素の順序なし集合は、辞書において値を特別な値へと特殊化したものに相当し、実際にCPython 3.7では[そのように実装されている](https://github.com/python/cpython/blob/3.7/Objects/setobject.c)。"
   ]
  },
  {
   "cell_type": "markdown",
   "id": "d0b37c3a",
   "metadata": {},
   "source": [
    "<a name=\"cite_note-9\"></a>9.&nbsp;[^](#cite_ref-9)\n",
    "リストにも`in`演算子は使える。\n",
    "```python\n",
    "10 in [1, 4, 7, 10, 13]  # True\n",
    "```\n",
    "ただし、リストの場合は線形探索をせざるを得ないため、探索時間は要素の数に比例して大きくなる。"
   ]
  },
  {
   "cell_type": "markdown",
   "id": "molecular-donna",
   "metadata": {},
   "source": [
    "<a name=\"cite_note-10\"></a>10.&nbsp;[^](#cite_ref-10)\n",
    "`set`に追加するものは[イミュータブル（immutable）](https://docs.python.org/ja/3/glossary.html#term-immutable)でなければならない（より正確に言うと[ハッシュ可能（hashable）](https://docs.python.org/ja/3/glossary.html#term-hashable)でなければならない）。よって`list`は追加できない。"
   ]
  },
  {
   "cell_type": "markdown",
   "id": "greatest-electric",
   "metadata": {},
   "source": [
    "<a name=\"cite_note-11\"></a>11.&nbsp;[^](#cite_ref-11)\n",
    "実はこの方法では、確かに自己回避ランダムウォークを生成できてはいるが、実現可能な自己回避ランダムウォークを等確率でサンプリングしていることにはならない。もっとも単純で（そして遅い）正確な$n$ステップ自己回避ランダムウォークのサンプリング方法は棄却法（rejection sampling）による。通常の$n$ステップランダムウォークを生成し、交差があれば棄却して初めからやり直す。これを成功するまで続ける。効率的な自己回避ランダムウォークのサンプリングについてはたとえば次を参照せよ。\n",
    "\n",
    "<!-- textlint-disable ja-technical-writing/sentence-length,ja-technical-writing/max-comma -->\n",
    "\n",
    "- Alan D. Sokal, *Monte Carlo methods for the self-avoiding walk*, in *Monte Carlo and Molecular Dynamics Simulations in Polymer Science* (ed. K. Binder), Oxford University Press, New York, 1995, [arXiv:hep-lat/9405016](https://arxiv.org/abs/hep-lat/9405016).\n",
    "\n",
    "<!-- textlint-enable -->"
   ]
  },
  {
   "cell_type": "markdown",
   "id": "characteristic-produce",
   "metadata": {},
   "source": [
    "<a name=\"cite_note-12\"></a>12.&nbsp;[^](#cite_ref-12)\n",
    "一様乱数は[`random`モジュール](https://docs.python.org/ja/3/library/random.html)の[`uniform`関数](https://docs.python.org/ja/3/library/random.html#random.uniform)、正規乱数は[`gauss`関数](https://docs.python.org/ja/3/library/random.html#random.gauss)を使えばよい。(e) のように4つの値を等確率で選ぶような乱数は、今回の例題の中にあったはず。"
   ]
  },
  {
   "cell_type": "markdown",
   "id": "disturbed-photography",
   "metadata": {},
   "source": [
    "<a name=\"cite_note-13\"></a>13.&nbsp;[^](#cite_ref-13)\n",
    "ヒント：$c$は1桁の整数（つまり、1から9のどれか）となる（ように問題を設定してある）。"
   ]
  },
  {
   "cell_type": "markdown",
   "id": "removable-pepper",
   "metadata": {},
   "source": [
    "<!-- textlint-disable ja-technical-writing/ja-no-mixed-period -->\n",
    "\n",
    "<a name=\"cite_note-14\"></a>14.&nbsp;[^](#cite_ref-14)\n",
    "元ネタはこれ：\n",
    "\n",
    "<!-- textlint-enable -->\n",
    "<!-- textlint-disable ja-technical-writing/sentence-length,ja-technical-writing/max-comma -->\n",
    "\n",
    "- Francesco Mori, Satya N. Majumdar, and Grégory Schehr, *Distribution of the time between maximum and minimum of random walks*, [*Phys. Rev.* **E** 101 (2020) 052111](https://doi.org/10.1103/PhysRevE.101.052111), [arXiv:2002.12352 [cond-mat.stat-mech]](https://arxiv.org/abs/2002.12352).\n",
    "\n",
    "<!-- textlint-enable -->"
   ]
  }
 ],
 "metadata": {
  "kernelspec": {
   "display_name": "Python 3 (ipykernel)",
   "language": "python",
   "name": "python3"
  },
  "language_info": {
   "codemirror_mode": {
    "name": "ipython",
    "version": 3
   },
   "file_extension": ".py",
   "mimetype": "text/x-python",
   "name": "python",
   "nbconvert_exporter": "python",
   "pygments_lexer": "ipython3",
   "version": "3.7.13"
  }
 },
 "nbformat": 4,
 "nbformat_minor": 5
}
