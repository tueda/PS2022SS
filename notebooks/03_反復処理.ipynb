{
 "cells": [
  {
   "cell_type": "markdown",
   "id": "alternative-banner",
   "metadata": {},
   "source": [
    "## 反復処理"
   ]
  },
  {
   "cell_type": "markdown",
   "id": "selected-celtic",
   "metadata": {},
   "source": [
    "今回は特定の処理を繰り返す反復処理（ループ）を学ぶ。人間は同じことを何回も繰り返していると疲れてミスを犯したりしてしまうが、コンピューターは疲れないし、文句も言わない。面倒くさい処理などコンピューターに任せて人間は楽をするべきである。"
   ]
  },
  {
   "cell_type": "markdown",
   "id": "painted-parade",
   "metadata": {},
   "source": [
    "**注意：反復処理はプログラムを間違えると無限ループに陥ることがある。**例えば次のセルを実行しても永遠に終了しない。"
   ]
  },
  {
   "cell_type": "code",
   "execution_count": null,
   "id": "intensive-interview",
   "metadata": {},
   "outputs": [],
   "source": [
    "while True:\n",
    "    ..."
   ]
  },
  {
   "cell_type": "markdown",
   "id": "discrete-lender",
   "metadata": {},
   "source": [
    "<!-- textlint-disable ja-technical-writing/ja-no-mixed-period -->\n",
    "\n",
    "実行中の処理を中止するには、上部メニューから\n",
    "- Jupyter Notebook / Binder：「カーネル」→「中断」、\n",
    "- Colab：「ランタイム」→「実行を中断」、\n",
    "\n",
    "を選ぶ。\n",
    "\n",
    "<!-- textlint-enable -->"
   ]
  },
  {
   "cell_type": "markdown",
   "id": "conscious-novelty",
   "metadata": {},
   "source": [
    "## 今回のねらい"
   ]
  },
  {
   "cell_type": "markdown",
   "id": "prime-calcium",
   "metadata": {},
   "source": [
    "- while文、for文による反復処理を理解する。\n",
    "- リストの基礎的な使い方を理解する。"
   ]
  },
  {
   "cell_type": "markdown",
   "id": "alive-brother",
   "metadata": {},
   "source": [
    "## while文"
   ]
  },
  {
   "cell_type": "markdown",
   "id": "oriental-trinidad",
   "metadata": {},
   "source": [
    "while文を使うと、条件が満たされている間、特定の処理を繰り返すことができる。"
   ]
  },
  {
   "cell_type": "code",
   "execution_count": null,
   "id": "optimum-mainstream",
   "metadata": {},
   "outputs": [],
   "source": [
    "n = 0\n",
    "\n",
    "while n < 3:\n",
    "    print(n)\n",
    "    n = n + 1"
   ]
  },
  {
   "cell_type": "markdown",
   "id": "residential-execution",
   "metadata": {},
   "source": [
    "文法のポイントは以下の通りである。\n",
    "\n",
    "- while文はキーワード`while`から始まる。\n",
    "- キーワード`while`の後に条件を与え（この場合`n < 3`）、そのあとにコロン（`:`）を書く。\n",
    "- 条件が成り立っている間に行う処理を、インデントによるブロックで与える。"
   ]
  },
  {
   "cell_type": "markdown",
   "id": "exposed-clothing",
   "metadata": {},
   "source": [
    "条件のチェックはループの入り口で行われる。少々くどくなるが、上の例の動作の順を追っていくと次のようになる。\n",
    "- $n$に$0$を代入する。（`n = 0`）\n",
    "- $n$（=$0$）は$3$よりも小さいのでループ内の処理に入る。（`while n < 3:`）\n",
    "  - $n$を表示する、つまり$0$が表示される。（`print(n)`）\n",
    "  - $n$を$1$増加させる、つまり$n$は$1$になる。（`n = n + 1`）\n",
    "- $n$（=$1$）は$3$よりも小さいのでループ内の処理を続ける。（`while n < 3:`）\n",
    "  - $n$を表示する、つまり$1$が表示される。（`print(n)`）\n",
    "  - $n$を$1$増加させる、つまり$n$は$2$になる。（`n = n + 1`）\n",
    "- $n$（=$2$）は$3$よりも小さいのでループ内の処理を続ける。（`while n < 3:`）\n",
    "  - $n$を表示する、つまり$2$が表示される。（`print(n)`）\n",
    "  - $n$を$1$増加させる、つまり$n$は$3$になる。（`n = n + 1`）\n",
    "- $n$（=$3$）は$3$よりも小さいわけではないのでループ内の処理を行わず、ループを終了する。（`while n < 3:`）"
   ]
  },
  {
   "cell_type": "markdown",
   "id": "sixth-disaster",
   "metadata": {},
   "source": [
    "ところで、Pythonでは`n = n + a`のことを`n += a`と書くことができる。これを使うと、上の例は次と等価である。"
   ]
  },
  {
   "cell_type": "code",
   "execution_count": null,
   "id": "collected-xerox",
   "metadata": {},
   "outputs": [],
   "source": [
    "n = 0\n",
    "\n",
    "while n < 3:\n",
    "    print(n)\n",
    "    n += 1"
   ]
  },
  {
   "cell_type": "markdown",
   "id": "false-mechanism",
   "metadata": {},
   "source": [
    "## 練習問題"
   ]
  },
  {
   "cell_type": "markdown",
   "id": "cheap-study",
   "metadata": {},
   "source": [
    "(1) 上の例を、1から10までの数が表示されるように書き換えよ。"
   ]
  },
  {
   "cell_type": "markdown",
   "id": "intelligent-automation",
   "metadata": {},
   "source": [
    "## break文とcontinue文"
   ]
  },
  {
   "cell_type": "markdown",
   "id": "fresh-hardwood",
   "metadata": {},
   "source": [
    "ループの中でbreak文を使うと、（もっとも内側にある）ループを終了できる<a name=\"cite_ref-1\"></a>[<sup>[1]</sup>](#cite_note-1)。"
   ]
  },
  {
   "cell_type": "code",
   "execution_count": null,
   "id": "higher-springfield",
   "metadata": {},
   "outputs": [],
   "source": [
    "n = 0\n",
    "\n",
    "while n < 10:\n",
    "    print(n)\n",
    "    if n == 5:  # nが5のとき、ループを終了する。\n",
    "        break\n",
    "    n += 1"
   ]
  },
  {
   "cell_type": "markdown",
   "id": "static-singapore",
   "metadata": {},
   "source": [
    "ループの中でcontinue文を使うと、（もっとも内側にある）ループ内のそのあとの処理をスキップして、ループの頭から処理を続けられる。"
   ]
  },
  {
   "cell_type": "code",
   "execution_count": null,
   "id": "general-fleece",
   "metadata": {},
   "outputs": [],
   "source": [
    "n = 0\n",
    "\n",
    "while n < 10:\n",
    "    n += 1\n",
    "    if n == 5:  # nが5のとき、ループ内の以下の処理を行わない。\n",
    "        continue\n",
    "    print(n)"
   ]
  },
  {
   "cell_type": "markdown",
   "id": "compound-latvia",
   "metadata": {},
   "source": [
    "break文を使って、（わざと作った）無限ループ<a name=\"cite_ref-2\"></a>[<sup>[2]</sup>](#cite_note-2)から抜けるということができる。これには（ループの頭ではなく）好きな場所でループ終了をチェックできる利点がある。次の例では、ループ終了のチェックを、ループ処理のブロックの最後で行っている。"
   ]
  },
  {
   "cell_type": "code",
   "execution_count": null,
   "id": "organized-welcome",
   "metadata": {},
   "outputs": [],
   "source": [
    "n = 0\n",
    "\n",
    "while True:  # 条件がTrue、つまり常に成り立つので無限ループ。\n",
    "    n += 1\n",
    "    print(n)\n",
    "    if n == 5:  # nが5であればループを抜ける。\n",
    "        break"
   ]
  },
  {
   "cell_type": "markdown",
   "id": "invisible-asian",
   "metadata": {},
   "source": [
    "このような無限ループ+`break`というテクニックを使って、次のような「数当てゲーム」を考えよう。"
   ]
  },
  {
   "cell_type": "markdown",
   "id": "intelligent-murder",
   "metadata": {},
   "source": [
    "## 数当てゲーム"
   ]
  },
  {
   "cell_type": "markdown",
   "id": "accompanied-karaoke",
   "metadata": {},
   "source": [
    "<!-- textlint-disable ja-technical-writing/no-mix-dearu-desumasu -->\n",
    "\n",
    "コンピューターがランダムに選んだ数を、人間が当てるというゲームである。人間の答えが合っていれば「そのとおり」と表示してゲームは終了する。間違っていれば「大きすぎます」もしくは「小さすぎます」とヒントを出し、（人間が当てるまで永遠に）ゲームを続ける。\n",
    "\n",
    "<!-- textlint-enable -->"
   ]
  },
  {
   "cell_type": "code",
   "execution_count": null,
   "id": "radical-glance",
   "metadata": {},
   "outputs": [],
   "source": [
    "import random\n",
    "\n",
    "n = 100  # 最大値\n",
    "\n",
    "# コンピューターがランダムに1からnの数を選ぶ。\n",
    "com = random.randint(1, n)\n",
    "print(f\"私の考えている数(1から{n})を当ててください\")\n",
    "\n",
    "while True:\n",
    "    # 人間が数を選ぶ。\n",
    "    you = int(input(\"数を入力\"))\n",
    "\n",
    "    # 合っていたら終了。\n",
    "    if you == com:\n",
    "        print(\"そのとおり\")\n",
    "        break\n",
    "\n",
    "    # ヒントを出す。\n",
    "    if you > com:\n",
    "        print(\"大きすぎます\")\n",
    "    else:\n",
    "        print(\"小さすぎます\")"
   ]
  },
  {
   "cell_type": "markdown",
   "id": "sixth-columbia",
   "metadata": {},
   "source": [
    "## 練習問題"
   ]
  },
  {
   "cell_type": "markdown",
   "id": "champion-smooth",
   "metadata": {},
   "source": [
    "(2) $n=100$のとき、7回以内に確実に当てる方法はあるか考えよ<a name=\"cite_ref-3\"></a>[<sup>[3]</sup>](#cite_note-3)。"
   ]
  },
  {
   "cell_type": "markdown",
   "id": "preliminary-supplement",
   "metadata": {},
   "source": [
    "## リスト"
   ]
  },
  {
   "cell_type": "markdown",
   "id": "emotional-dubai",
   "metadata": {},
   "source": [
    "これまでに整数型（`int`）、浮動小数点数型（`float`）、文字列型（`str`）のようなデータ型が出てきた。ここでは新たにリスト型（`list`）を紹介する。Pythonのリスト<a name=\"cite_ref-4\"></a>[<sup>[4]</sup>](#cite_note-4)には、複数のデータを格納できる。リストは角括弧（`[]`）を用いて作ることができる<a name=\"cite_ref-5\"></a>[<sup>[5]</sup>](#cite_note-5)。"
   ]
  },
  {
   "cell_type": "code",
   "execution_count": null,
   "id": "surprised-reason",
   "metadata": {},
   "outputs": [],
   "source": [
    "[3, 1, 4]"
   ]
  },
  {
   "cell_type": "code",
   "execution_count": null,
   "id": "buried-disney",
   "metadata": {},
   "outputs": [],
   "source": [
    "[0.1, -0.2, 0.3, -0.4, 0.5]"
   ]
  },
  {
   "cell_type": "code",
   "execution_count": null,
   "id": "infinite-draft",
   "metadata": {},
   "outputs": [],
   "source": [
    "[\"りんご\", \"バナナ\", \"さくらんぼ\", \"ナツメヤシ\", \"ニワトコの実\", \"イチジク\", \"ぶどう\"]"
   ]
  },
  {
   "cell_type": "markdown",
   "id": "brilliant-variation",
   "metadata": {},
   "source": [
    "要素の型が1つである必要はない。次のセルでは整数、浮動小数点数、文字列を要素に持つリストを作っている。"
   ]
  },
  {
   "cell_type": "code",
   "execution_count": null,
   "id": "circular-alert",
   "metadata": {},
   "outputs": [],
   "source": [
    "[1, 0.5, \"ABC\"]"
   ]
  },
  {
   "cell_type": "markdown",
   "id": "informative-possibility",
   "metadata": {},
   "source": [
    "空のリストや、ネストしたリストを作ることもできる。"
   ]
  },
  {
   "cell_type": "code",
   "execution_count": null,
   "id": "insured-leather",
   "metadata": {},
   "outputs": [],
   "source": [
    "[]  # 空のリスト"
   ]
  },
  {
   "cell_type": "code",
   "execution_count": null,
   "id": "genetic-lottery",
   "metadata": {},
   "outputs": [],
   "source": [
    "[[1, 2], [2, 3], [3, 4]]  # リストのリスト"
   ]
  },
  {
   "cell_type": "markdown",
   "id": "wooden-postcard",
   "metadata": {},
   "source": [
    "リストには次のような`+`や`*`による演算が定義されている<a name=\"cite_ref-6\"></a>[<sup>[6]</sup>](#cite_note-6)。"
   ]
  },
  {
   "cell_type": "code",
   "execution_count": null,
   "id": "established-cuisine",
   "metadata": {},
   "outputs": [],
   "source": [
    "[\"a\", \"b\", \"c\"] + [\"d\", \"e\"]  # 「リスト + リスト」でリストの連結"
   ]
  },
  {
   "cell_type": "code",
   "execution_count": null,
   "id": "allied-transparency",
   "metadata": {},
   "outputs": [],
   "source": [
    "[0] * 5  # 「リスト * 整数」でリストの要素の繰り返し"
   ]
  },
  {
   "cell_type": "markdown",
   "id": "known-compromise",
   "metadata": {},
   "source": [
    "もちろんリストも変数に代入できる。"
   ]
  },
  {
   "cell_type": "code",
   "execution_count": null,
   "id": "medical-chicken",
   "metadata": {},
   "outputs": [],
   "source": [
    "a = [\"a\", \"b\", \"c\", \"d\", \"e\"]\n",
    "print(a)"
   ]
  },
  {
   "cell_type": "markdown",
   "id": "coupled-ladder",
   "metadata": {},
   "source": [
    "リストの要素には、次のように添え字（インデックス；index）を付けることによってアクセスできる。Pythonでは、インデックスは0から始まる（zero-based indexing）。"
   ]
  },
  {
   "cell_type": "code",
   "execution_count": null,
   "id": "ethical-application",
   "metadata": {},
   "outputs": [],
   "source": [
    "a[0]  # aの0番目の要素"
   ]
  },
  {
   "cell_type": "code",
   "execution_count": null,
   "id": "graphic-border",
   "metadata": {},
   "outputs": [],
   "source": [
    "a[1]  # aの1番目の要素"
   ]
  },
  {
   "cell_type": "code",
   "execution_count": null,
   "id": "earned-treat",
   "metadata": {},
   "outputs": [],
   "source": [
    "a[2]  # aの2番目の要素"
   ]
  },
  {
   "cell_type": "markdown",
   "id": "integrated-sacrifice",
   "metadata": {},
   "source": [
    "ただし、負のインデックスを与えると、後ろから数えたときの要素にアクセスする。"
   ]
  },
  {
   "cell_type": "code",
   "execution_count": null,
   "id": "partial-english",
   "metadata": {},
   "outputs": [],
   "source": [
    "a[-1]  # aの後ろから1番目の要素"
   ]
  },
  {
   "cell_type": "code",
   "execution_count": null,
   "id": "tough-textbook",
   "metadata": {},
   "outputs": [],
   "source": [
    "a[-2]  # aの後ろから2番目の要素"
   ]
  },
  {
   "cell_type": "markdown",
   "id": "asian-season",
   "metadata": {},
   "source": [
    "存在しない要素にアクセスしようとすると`IndexError`が起こる。"
   ]
  },
  {
   "cell_type": "code",
   "execution_count": null,
   "id": "finnish-sessions",
   "metadata": {},
   "outputs": [],
   "source": [
    "a[10]  # aの10番目の要素 ==> そんなものはないのでエラー"
   ]
  },
  {
   "cell_type": "markdown",
   "id": "likely-antique",
   "metadata": {},
   "source": [
    "リストの要素は代入によって上書きできる。"
   ]
  },
  {
   "cell_type": "code",
   "execution_count": null,
   "id": "subtle-tuner",
   "metadata": {},
   "outputs": [],
   "source": [
    "a[3] = \"dog\"  # aの3番目の要素を書き換える。\n",
    "print(a)"
   ]
  },
  {
   "cell_type": "markdown",
   "id": "strong-spyware",
   "metadata": {},
   "source": [
    "リストの要素の数は[`len`関数](https://docs.python.org/ja/3/library/functions.html#len)にリストを渡すことで得られる。"
   ]
  },
  {
   "cell_type": "code",
   "execution_count": null,
   "id": "blind-object",
   "metadata": {},
   "outputs": [],
   "source": [
    "len(a)  # aの長さ"
   ]
  },
  {
   "cell_type": "markdown",
   "id": "coral-africa",
   "metadata": {},
   "source": [
    "リスト（の最後尾）に新たな要素を追加するには次のセルのように`append`メソッドを`リスト.append(要素)`の形式で呼ぶ<a name=\"cite_ref-7\"></a>[<sup>[7]</sup>](#cite_note-7)。リストを操作するためのメソッドの一覧は[ここ](https://docs.python.org/ja/3/tutorial/datastructures.html#more-on-lists)にある。"
   ]
  },
  {
   "cell_type": "code",
   "execution_count": null,
   "id": "precious-alaska",
   "metadata": {},
   "outputs": [],
   "source": [
    "a.append(\"fox\")  # aに\"fox\"を追加する。\n",
    "print(a)"
   ]
  },
  {
   "cell_type": "markdown",
   "id": "herbal-development",
   "metadata": {},
   "source": [
    "## すべてはオブジェクトである"
   ]
  },
  {
   "cell_type": "markdown",
   "id": "alpha-gather",
   "metadata": {},
   "source": [
    "ここで「メソッド」という言葉が出てきたので、少しPythonでの「オブジェクト」<a name=\"cite_ref-8\"></a>[<sup>[8]</sup>](#cite_note-8)について説明しておこう。"
   ]
  },
  {
   "cell_type": "markdown",
   "id": "fatty-midnight",
   "metadata": {},
   "source": [
    "いささか抽象的な概念ではあるが、オブジェクト（object）というのは、プログラムの部品として使うための、要は「もの」である。「もの」はそれ自身の属性（attribute）を持つことができ、`オブジェクト.属性名`のようにしてアクセスできる。また、「もの」は操作できる。この操作に使われるのがメソッド（method）であり、`オブジェクト.メソッド名(...)`のようにして呼び出す<a name=\"cite_ref-9\"></a>[<sup>[9]</sup>](#cite_note-9)。メソッドは、「もの」の内部の何かを変更することにも使われるし、内部の状態を読み取って値を返すことにも使われる。通常、「もの」がどんな属性やメソッドを持っているかは、「もの」のデータ型（クラス；class）によって決まっている<a name=\"cite_ref-10\"></a>[<sup>[10]</sup>](#cite_note-10)。"
   ]
  },
  {
   "cell_type": "markdown",
   "id": "deadly-tomato",
   "metadata": {},
   "source": [
    "Pythonでは「すべてはオブジェクトである」<a name=\"cite_ref-11\"></a>[<sup>[11]</sup>](#cite_note-11)<a name=\"cite_ref-12\"></a>[<sup>[12]</sup>](#cite_note-12)。つまり、リストや、これまで出てきた整数や文字列でさえもオブジェクトである。これまで整数に対して属性やメソッドを使うようなことはなかったが、実際<a name=\"cite_ref-13\"></a>[<sup>[13]</sup>](#cite_note-13)、"
   ]
  },
  {
   "cell_type": "code",
   "execution_count": null,
   "id": "mediterranean-diagram",
   "metadata": {},
   "outputs": [],
   "source": [
    "(3).real  # 3の実部を返す"
   ]
  },
  {
   "cell_type": "code",
   "execution_count": null,
   "id": "settled-woman",
   "metadata": {},
   "outputs": [],
   "source": [
    "(3).conjugate()  # 3の複素共役を返す"
   ]
  },
  {
   "cell_type": "markdown",
   "id": "clean-casting",
   "metadata": {},
   "source": [
    "のように属性やメソッドを持っているし、`3 + 5`は次のような特殊メソッドの呼び出しと等価である。"
   ]
  },
  {
   "cell_type": "code",
   "execution_count": null,
   "id": "incorporate-business",
   "metadata": {},
   "outputs": [],
   "source": [
    "(3).__add__(5)  # 3 + 5の結果を返す"
   ]
  },
  {
   "cell_type": "markdown",
   "id": "centered-terrorism",
   "metadata": {},
   "source": [
    "<!-- textlint-disable\n",
    "ja-technical-writing/ja-no-mixed-period,\n",
    "ja-technical-writing/sentence-length,\n",
    "jtf-style/1.1.3.箇条書き,\n",
    "jtf-style/4.1.1.句点(。),\n",
    "jtf-style/4.3.7.山かっこ<>,\n",
    "-->\n",
    "\n",
    "なぜオブジェクトなどという概念を持ち出すのか。それは抽象化されたオブジェクトという概念がプログラミングにおいて有益であるからである。コンピューターとプログラミング言語の発明以来、人類は無数のプログラムを書いてきた。それはバグ（プログラム中のミスによる不具合）との闘いの歴史でもある。プログラムに対する要求が高度化するにつれ、複雑かつ肥大化するプログラムをいかにしてミスなく効率的に書くかという問題が出てきた<a name=\"cite_ref-14\"></a>[<sup>[14]</sup>](#cite_note-14)。この問題に対する1つの解答がオブジェクト指向プログラミング（object-oriented programming；OOP）というプログラミングパラダイム（プログラムを作るときの方向付けを与えるもの）である。オブジェクト指向プログラミングは\n",
    "\n",
    "- カプセル化（encapsulation）: オブジェクトを利用するだけの人は、オブジェクトの内部構造を知る必要はない<a name=\"cite_ref-15\"></a>[<sup>[15]</sup>](#cite_note-15)。\n",
    "- 継承（inheritance）: オブジェクトの分類（クラス、もしくはデータ型）に階層性を持ち込んで分かりやすくできる（例：チワワ < 犬 < 哺乳類 < 動物 < 生物）。\n",
    "- 多態性（polymorphism）: オブジェクトの分類によって実際の動作を振り分けることができる。（例：動物クラスに共通の「食べる」メソッドを定義する。動物が犬なのかアメーバなのかはたまたイソギンチャクなのかによって、その「食べる」の動作は違ったものになるだろう。）\n",
    "\n",
    "などの特徴があって、多くのプログラミング言語に導入されており、大規模なプログラムの開発において成功を収めている。\n",
    "\n",
    "<!-- textlint-enable -->"
   ]
  },
  {
   "cell_type": "markdown",
   "id": "working-certification",
   "metadata": {},
   "source": [
    "## for文"
   ]
  },
  {
   "cell_type": "markdown",
   "id": "upper-contact",
   "metadata": {},
   "source": [
    "Pythonでは、while文を使ったループの他に、for文を使ったループがある。"
   ]
  },
  {
   "cell_type": "code",
   "execution_count": null,
   "id": "collected-drain",
   "metadata": {},
   "outputs": [],
   "source": [
    "for fruit in [\"りんご\", \"バナナ\", \"さくらんぼ\", \"ナツメヤシ\"]:\n",
    "    print(fruit)"
   ]
  },
  {
   "cell_type": "markdown",
   "id": "important-denmark",
   "metadata": {},
   "source": [
    "ポイントは以下の通りである。\n",
    "\n",
    "- for文はキーワード`for`から始まる。\n",
    "- キーワード`for`の次に任意の変数名（ループ変数<a name=\"cite_ref-16\"></a>[<sup>[16]</sup>](#cite_note-16)という。ここでは`fruit`）を与える。その後にキーワード`in`を書き、さらにそのあとになんらかのデータの集合（ここでは`[\"りんご\", \"バナナ\", \"さくらんぼ\", \"ナツメヤシ\"]`というリスト）を与え、最後にコロン（`:`）を付ける。\n",
    "- データの集合から1つずつ要素が取り出され、ループ変数（ここでは`fruit`）に代入されて、それぞれの要素についてループ内のブロックが処理される。"
   ]
  },
  {
   "cell_type": "markdown",
   "id": "express-orlando",
   "metadata": {},
   "source": [
    "`for`文によるループ内でも`break`文と`continue`文を使うことができる。"
   ]
  },
  {
   "cell_type": "code",
   "execution_count": null,
   "id": "limiting-approach",
   "metadata": {},
   "outputs": [],
   "source": [
    "for name in [\"Alice\", \"Bob\", \"Carol\", \"Dave\"]:\n",
    "    if name == \"Bob\":\n",
    "        continue\n",
    "    print(name)"
   ]
  },
  {
   "cell_type": "markdown",
   "id": "alone-prague",
   "metadata": {},
   "source": [
    "for文で与えるデータの集合はリスト以外のものでもよい<a name=\"cite_ref-17\"></a>[<sup>[17]</sup>](#cite_note-17)。文字列は文字の集合であるので、for文を使って次のように1文字ずつ処理できる。"
   ]
  },
  {
   "cell_type": "code",
   "execution_count": null,
   "id": "israeli-ethnic",
   "metadata": {},
   "outputs": [],
   "source": [
    "for character in \"あいうえお\":\n",
    "    print(character)"
   ]
  },
  {
   "cell_type": "markdown",
   "id": "regional-plant",
   "metadata": {},
   "source": [
    "次の例では、リストの中の要素の平均を計算して表示している<a name=\"cite_ref-18\"></a>[<sup>[18]</sup>](#cite_note-18)。"
   ]
  },
  {
   "cell_type": "code",
   "execution_count": null,
   "id": "communist-quick",
   "metadata": {},
   "outputs": [],
   "source": [
    "a = [1.02, 2.21, 0.24, 0.50, 1.35, 0.89, 1.15, 0.70, 1.41, 0.54]\n",
    "\n",
    "sum_value = 0.0\n",
    "for x in a:\n",
    "    sum_value += x\n",
    "\n",
    "average = sum_value / len(a)\n",
    "\n",
    "print(f\"{a}の平均は{average}\")"
   ]
  },
  {
   "cell_type": "markdown",
   "id": "touched-cinema",
   "metadata": {},
   "source": [
    "## 練習問題"
   ]
  },
  {
   "cell_type": "markdown",
   "id": "surface-direction",
   "metadata": {},
   "source": [
    "(3) for文を使って、次のリストの中で1より大きい要素の数を数え、それを表示せよ<a name=\"cite_ref-19\"></a>[<sup>[19]</sup>](#cite_note-19)。"
   ]
  },
  {
   "cell_type": "code",
   "execution_count": null,
   "id": "clean-heather",
   "metadata": {},
   "outputs": [],
   "source": [
    "a = [1.02, 2.21, 0.24, 0.50, 1.35, 0.89, 1.15, 0.70, 1.41, 0.54]\n",
    "\n",
    "# for文を使ってみよう。ヒント：if文を組み合わせるとよい。"
   ]
  },
  {
   "cell_type": "markdown",
   "id": "coral-preview",
   "metadata": {},
   "source": [
    "## rangeオブジェクト"
   ]
  },
  {
   "cell_type": "markdown",
   "id": "selective-armor",
   "metadata": {},
   "source": [
    "[rangeオブジェクト](https://docs.python.org/ja/3/library/stdtypes.html#ranges)は整数の連番（シーケンス；sequence）を表す。`range(stop)`とすると$0$以上stop**未満**となる。`range(start, stop)`とするとstart以上stop**未満**となる。`range(start, stop, step)`とするとstart以上stop**未満**でstepずつ増加する等差数列となる。"
   ]
  },
  {
   "cell_type": "code",
   "execution_count": null,
   "id": "oriented-coast",
   "metadata": {},
   "outputs": [],
   "source": [
    "range(10)  # 0以上10未満の連番"
   ]
  },
  {
   "cell_type": "code",
   "execution_count": null,
   "id": "agricultural-actress",
   "metadata": {},
   "outputs": [],
   "source": [
    "range(3, 10)  # 3以上10未満の連番"
   ]
  },
  {
   "cell_type": "code",
   "execution_count": null,
   "id": "daily-cutting",
   "metadata": {},
   "outputs": [],
   "source": [
    "range(3, 10, 3)  # 3以上10未満で増分3の連番"
   ]
  },
  {
   "cell_type": "markdown",
   "id": "arbitrary-membership",
   "metadata": {},
   "source": [
    "これらのrangeオブジェクトをリストに変換して結果を見てみよう。`list(...)`に渡せばよい。"
   ]
  },
  {
   "cell_type": "code",
   "execution_count": null,
   "id": "settled-chicago",
   "metadata": {},
   "outputs": [],
   "source": [
    "list(range(10))  # 0以上10未満の連番のリスト"
   ]
  },
  {
   "cell_type": "code",
   "execution_count": null,
   "id": "supreme-relay",
   "metadata": {},
   "outputs": [],
   "source": [
    "list(range(3, 10))  # 3以上10未満の連番のリスト"
   ]
  },
  {
   "cell_type": "code",
   "execution_count": null,
   "id": "developing-fraud",
   "metadata": {},
   "outputs": [],
   "source": [
    "list(range(3, 10, 3))  # 3以上10未満で増分3の連番のリスト"
   ]
  },
  {
   "cell_type": "markdown",
   "id": "double-stupid",
   "metadata": {},
   "source": [
    "stepが負の場合、start以下stopを**超過**する範囲での連番が作られる。"
   ]
  },
  {
   "cell_type": "code",
   "execution_count": null,
   "id": "bright-bridge",
   "metadata": {},
   "outputs": [],
   "source": [
    "range(10, 3, -1)  # 10から始まって1ずつ減り3を含まない"
   ]
  },
  {
   "cell_type": "code",
   "execution_count": null,
   "id": "centered-flash",
   "metadata": {},
   "outputs": [],
   "source": [
    "list(range(10, 3, -1))"
   ]
  },
  {
   "cell_type": "markdown",
   "id": "fleet-burst",
   "metadata": {},
   "source": [
    "なお、startとstopの大小によっては、空の連番となる。"
   ]
  },
  {
   "cell_type": "code",
   "execution_count": null,
   "id": "objective-webmaster",
   "metadata": {},
   "outputs": [],
   "source": [
    "range(10, 3)  # 10以上3未満"
   ]
  },
  {
   "cell_type": "code",
   "execution_count": null,
   "id": "multiple-windsor",
   "metadata": {},
   "outputs": [],
   "source": [
    "list(range(10, 3))  # そんなものはない"
   ]
  },
  {
   "cell_type": "markdown",
   "id": "clear-clearing",
   "metadata": {},
   "source": [
    "rangeオブジェクトはよくfor文と組み合わせて使われる<a name=\"cite_ref-20\"></a>[<sup>[20]</sup>](#cite_note-20)<a name=\"cite_ref-21\"></a>[<sup>[21]</sup>](#cite_note-21)。"
   ]
  },
  {
   "cell_type": "code",
   "execution_count": null,
   "id": "affected-chance",
   "metadata": {},
   "outputs": [],
   "source": [
    "for i in range(3):\n",
    "    print(i)"
   ]
  },
  {
   "cell_type": "code",
   "execution_count": null,
   "id": "advised-reminder",
   "metadata": {},
   "outputs": [],
   "source": [
    "# 1から100までの数の和\n",
    "sum_value = 0\n",
    "\n",
    "for i in range(1, 101):\n",
    "    sum_value += i\n",
    "\n",
    "print(sum_value)"
   ]
  },
  {
   "cell_type": "markdown",
   "id": "flying-strip",
   "metadata": {},
   "source": [
    "これらはwhile文を使って書くこともできるが、for文と`range`を使って書いたほうが簡潔になるだろう。"
   ]
  },
  {
   "cell_type": "markdown",
   "id": "generic-lightning",
   "metadata": {},
   "source": [
    "## 練習問題"
   ]
  },
  {
   "cell_type": "markdown",
   "id": "confirmed-dressing",
   "metadata": {},
   "source": [
    "(4) 上の「1から100までの数の和」を求めるプログラムを、while文を使って書き換えよ。"
   ]
  },
  {
   "cell_type": "markdown",
   "id": "ordinary-origin",
   "metadata": {},
   "source": [
    "(5) for文と`range`を使って、1から100までの数の積を求めよ。"
   ]
  },
  {
   "cell_type": "markdown",
   "id": "clear-listing",
   "metadata": {},
   "source": [
    "(6) for文と`range`を使って、1から100までの数のうち、3の倍数である数の和を求めよ。"
   ]
  },
  {
   "cell_type": "markdown",
   "id": "expected-amplifier",
   "metadata": {},
   "source": [
    "## ループのネスト"
   ]
  },
  {
   "cell_type": "markdown",
   "id": "extra-button",
   "metadata": {},
   "source": [
    "ループもネストして多重ループを作ることができる。外側と内側のループ変数がどのような順で変わっていくか確認しよう。"
   ]
  },
  {
   "cell_type": "code",
   "execution_count": null,
   "id": "heavy-flashing",
   "metadata": {},
   "outputs": [],
   "source": [
    "for name in [\"Alice\", \"Bob\", \"Carol\", \"Dave\"]:\n",
    "    for i in range(3):\n",
    "        print(f\"{name}, {i}\")"
   ]
  },
  {
   "cell_type": "markdown",
   "id": "happy-assurance",
   "metadata": {},
   "source": [
    "<!-- textlint-disable ja-technical-writing/ja-no-mixed-period -->\n",
    "\n",
    "次のセルでは\n",
    "\n",
    "<!-- textlint-enable -->"
   ]
  },
  {
   "cell_type": "markdown",
   "id": "institutional-current",
   "metadata": {},
   "source": [
    "$$\n",
    "\\sum_{i=1}^n \\sum_{j=1}^i j\n",
    "=\n",
    "\\frac{1}{6} n (n + 1) (n + 2) ,\n",
    "\\tag{1}\n",
    "$$"
   ]
  },
  {
   "cell_type": "markdown",
   "id": "dressed-mirror",
   "metadata": {},
   "source": [
    "の和を計算している。"
   ]
  },
  {
   "cell_type": "code",
   "execution_count": null,
   "id": "original-thumb",
   "metadata": {},
   "outputs": [],
   "source": [
    "n = 10\n",
    "\n",
    "sum_value = 0\n",
    "\n",
    "for i in range(1, n + 1):\n",
    "    for j in range(1, i + 1):\n",
    "        sum_value += j\n",
    "\n",
    "print(sum_value)"
   ]
  },
  {
   "cell_type": "markdown",
   "id": "modified-perspective",
   "metadata": {},
   "source": [
    "## 覆面算"
   ]
  },
  {
   "cell_type": "markdown",
   "id": "involved-appliance",
   "metadata": {},
   "source": [
    "次のような「覆面算」を考えよう。"
   ]
  },
  {
   "cell_type": "markdown",
   "id": "incorporated-course",
   "metadata": {},
   "source": [
    "![AB + BA = AAC](https://tueda.github.io/PS2022SS/notebooks/images/alphametics_AB_BA_AAC.png)"
   ]
  },
  {
   "cell_type": "markdown",
   "id": "significant-meter",
   "metadata": {},
   "source": [
    "ここでは、覆面算に次のようなルールを設定する。\n",
    "\n",
    "- 1文字はそれぞれ1桁の数字を表す。\n",
    "- 同じ文字は同じ数字を表し、異なる文字は異なる数字を表す。\n",
    "- 左端の数字は0ではない。たとえば上の例だと、AとBは0ではなく、必ず2桁+2桁=3桁の計算であるとする。\n",
    "\n",
    "さて、それぞれの文字には何の数字が入るだろうか。"
   ]
  },
  {
   "cell_type": "markdown",
   "id": "widespread-place",
   "metadata": {},
   "source": [
    "<!-- textlint-disable ja-technical-writing/sentence-length -->\n",
    "\n",
    "パズルとしての覆面算は人間が知恵を働かせて解くという点に面白味があるのだが<a name=\"cite_ref-22\"></a>[<sup>[22]</sup>](#cite_note-22)、ここでは無粋にもコンピューターにあらゆる組み合わせを調べさせることで解いてみよう。このようにすべての解の候補を体系的に調べ尽くす探索方法を「力まかせ探索（brute-force search）」「総当たり探索（exhaustive search）」あるいは「しらみつぶし探索」などと呼び、単純で原始的ではあるが汎用的な方法である。\n",
    "\n",
    "<!-- textlint-enable -->"
   ]
  },
  {
   "cell_type": "markdown",
   "id": "scheduled-health",
   "metadata": {},
   "source": [
    "<!-- textlint-disable ja-technical-writing/ja-no-mixed-period -->\n",
    "\n",
    "AとBは1から9までの整数、Cは0から9までの整数であるから、この$9\\times9\\times10=810$通りについて（A、B、Cそれぞれの値を変数`a`、`b`、`c`に入れておくとする）、\n",
    "- $x = a \\times 10 + b$\n",
    "- $y = b \\times 10 + a$\n",
    "- $z = a \\times 100 + a \\times 10 + c$\n",
    "\n",
    "としたときに$x + y = z$が満たされるかどうかを調べればよい。次のプログラムでは、A、B、Cについてネストしたループによってすべての組み合わせを調べ、解になっているものを表示している。\n",
    "\n",
    "<!-- textlint-enable -->"
   ]
  },
  {
   "cell_type": "code",
   "execution_count": null,
   "id": "ranging-merchant",
   "metadata": {},
   "outputs": [],
   "source": [
    "# a, b, cのすべての組み合わせを調べる。\n",
    "for a in range(1, 10):\n",
    "    for b in range(1, 10):\n",
    "        for c in range(0, 10):\n",
    "            # x, y, zを計算する。\n",
    "            x = a * 10 + b\n",
    "            y = b * 10 + a\n",
    "            z = a * 100 + a * 10 + c\n",
    "            # 解であれば表示する。\n",
    "            if x + y == z:\n",
    "                print(f\"A = {a}, B = {b}, C = {c}\")"
   ]
  },
  {
   "cell_type": "markdown",
   "id": "metallic-closer",
   "metadata": {},
   "source": [
    "得られた解が実際に覆面算の解になっているか（手や電卓やJupyterで）検算して確かめてみよう。"
   ]
  },
  {
   "cell_type": "markdown",
   "id": "wooden-supervision",
   "metadata": {},
   "source": [
    "なお、上の例では簡単のために覆面算の「異なる文字は異なる数字を表す」というルールを考慮していない。それでも、この場合は正しい解が得られている。"
   ]
  },
  {
   "cell_type": "markdown",
   "id": "metric-buddy",
   "metadata": {},
   "source": [
    "## 演習課題"
   ]
  },
  {
   "cell_type": "markdown",
   "id": "discrete-consortium",
   "metadata": {},
   "source": [
    "(1) 上の例を参考にして、次の覆面算を解くプログラムを作れ。"
   ]
  },
  {
   "cell_type": "markdown",
   "id": "extensive-duplicate",
   "metadata": {},
   "source": [
    "![AAA + ABB = CBAA](https://tueda.github.io/PS2022SS/notebooks/images/alphametics_AAA_ABB_CBAA.png)"
   ]
  },
  {
   "cell_type": "markdown",
   "id": "abandoned-mumbai",
   "metadata": {},
   "source": [
    "ここで、AとCは$0$でないことに注意せよ。「異なる文字は異なる数字を表す」というルールを考慮せずとも、正しい解が見つかるだろう。"
   ]
  },
  {
   "cell_type": "code",
   "execution_count": null,
   "id": "protecting-showcase",
   "metadata": {},
   "outputs": [],
   "source": [
    "# 課題解答3.1  <-- 提出時に、このコメント行を必ず含めること。\n",
    "\n",
    "# このセルに解答（この行は消してよい）"
   ]
  },
  {
   "cell_type": "markdown",
   "id": "colored-advance",
   "metadata": {},
   "source": [
    "(2) 次の覆面算を解くプログラムを作れ。"
   ]
  },
  {
   "cell_type": "markdown",
   "id": "round-transcript",
   "metadata": {},
   "source": [
    "![BBA + CBC = DDAB](https://tueda.github.io/PS2022SS/notebooks/images/alphametics_BBA_CBC_DDAB.png)"
   ]
  },
  {
   "cell_type": "markdown",
   "id": "enabling-chick",
   "metadata": {},
   "source": [
    "文字Dが追加されたこと、BとCとDは$0$でないことに注意せよ。また、「異なる文字は異なる数字を表す」というルールを考慮せよ<a name=\"cite_ref-23\"></a>[<sup>[23]</sup>](#cite_note-23)。解は3個ある。"
   ]
  },
  {
   "cell_type": "code",
   "execution_count": null,
   "id": "homeless-poison",
   "metadata": {},
   "outputs": [],
   "source": [
    "# 課題解答3.2  <-- 提出時に、このコメント行を必ず含めること。\n",
    "\n",
    "# このセルに解答（この行は消してよい）"
   ]
  },
  {
   "cell_type": "markdown",
   "id": "concerned-integral",
   "metadata": {},
   "source": [
    "## 発展課題"
   ]
  },
  {
   "cell_type": "markdown",
   "id": "impaired-outreach",
   "metadata": {},
   "source": [
    "<!-- textlint-disable jtf-style/1.1.1.本文 -->\n",
    "\n",
    "余裕があればやってみてください。\n",
    "\n",
    "<!-- textlint-enable -->"
   ]
  },
  {
   "cell_type": "markdown",
   "id": "ahead-heather",
   "metadata": {},
   "source": [
    "古代ギリシャの時代、アルキメデスは円に内接、および外接する正96角形の周の長さを計算することによって、円周率が約3.14であることを見出したという。さて、今日は四則演算（と繰り返し）だけを使いアルキメデスを超えて、もっと先の桁まで円周率を求めてみよう。"
   ]
  },
  {
   "cell_type": "markdown",
   "id": "color-topic",
   "metadata": {},
   "source": [
    "(3) 次の和を計算せよ。ただし和の上限$m_1$と$m_2$は、計算結果の有効数字15桁程度までが変わらなくなるくらいまで十分に大きな整数と取ること<a name=\"cite_ref-24\"></a>[<sup>[24]</sup>](#cite_note-24)。"
   ]
  },
  {
   "cell_type": "markdown",
   "id": "representative-weapon",
   "metadata": {},
   "source": [
    "<!-- textlint-disable ja-technical-writing/sentence-length -->\n",
    "\n",
    "$$\n",
    "S_1(m_1,m_2)\n",
    "=\n",
    "16 \\sum_{k=0}^{m_1} \\frac{(-1)^k}{2k+1} \\left(\\frac{1}{5}\\right)^{2k+1}\n",
    "-4 \\sum_{k=0}^{m_2} \\frac{(-1)^k}{2k+1} \\left(\\frac{1}{239}\\right)^{2k+1} .\n",
    "\\tag{2}\n",
    "$$\n",
    "\n",
    "<!-- textlint-enable -->"
   ]
  },
  {
   "cell_type": "markdown",
   "id": "operational-paradise",
   "metadata": {},
   "source": [
    "この級数は$m_1\\to\\infty$、$m_2\\to\\infty$の極限で円周率に収束することが知られている<a name=\"cite_ref-25\"></a>[<sup>[25]</sup>](#cite_note-25)。"
   ]
  },
  {
   "cell_type": "code",
   "execution_count": null,
   "id": "finished-vacation",
   "metadata": {},
   "outputs": [],
   "source": [
    "# 課題解答3.3  <-- 提出時に、このコメント行を必ず含めること。\n",
    "\n",
    "# このセルに解答（この行は消してよい）"
   ]
  },
  {
   "cell_type": "markdown",
   "id": "prepared-collapse",
   "metadata": {},
   "source": [
    "<!-- textlint-disable ja-technical-writing/sentence-length -->\n",
    "\n",
    "一般に、ある問題の数値計算をコンピューターで行ったとき、その結果を盲目的に正しいと考えるのは危険である。プログラムのミスによるバグに加え、アルゴリズムによる打切り誤差、浮動小数点数が有限の桁数しか扱えないことによる情報落ち、桁落ち、丸め誤差など、プログラムが間違った数値結果を出す要因は山ほど考えられる<a name=\"cite_ref-26\"></a>[<sup>[26]</sup>](#cite_note-26)。これらを回避する1つの方法は、同じ問題をまったく違った方法で検算してみることである。2つの独立したプログラムが同じ答えを出したならば、我々はある程度の確信を持って得られた結果が正しいのだと主張できるだろう（もっとも、2つのプログラムが両方とも間違っている可能性もゼロではないが）。そこで、円周率の計算を、違う級数を用いてもう一度行ってみよう。\n",
    "\n",
    "<!-- textlint-enable -->"
   ]
  },
  {
   "cell_type": "markdown",
   "id": "antique-asbestos",
   "metadata": {},
   "source": [
    "(4) 次の和を計算せよ。ただし和の上限$m$は、計算結果の有効数字15桁程度までが変わらなくなるくらいまで十分に大きな整数と取ること。"
   ]
  },
  {
   "cell_type": "markdown",
   "id": "allied-registrar",
   "metadata": {},
   "source": [
    "<!-- textlint-disable ja-technical-writing/sentence-length -->\n",
    "\n",
    "$$\n",
    "S_2(m)\n",
    "=\n",
    "\\sum_{k=0}^{m} \\frac{1}{16^k}\n",
    "\\left(\n",
    "\\frac{4}{8k+1} - \\frac{2}{8k+4} - \\frac{1}{8k+5} - \\frac{1}{8k+6}\n",
    "\\right) .\n",
    "\\tag{3}\n",
    "$$\n",
    "\n",
    "<!-- textlint-enable -->"
   ]
  },
  {
   "cell_type": "markdown",
   "id": "herbal-robertson",
   "metadata": {},
   "source": [
    "<!-- textlint-disable jtf-style/4.3.1.丸かっこ（） -->\n",
    "\n",
    "この級数も$m\\to\\infty$で円周率に収束することが知られている<a name=\"cite_ref-27\"></a>[<sup>[27]</sup>](#cite_note-27)。式<!-- eqref -->(2)とほとんど同じ結果が得られるだろうか。\n",
    "\n",
    "<!-- textlint-enable -->"
   ]
  },
  {
   "cell_type": "code",
   "execution_count": null,
   "id": "critical-bangkok",
   "metadata": {},
   "outputs": [],
   "source": [
    "# 課題解答3.4  <-- 提出時に、このコメント行を必ず含めること。\n",
    "\n",
    "# このセルに解答（この行は消してよい）"
   ]
  },
  {
   "cell_type": "markdown",
   "id": "thermal-wallpaper",
   "metadata": {},
   "source": [
    "## 脚注"
   ]
  },
  {
   "cell_type": "markdown",
   "id": "united-jewel",
   "metadata": {},
   "source": [
    "<a name=\"cite_note-1\"></a>1.&nbsp;[^](#cite_ref-1)\n",
    "実は、while文や後で出てくるfor文に`else`節をつけて「ループ処理が終わった後に行う処理」を記述できる。このとき、break文でループを抜けると`else`節の中は実行されない。"
   ]
  },
  {
   "cell_type": "markdown",
   "id": "dated-surge",
   "metadata": {},
   "source": [
    "<a name=\"cite_note-2\"></a>2.&nbsp;[^](#cite_ref-2)\n",
    "RubyやRustなどといったプログラミング言語では、無限ループ専用の言語機能がある（[loopメソッド](https://docs.ruby-lang.org/ja/latest/method/Kernel/m/loop.html)、[loopキーワード](https://doc.rust-jp.rs/rust-by-example-ja/flow_control/loop.html)）。"
   ]
  },
  {
   "cell_type": "markdown",
   "id": "excess-modification",
   "metadata": {},
   "source": [
    "<a name=\"cite_note-3\"></a>3.&nbsp;[^](#cite_ref-3)\n",
    "ヒント：「二分探索」でグーグル検索。"
   ]
  },
  {
   "cell_type": "markdown",
   "id": "immune-utilization",
   "metadata": {},
   "source": [
    "<!-- textlint-disable ja-technical-writing/sentence-length -->\n",
    "\n",
    "<a name=\"cite_note-4\"></a>4.&nbsp;[^](#cite_ref-4)\n",
    "いわゆる動的配列（dynamic array）であり、C++でいうところの`vector`、Rustでいうところの`Vec`、Javaでいうところの`ArrayList`、RubyやJavaScriptでいうところの`Array`と似たようなものとして使える。\n",
    "\n",
    "<!-- textlint-enable -->"
   ]
  },
  {
   "cell_type": "markdown",
   "id": "dirty-musician",
   "metadata": {},
   "source": [
    "<a name=\"cite_note-5\"></a>5.&nbsp;[^](#cite_ref-5)\n",
    "角括弧の代わりに丸括弧`()`を使うとタプル（tuple）となる。タプルはリストと似ているが変更不可能（イミュータブル；immutable）である。文法上問題ない場所では、丸括弧も要らない。\n",
    "```python\n",
    "1, 2  # (1, 2)のタプル\n",
    "```"
   ]
  },
  {
   "cell_type": "markdown",
   "id": "gorgeous-moderator",
   "metadata": {},
   "source": [
    "<a name=\"cite_note-6\"></a>6.&nbsp;[^](#cite_ref-6)\n",
    "リスト固有の演算子というよりも、タプル、文字列、rangeオブジェクトを含む、[シーケンス（sequence）に対して定義される共通の演算子](https://docs.python.org/ja/3/library/stdtypes.html#sequence-types-list-tuple-range)である。"
   ]
  },
  {
   "cell_type": "markdown",
   "id": "49fea66e",
   "metadata": {},
   "source": [
    "本文中にあげてないものの中では、一部分だけを取り出すスライス（slice）が便利。"
   ]
  },
  {
   "cell_type": "markdown",
   "id": "a9a03a3d",
   "metadata": {},
   "source": [
    "```python\n",
    "# 文字列のスライスの例。ただし、この例だとスライスが便利と言われてもピンとこないと思う。\n",
    "\n",
    "print(\"catdogeel\"[:3])  # ==> \"cat\"\n",
    "print(\"catdogeel\"[3:6])  # ==> \"dog\"\n",
    "print(\"catdogeel\"[-3:])  # ==> \"eel\"\n",
    "\n",
    "print(\"cdeaoetgl\"[::3])  # ==> \"cat\"\n",
    "print(\"cdeaoetgl\"[1::3])  # ==> \"dog\"\n",
    "print(\"cdeaoetgl\"[2::3])  # ==> \"eel\"\n",
    "\n",
    "print(\"lgteoaedc\"[-1::-3])  # ==> \"cat\"\n",
    "print(\"lgteoaedc\"[-2::-3])  # ==> \"dog\"\n",
    "print(\"lgteoaedc\"[-3::-3])  # ==> \"eel\"\n",
    "```"
   ]
  },
  {
   "cell_type": "markdown",
   "id": "flexible-donor",
   "metadata": {},
   "source": [
    "<a name=\"cite_note-7\"></a>7.&nbsp;[^](#cite_ref-7)\n",
    "`a.append(1)`の代わりに`a.extend([1])`や`a = a + [1]`や`a += [1]`と書いてもよいが、この授業ではおとなしく`append`メソッドを使うことにする。"
   ]
  },
  {
   "cell_type": "markdown",
   "id": "electric-strap",
   "metadata": {},
   "source": [
    "<!-- textlint-disable ja-technical-writing/max-ten -->\n",
    "\n",
    "<a name=\"cite_note-8\"></a>8.&nbsp;[^](#cite_ref-8)\n",
    "または、インスタンス（実体）化されたオブジェクトであるので、インスタンス・オブジェクト（instance object）と読んだり、単にインスタンスと呼ぶこともある。\n",
    "\n",
    "<!-- textlint-enable -->"
   ]
  },
  {
   "cell_type": "markdown",
   "id": "oriented-analyst",
   "metadata": {},
   "source": [
    "<a name=\"cite_note-9\"></a>9.&nbsp;[^](#cite_ref-9)\n",
    "このほか、属性の一種であり、属性のようにしてアクセスするが、実際にはメソッドの呼び出しが起こるプロパティ（property）がある。"
   ]
  },
  {
   "cell_type": "markdown",
   "id": "blond-table",
   "metadata": {},
   "source": [
    "<a name=\"cite_note-10\"></a>10.&nbsp;[^](#cite_ref-10)\n",
    "通常は、クラス内でメソッドを定義したり、属性を初期化したりする。ただし、Pythonは柔軟なプログラミング言語なので、やろうと思えばオブジェクトを作成した後に属性やメソッドを動的に追加できてしまう。"
   ]
  },
  {
   "cell_type": "markdown",
   "id": "outdoor-anthropology",
   "metadata": {},
   "source": [
    "<a name=\"cite_note-11\"></a>11.&nbsp;[^](#cite_ref-11)\n",
    "もともと[Smalltalk](https://ja.wikipedia.org/wiki/Smalltalk)の標語である（\"everything is an object\"）。"
   ]
  },
  {
   "cell_type": "markdown",
   "id": "decimal-relay",
   "metadata": {},
   "source": [
    "<a name=\"cite_note-12\"></a>12.&nbsp;[^](#cite_ref-12)\n",
    "どこまでが「すべて」に含まれるべきなのかは議論の余地がある。ここでは、関数やクラスを含め、Pythonプログラムにおいて「メモリー上に存在するデータすべて」くらいの意味に取ればよいだろう。この意味において、C++やJavaなどのオブジェクト指向言語では「すべてがオブジェクトであるわけではない」。"
   ]
  },
  {
   "cell_type": "markdown",
   "id": "domestic-mailing",
   "metadata": {},
   "source": [
    "<a name=\"cite_note-13\"></a>13.&nbsp;[^](#cite_ref-13)\n",
    "`(3).real`のように丸括弧を付けないと、（小数点と区別がつかないので）文法エラーとなる。"
   ]
  },
  {
   "cell_type": "markdown",
   "id": "inner-label",
   "metadata": {},
   "source": [
    "<a name=\"cite_note-14\"></a>14.&nbsp;[^](#cite_ref-14)\n",
    "「そんなもの、ただ注意深く書けばよい」と思った人は、この問題を理解できていない。例えば[Windows XPのソースコードは約4500万行](https://www.facebook.com/windows/posts/155741344475532)あったそうだ。筆者が開発に参加している[FORM](https://github.com/vermaseren/form)というプログラムは、Windowsに比べれば大したことはないが、それでも15万行弱はある。これくらいの分量のプログラムに潜むバグをできるだけ減らすにはどうすればよいのか、というソフトウェア開発方法論の話である。"
   ]
  },
  {
   "cell_type": "markdown",
   "id": "humanitarian-czech",
   "metadata": {},
   "source": [
    "<a name=\"cite_note-15\"></a>15.&nbsp;[^](#cite_ref-15)\n",
    "つまり[こういうこと](https://twitter.com/k_yagisan9/status/944573317129711617)。"
   ]
  },
  {
   "cell_type": "markdown",
   "id": "joint-alaska",
   "metadata": {},
   "source": [
    "<a name=\"cite_note-16\"></a>16.&nbsp;[^](#cite_ref-16)\n",
    "C/C++やJavaなど、ほかのプログラミング言語から来た人へ：Pythonのfor文はスコープを作らない。つまり、ループ変数はfor文の外側に漏れる。"
   ]
  },
  {
   "cell_type": "markdown",
   "id": "annoying-import",
   "metadata": {},
   "source": [
    "<a name=\"cite_note-17\"></a>17.&nbsp;[^](#cite_ref-17)\n",
    "for文に与えるべきデータの集合は[反復可能オブジェクト（イテラブル；iterable）](https://docs.python.org/ja/3/glossary.html#term-iterable)である。"
   ]
  },
  {
   "cell_type": "markdown",
   "id": "alpha-climate",
   "metadata": {},
   "source": [
    "<!-- textlint-disable ja-technical-writing/sentence-length -->\n",
    "\n",
    "<a name=\"cite_note-18\"></a>18.&nbsp;[^](#cite_ref-18)\n",
    "ここでなぜ`sum_value`という変数名を使って、`sum`という短くて分かりやすい名前にしなかったかというと、Pythonには[`sum`という組み込み関数](https://docs.python.org/ja/3/library/functions.html?highlight=sum#sum)があり、これを上書きすることはあまり[好ましくないと考えられる](https://qiita.com/nagataaaas/items/ba33c4c4e0df0b5aa0c4#%E7%B5%84%E3%81%BF%E8%BE%BC%E3%81%BF%E3%82%92%E3%82%B7%E3%83%A3%E3%83%89%E3%82%A6%E3%81%99%E3%82%8B%E3%81%AA)からである。と言うか、リスト内の要素の和を取りたければ`sum`関数を使って`sum(a)`とすればよい。平均や標準偏差などの計算には[`statistics`モジュール](https://docs.python.org/ja/3/library/statistics.html)に用意された関数を使えばよい。ここでの例はあくまでも「教育的な」ものだと思って欲しい。\n",
    "\n",
    "<!-- textlint-enable -->"
   ]
  },
  {
   "cell_type": "markdown",
   "id": "intelligent-audience",
   "metadata": {},
   "source": [
    "<a name=\"cite_note-19\"></a>19.&nbsp;[^](#cite_ref-19)\n",
    "for文を使わなくてよいのなら、`sum(x > 1 for x in a)`とか`sum(1 for x in a if x > 1)`という書き方もある。ただし少々読みづらいし、ここでは扱わない。"
   ]
  },
  {
   "cell_type": "markdown",
   "id": "executive-jones",
   "metadata": {},
   "source": [
    "<a name=\"cite_note-20\"></a>20.&nbsp;[^](#cite_ref-20)\n",
    "ちなみに、整数のループ変数にはよく`i`、`j`、`k`などが使われる。これはFORTRANの時代からの伝統である。"
   ]
  },
  {
   "cell_type": "markdown",
   "id": "popular-saturday",
   "metadata": {},
   "source": [
    "<a name=\"cite_note-21\"></a>21.&nbsp;[^](#cite_ref-21)\n",
    "1から100までの数の和は[`sum`関数](https://docs.python.org/ja/3/library/functions.html?highlight=sum#sum)を使えば`sum(range(1, 101))`と書ける。"
   ]
  },
  {
   "cell_type": "markdown",
   "id": "37ac8be8",
   "metadata": {},
   "source": [
    "<a name=\"cite_note-22\"></a>22.&nbsp;[^](#cite_ref-22)\n",
    "まず、2桁の整数2個の和が十の位から百の位に繰り上がりを起こしているので、$A=1$だと分かる。このとき、もし一の位から十の位に繰り上がりがなければ$B+1=C$かつ$1+B=11$、繰り上がりがあれば$B+1=10+C$かつ$1+B+1=11$である。前者は$B=10$と2桁の数字になってしまうので条件を満たさない。よって後者より$B=9$、$C=0$と求まる。"
   ]
  },
  {
   "cell_type": "markdown",
   "id": "curious-arbitration",
   "metadata": {},
   "source": [
    "<a name=\"cite_note-23\"></a>23.&nbsp;[^](#cite_ref-23)\n",
    "このルールを入れ忘れると解は5個出てくる。"
   ]
  },
  {
   "cell_type": "markdown",
   "id": "hidden-princess",
   "metadata": {},
   "source": [
    "<a name=\"cite_note-24\"></a>24.&nbsp;[^](#cite_ref-24)\n",
    "まずは$m_1=7$、$m_2=1$くらいから始めて徐々に大きな値を試していけばよい（プログラム中で、`m1 = 7`、`m2 = 1`のように決まった値を与えてよい）。"
   ]
  },
  {
   "cell_type": "markdown",
   "id": "working-dimension",
   "metadata": {},
   "source": [
    "<!-- textlint-disable\n",
    "ja-engineering-paper/prh,\n",
    "ja-technical-writing/ja-no-weak-phrase,\n",
    "ja-technical-writing/sentence-length,\n",
    "jtf-style/4.3.1.丸かっこ（）,\n",
    "-->\n",
    "\n",
    "<a name=\"cite_note-25\"></a>25.&nbsp;[^](#cite_ref-25)\n",
    "1706年にジョン・マチンによって発見された[マチンの公式](https://ja.wikipedia.org/wiki/%E3%83%9E%E3%83%81%E3%83%B3%E3%81%AE%E5%85%AC%E5%BC%8F)である。この式をもとに、ウィリアム・シャンクスは円周率を計算した。その桁数は1873年には707桁に達したが、1946年に527桁までしか正しくないことが発見された（間違いは1853年の607桁の結果にはすでに混入していたが、彼はそのまま20年間計算を続けてしまった）。このような計算は彼の時代では骨の折れる困難なものであっただろう。もちろん今日ではコンピューターを用いて簡単に実行できる。Pythonでも[decimal](https://docs.python.org/ja/3/library/decimal.html)や[mpmath](http://mpmath.org/)のような任意精度演算ライブラリを使うことによって1000桁程度は一瞬で計算できる（もし式<!-- eqref -->(2)を使うなら$m_1=720$、$m_2=210$程度）。現在我々がスーパーコンピューターなどを駆使して苦労しながら行っているような大規模計算も、100年後の人間にとっては（現代のコンピューターに代わる何かを使って）簡単なことなのかもしれない。\n",
    "\n",
    "<!-- textlint-enable -->"
   ]
  },
  {
   "cell_type": "markdown",
   "id": "electric-partner",
   "metadata": {},
   "source": [
    "<!-- textlint-disable ja-technical-writing/ja-no-mixed-period,ja-technical-writing/no-doubled-joshi -->\n",
    "\n",
    "<a name=\"cite_note-26\"></a>26.&nbsp;[^](#cite_ref-26)\n",
    "このあたりの事情については、\n",
    "- 伊理正夫、藤野和建「数値計算の常識」共立出版 (1985) ISBN\t978-4-320-01343-8\n",
    "\n",
    "が詳しい。この本が書かれてから何十年も経っており、コンピューターの計算速度やメモリーの容量は格段に進化したが、標準的な計算精度はまったく変わっていない（通常、倍精度浮動小数点数が使われている）。数値計算上の「落し穴」は今も昔も変わらない。\n",
    "\n",
    "<!-- textlint-enable -->"
   ]
  },
  {
   "cell_type": "markdown",
   "id": "neutral-painting",
   "metadata": {},
   "source": [
    "<!-- textlint-disable ja-technical-writing/sentence-length -->\n",
    "\n",
    "<a name=\"cite_note-27\"></a>27.&nbsp;[^](#cite_ref-27)\n",
    "この式は円周率の16進法での$n$桁目を直接計算できるタイプの公式の中で最初に発見されたものである。まず[PSLQアルゴリズム](https://mathworld.wolfram.com/PSLQAlgorithm.html)を用いた「数値実験」によって発見され、その後証明された。\n",
    "- David Bailey, Peter Borwein and Simon Plouffe, *On the rapid computation of various polylogarithmic constants*,\n",
    "[*Math. Comp.* **66** (1997) 903-913](https://doi.org/10.1090%2FS0025-5718-97-00856-9).\n",
    "\n",
    "<!-- textlint-enable -->"
   ]
  }
 ],
 "metadata": {
  "kernelspec": {
   "display_name": "Python 3 (ipykernel)",
   "language": "python",
   "name": "python3"
  },
  "language_info": {
   "codemirror_mode": {
    "name": "ipython",
    "version": 3
   },
   "file_extension": ".py",
   "mimetype": "text/x-python",
   "name": "python",
   "nbconvert_exporter": "python",
   "pygments_lexer": "ipython3",
   "version": "3.7.13"
  }
 },
 "nbformat": 4,
 "nbformat_minor": 5
}
