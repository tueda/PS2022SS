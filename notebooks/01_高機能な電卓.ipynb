{
 "cells": [
  {
   "cell_type": "markdown",
   "id": "opening-mortgage",
   "metadata": {},
   "source": [
    "# 高機能な電卓"
   ]
  },
  {
   "cell_type": "markdown",
   "id": "mathematical-annex",
   "metadata": {},
   "source": [
    "Jupyter Notebookを少し気の利く「高機能な電卓」として使ってみよう<a name=\"cite_ref-1\"></a>[<sup>[1]</sup>](#cite_note-1)<a name=\"cite_ref-2\"></a>[<sup>[2]</sup>](#cite_note-2)。"
   ]
  },
  {
   "cell_type": "markdown",
   "id": "induced-legislation",
   "metadata": {},
   "source": [
    "よく使うJupyter Notebookのセルの種類には2つある。コード（Code）とテキスト（Markdown）である。プログラムを書いて実行できるのはコードセルである。コードセルを好きなだけ挿入したり、逆に削除したりしてみよう。また、以下にあるコードセルの式を変えて実行したりして遊んでみよう。理解を深めるためにも自分でいろいろと試してみることが大切である。"
   ]
  },
  {
   "cell_type": "markdown",
   "id": "romantic-greensboro",
   "metadata": {},
   "source": [
    "**注意：Pythonのプログラムで使う数字や記号は基本的に半角で入力する。特に、全角スペースを文法的に許されない場所に入れると（半角スペースと見分けがつかないので）分かりにくいエラーとなる。**"
   ]
  },
  {
   "cell_type": "markdown",
   "id": "apparent-sierra",
   "metadata": {},
   "source": [
    "## 今回のねらい"
   ]
  },
  {
   "cell_type": "markdown",
   "id": "documented-condition",
   "metadata": {},
   "source": [
    "- Jupyter Notebook（あるいはGoogle Colaboratoryなど、同等の機能を持ったプログラミング環境）の操作に慣れる。\n",
    "- Pythonで順次実行による簡単な計算（電卓の代わり）ができるようになる。\n",
    "- 変数とデータ型について理解する。"
   ]
  },
  {
   "cell_type": "markdown",
   "id": "conditional-terrain",
   "metadata": {},
   "source": [
    "## 基本的な算術演算"
   ]
  },
  {
   "cell_type": "markdown",
   "id": "sitting-pulse",
   "metadata": {},
   "source": [
    "まずは、足し算（`+`）、引き算（`-`）、掛け算（`*`）、割り算（`/`）、および冪乗（`**`）を使ってみよう<a name=\"cite_ref-3\"></a>[<sup>[3]</sup>](#cite_note-3)<a name=\"cite_ref-4\"></a>[<sup>[4]</sup>](#cite_note-4)<a name=\"cite_ref-5\"></a>[<sup>[5]</sup>](#cite_note-5)。数字としては、通常の整数、小数（`6.02e23`、`6.63e-34`のようなE表記<a name=\"cite_ref-6\"></a>[<sup>[6]</sup>](#cite_note-6)も可能）などが使える。"
   ]
  },
  {
   "cell_type": "code",
   "execution_count": null,
   "id": "automated-arnold",
   "metadata": {},
   "outputs": [],
   "source": [
    "100 + 5"
   ]
  },
  {
   "cell_type": "code",
   "execution_count": null,
   "id": "described-translator",
   "metadata": {},
   "outputs": [],
   "source": [
    "1 - 0.1"
   ]
  },
  {
   "cell_type": "code",
   "execution_count": null,
   "id": "saved-strap",
   "metadata": {},
   "outputs": [],
   "source": [
    "9 * 2"
   ]
  },
  {
   "cell_type": "code",
   "execution_count": null,
   "id": "adequate-promotion",
   "metadata": {},
   "outputs": [],
   "source": [
    "1 / 3"
   ]
  },
  {
   "cell_type": "code",
   "execution_count": null,
   "id": "southeast-hands",
   "metadata": {},
   "outputs": [],
   "source": [
    "2**3"
   ]
  },
  {
   "cell_type": "code",
   "execution_count": null,
   "id": "ultimate-literature",
   "metadata": {},
   "outputs": [],
   "source": [
    "1.234e2 + 5.6789e-2"
   ]
  },
  {
   "cell_type": "markdown",
   "id": "humanitarian-filter",
   "metadata": {},
   "source": [
    "整数としての割り算（`//`）や、余りを求める（`%`）こともできる。通常の割り算（`/`）と比べてみよう<a name=\"cite_ref-7\"></a>[<sup>[7]</sup>](#cite_note-7)。"
   ]
  },
  {
   "cell_type": "code",
   "execution_count": null,
   "id": "linear-credits",
   "metadata": {},
   "outputs": [],
   "source": [
    "22 / 7"
   ]
  },
  {
   "cell_type": "code",
   "execution_count": null,
   "id": "executed-particular",
   "metadata": {},
   "outputs": [],
   "source": [
    "22 // 7"
   ]
  },
  {
   "cell_type": "code",
   "execution_count": null,
   "id": "spoken-saturn",
   "metadata": {},
   "outputs": [],
   "source": [
    "22 % 7"
   ]
  },
  {
   "cell_type": "markdown",
   "id": "sufficient-setup",
   "metadata": {},
   "source": [
    "もちろん、これらの演算の組み合わせを使った計算もできる。数学での規則と同じように、掛け算や割り算は、足し算や引き算よりも先に計算される<a name=\"cite_ref-8\"></a>[<sup>[8]</sup>](#cite_note-8)。計算の順序を変えたいときは丸括弧（`(`と`)`）を使う<a name=\"cite_ref-9\"></a>[<sup>[9]</sup>](#cite_note-9)。"
   ]
  },
  {
   "cell_type": "code",
   "execution_count": null,
   "id": "circular-agreement",
   "metadata": {},
   "outputs": [],
   "source": [
    "2 + 3 * 4"
   ]
  },
  {
   "cell_type": "code",
   "execution_count": null,
   "id": "sought-sunset",
   "metadata": {},
   "outputs": [],
   "source": [
    "(2 + 3) * 4"
   ]
  },
  {
   "cell_type": "markdown",
   "id": "miniature-watch",
   "metadata": {},
   "source": [
    "冪乗の優先順位は高く、掛け算や割り算よりも先に計算されるので注意すること。"
   ]
  },
  {
   "cell_type": "code",
   "execution_count": null,
   "id": "middle-function",
   "metadata": {},
   "outputs": [],
   "source": [
    "2**1 / 2"
   ]
  },
  {
   "cell_type": "code",
   "execution_count": null,
   "id": "serious-intake",
   "metadata": {},
   "outputs": [],
   "source": [
    "2 ** (1 / 2)"
   ]
  },
  {
   "cell_type": "markdown",
   "id": "center-writing",
   "metadata": {},
   "source": [
    "## 練習問題"
   ]
  },
  {
   "cell_type": "markdown",
   "id": "whole-jimmy",
   "metadata": {},
   "source": [
    "(1) 次の2つのセルの実行結果が異なることを確認せよ。また、2つ目のセルではどのような順番で計算が行われているか説明せよ。"
   ]
  },
  {
   "cell_type": "code",
   "execution_count": null,
   "id": "promising-brighton",
   "metadata": {},
   "outputs": [],
   "source": [
    "((1 + 2) * 3) ** 4"
   ]
  },
  {
   "cell_type": "code",
   "execution_count": null,
   "id": "earned-copying",
   "metadata": {},
   "outputs": [],
   "source": [
    "1 + 2 * 3**4"
   ]
  },
  {
   "cell_type": "markdown",
   "id": "bored-tolerance",
   "metadata": {},
   "source": [
    "## データ型"
   ]
  },
  {
   "cell_type": "markdown",
   "id": "rental-small",
   "metadata": {},
   "source": [
    "<!-- textlint-disable ja-technical-writing/ja-no-mixed-period -->\n",
    "\n",
    "プログラミングにおいて、データの取りうる種類のことを「データ型（data type）」（あるいは単に「型」）と呼ぶ<a name=\"cite_ref-10\"></a>[<sup>[10]</sup>](#cite_note-10)。Pythonにもいろいろなデータ型が用意されている。たとえば、Pythonでは整数（`int`）と小数（`float`）はデータ型として区別されており、\n",
    "- 整数どうしの計算は結果が整数に、\n",
    "- 小数どうしの計算は結果が小数に、\n",
    "- 整数と小数の混ざった計算は結果が小数に\n",
    "\n",
    "<!-- textlint-enable -->\n",
    "\n",
    "なる。ただし、`/`を使った割り算は（整数`/`整数であっても）結果が必ず小数になる。"
   ]
  },
  {
   "cell_type": "code",
   "execution_count": null,
   "id": "impressive-senator",
   "metadata": {},
   "outputs": [],
   "source": [
    "1 + 2"
   ]
  },
  {
   "cell_type": "code",
   "execution_count": null,
   "id": "funky-oklahoma",
   "metadata": {},
   "outputs": [],
   "source": [
    "1.0 + 2.0"
   ]
  },
  {
   "cell_type": "code",
   "execution_count": null,
   "id": "finished-insertion",
   "metadata": {},
   "outputs": [],
   "source": [
    "1 + 2.0"
   ]
  },
  {
   "cell_type": "code",
   "execution_count": null,
   "id": "elegant-implement",
   "metadata": {},
   "outputs": [],
   "source": [
    "1 / 2"
   ]
  },
  {
   "cell_type": "markdown",
   "id": "miniature-plate",
   "metadata": {},
   "source": [
    "Pythonでは、（コンピューターのメモリーが許す限り）いくらでも大きな整数（integer）を扱うことができる<a name=\"cite_ref-11\"></a>[<sup>[11]</sup>](#cite_note-11)<a name=\"cite_ref-12\"></a>[<sup>[12]</sup>](#cite_note-12)。"
   ]
  },
  {
   "cell_type": "code",
   "execution_count": null,
   "id": "dramatic-congress",
   "metadata": {},
   "outputs": [],
   "source": [
    "2**67 - 1"
   ]
  },
  {
   "cell_type": "code",
   "execution_count": null,
   "id": "excellent-event",
   "metadata": {},
   "outputs": [],
   "source": [
    "193707721 * 761838257287"
   ]
  },
  {
   "cell_type": "code",
   "execution_count": null,
   "id": "outside-nightlife",
   "metadata": {},
   "outputs": [],
   "source": [
    "999**99"
   ]
  },
  {
   "cell_type": "markdown",
   "id": "joined-studio",
   "metadata": {},
   "source": [
    "一方で、小数は正確には浮動小数点数（floating-point number）と呼ばれ<a name=\"cite_ref-13\"></a>[<sup>[13]</sup>](#cite_note-13)、有効数字16桁弱で**近似的に**表される<a name=\"cite_ref-14\"></a>[<sup>[14]</sup>](#cite_note-14)<a name=\"cite_ref-15\"></a>[<sup>[15]</sup>](#cite_note-15)。"
   ]
  },
  {
   "cell_type": "code",
   "execution_count": null,
   "id": "champion-afternoon",
   "metadata": {},
   "outputs": [],
   "source": [
    "0.3 / 3.0"
   ]
  },
  {
   "cell_type": "code",
   "execution_count": null,
   "id": "interior-toner",
   "metadata": {},
   "outputs": [],
   "source": [
    "0.1 + 0.1 + 0.1"
   ]
  },
  {
   "cell_type": "markdown",
   "id": "weird-culture",
   "metadata": {},
   "source": [
    "## 出力の制御"
   ]
  },
  {
   "cell_type": "markdown",
   "id": "supposed-repository",
   "metadata": {},
   "source": [
    "これまでの例のように、コードセルに1つの式だけを入力して実行すると、Jupyter Notebookの機能としてその式を評価した結果がセルの下に表示される。セルに複数の式がある場合は、最後の式の結果だけが表示される。"
   ]
  },
  {
   "cell_type": "code",
   "execution_count": null,
   "id": "charitable-pencil",
   "metadata": {},
   "outputs": [],
   "source": [
    "1 + 2\n",
    "3 + 4\n",
    "5 + 6"
   ]
  },
  {
   "cell_type": "markdown",
   "id": "sublime-isolation",
   "metadata": {},
   "source": [
    "最後の式の結果だけが表示されているものの、セルの内容は、上から下へと順に実行されている。セルの途中で計算結果を出力したい場合は、`print`関数<a name=\"cite_ref-16\"></a>[<sup>[16]</sup>](#cite_note-16)というものを使って`print(出力したい式)`のように書けばよい。"
   ]
  },
  {
   "cell_type": "code",
   "execution_count": null,
   "id": "broad-sailing",
   "metadata": {},
   "outputs": [],
   "source": [
    "print(1 + 2)\n",
    "print(3 + 4)\n",
    "print(5 + 6)"
   ]
  },
  {
   "cell_type": "markdown",
   "id": "continued-biology",
   "metadata": {},
   "source": [
    "上から下へと、実行された順に結果が出力されていることに注意しよう。また、セルの最後の式にセミコロン（`;`）を付けると、出力が抑制される<a name=\"cite_ref-17\"></a>[<sup>[17]</sup>](#cite_note-17)。"
   ]
  },
  {
   "cell_type": "code",
   "execution_count": null,
   "id": "brown-clinton",
   "metadata": {},
   "outputs": [],
   "source": [
    "1 + 2\n",
    "3 + 4\n",
    "5 + 6;"
   ]
  },
  {
   "cell_type": "markdown",
   "id": "realistic-repository",
   "metadata": {},
   "source": [
    "## 変数"
   ]
  },
  {
   "cell_type": "markdown",
   "id": "independent-leader",
   "metadata": {},
   "source": [
    "<!-- textlint-disable ja-technical-writing/ja-no-mixed-period -->\n",
    "\n",
    "プログラミングにおいては、計算の結果に名前をつけて記憶しておき、あとで参照したくなることがよくある。Pythonでは\n",
    "```python\n",
    "名前 = 式\n",
    "```\n",
    "のように書いて、結果に名前をつけることができる。この名前のことを**変数**（variable）と呼び、このような`=`を使った文<a name=\"cite_ref-18\"></a>[<sup>[18]</sup>](#cite_note-18)のことを代入文（assignment statement）と呼ぶ。代入文では、**右辺を評価した結果が左辺の変数に代入される**。次のセルでは、変数`x`に整数$42$を代入している<a name=\"cite_ref-19\"></a>[<sup>[19]</sup>](#cite_note-19)<a name=\"cite_ref-20\"></a>[<sup>[20]</sup>](#cite_note-20)。\n",
    "\n",
    "<!-- textlint-enable -->"
   ]
  },
  {
   "cell_type": "code",
   "execution_count": null,
   "id": "theoretical-simulation",
   "metadata": {},
   "outputs": [],
   "source": [
    "x = 42"
   ]
  },
  {
   "cell_type": "markdown",
   "id": "standing-appointment",
   "metadata": {},
   "source": [
    "上のセルのように、セルの最後が代入文の場合、その実行結果はノートブックに表示されない。しかし、ちゃんと変数`x`に値が代入されているはずである。次のセルを実行してその値を参照してみよう。"
   ]
  },
  {
   "cell_type": "code",
   "execution_count": null,
   "id": "broken-mainstream",
   "metadata": {},
   "outputs": [],
   "source": [
    "x"
   ]
  },
  {
   "cell_type": "markdown",
   "id": "suited-screen",
   "metadata": {},
   "source": [
    "次のセルでは、変数`a`、`b`、`c`に次々と右辺の計算結果を代入し、最後に変数`c`の値を`print`関数によって表示している。上から下へと順に処理が行われることに注意しよう。"
   ]
  },
  {
   "cell_type": "code",
   "execution_count": null,
   "id": "handy-update",
   "metadata": {},
   "outputs": [],
   "source": [
    "a = 1 + 2\n",
    "b = a + 3\n",
    "c = b + 4\n",
    "print(c)"
   ]
  },
  {
   "cell_type": "markdown",
   "id": "reserved-maria",
   "metadata": {},
   "source": [
    "数学では、等式は「左辺と右辺が等しい」、つまり「$x = 42$」は「$x$が$42$に等しい」という意味である。しかし、Pythonの代入文は「右辺を計算した結果を左辺の変数に代入する」という意味である。すでに変数に代入されていた値がある場合、その値は上書きされる。数学の「$=$」とPythonの「`=`」の意味を混同しないようにしよう<a name=\"cite_ref-21\"></a>[<sup>[21]</sup>](#cite_note-21)。"
   ]
  },
  {
   "cell_type": "code",
   "execution_count": null,
   "id": "colonial-technician",
   "metadata": {},
   "outputs": [],
   "source": [
    "x = 10\n",
    "x = x + 1\n",
    "print(x)"
   ]
  },
  {
   "cell_type": "markdown",
   "id": "round-glossary",
   "metadata": {},
   "source": [
    "変数の名前<a name=\"cite_ref-22\"></a>[<sup>[22]</sup>](#cite_note-22)は、文法上使われている名前以外であれば、かなり自由に付けることができる<a name=\"cite_ref-23\"></a>[<sup>[23]</sup>](#cite_note-23)。通常、半角の英数字とアンダースコア（`_`）の組み合わせを用いることが多い。大文字と小文字は区別される<a name=\"cite_ref-24\"></a>[<sup>[24]</sup>](#cite_note-24)。"
   ]
  },
  {
   "cell_type": "code",
   "execution_count": null,
   "id": "confused-change",
   "metadata": {},
   "outputs": [],
   "source": [
    "x = 1\n",
    "X = 2\n",
    "print(x)\n",
    "print(X)"
   ]
  },
  {
   "cell_type": "code",
   "execution_count": null,
   "id": "compound-weekend",
   "metadata": {},
   "outputs": [],
   "source": [
    "x1 = 2\n",
    "y2 = x1 + 2\n",
    "print(x1)\n",
    "print(y2)"
   ]
  },
  {
   "cell_type": "code",
   "execution_count": null,
   "id": "injured-sector",
   "metadata": {},
   "outputs": [],
   "source": [
    "some_words_you_like = 1\n",
    "other_words_you_like = some_words_you_like + 1\n",
    "print(some_words_you_like)\n",
    "print(other_words_you_like)"
   ]
  },
  {
   "cell_type": "markdown",
   "id": "hundred-norwegian",
   "metadata": {},
   "source": [
    "何も値が代入されていない変数を参照しようとするとエラーとなる（`NameError: name ... is not defined`と表示される）。その場合には、スペルミスはないか<a name=\"cite_ref-25\"></a>[<sup>[25]</sup>](#cite_note-25)、大文字と小文字を間違っていないかなどをチェックしたほうがよい。"
   ]
  },
  {
   "cell_type": "code",
   "execution_count": null,
   "id": "figured-induction",
   "metadata": {},
   "outputs": [],
   "source": [
    "print(some_words_you_lake)"
   ]
  },
  {
   "cell_type": "markdown",
   "id": "differential-peter",
   "metadata": {},
   "source": [
    "変数を使って、もう少し実用的なものを計算してみよう。次のセルでは、円周率を3として円の面積を計算している。"
   ]
  },
  {
   "cell_type": "code",
   "execution_count": null,
   "id": "physical-currency",
   "metadata": {},
   "outputs": [],
   "source": [
    "pi = 3\n",
    "radius = 2.0\n",
    "area = pi * radius**2\n",
    "print(area)"
   ]
  },
  {
   "cell_type": "markdown",
   "id": "increased-finish",
   "metadata": {},
   "source": [
    "## 練習問題"
   ]
  },
  {
   "cell_type": "markdown",
   "id": "pregnant-formula",
   "metadata": {},
   "source": [
    "(2) 円周率は3ではない。上のセルで、`pi`をもう少しよい近似値（`3.14`）に変更して、再実行してみよう。"
   ]
  },
  {
   "cell_type": "markdown",
   "id": "actual-stock",
   "metadata": {},
   "source": [
    "(3) 次のセルを実行する前に、`a`と`b`と`c`の値がどう出力されるかを考えてみよう。セルの中の文は、上から下へと順に実行されることに注意すること。実際に実行してみて、自分の考えが合っていたか確かめてみよう。"
   ]
  },
  {
   "cell_type": "code",
   "execution_count": null,
   "id": "union-equity",
   "metadata": {},
   "outputs": [],
   "source": [
    "a = 1\n",
    "b = a + 1\n",
    "c = b + 1\n",
    "print(a)\n",
    "a = 100\n",
    "b = b + 1\n",
    "c = c + 1\n",
    "print(b)\n",
    "print(c)"
   ]
  },
  {
   "cell_type": "markdown",
   "id": "knowing-consolidation",
   "metadata": {},
   "source": [
    "## プログラム中のコメント"
   ]
  },
  {
   "cell_type": "markdown",
   "id": "academic-platinum",
   "metadata": {},
   "source": [
    "プログラム中にコメント（人間用の注釈）を入れるときは`#`を使う。`#`以降はその行が終わるまでPythonに無視される<a name=\"cite_ref-26\"></a>[<sup>[26]</sup>](#cite_note-26)。"
   ]
  },
  {
   "cell_type": "code",
   "execution_count": null,
   "id": "floral-certificate",
   "metadata": {},
   "outputs": [],
   "source": [
    "# 台形の面積を求める。\n",
    "a = 3.0  # 上底\n",
    "b = 5.0  # 下底\n",
    "h = 8.0  # 高さ\n",
    "area = (a + b) * h / 2  # 面積\n",
    "print(area)"
   ]
  },
  {
   "cell_type": "markdown",
   "id": "biblical-wellington",
   "metadata": {},
   "source": [
    "<!-- textlint-disable ja-technical-writing/max-ten -->\n",
    "\n",
    "一般に、変数に意味の分かりやすい名前を使ったり、適度にコメントを入れたりすると、ほかの人が読んでも理解しやすいプログラムとなる<a name=\"cite_ref-27\"></a>[<sup>[27]</sup>](#cite_note-27)。そしてプログラミングにおいては、「1か月後のあなた」は「プログラムを書いている現在のあなた」とはまったくの他人だと考えたほうがよい。人間は忘れる生き物である。\n",
    "\n",
    "<!-- textlint-enable -->"
   ]
  },
  {
   "cell_type": "markdown",
   "id": "positive-commonwealth",
   "metadata": {},
   "source": [
    "## 練習問題"
   ]
  },
  {
   "cell_type": "markdown",
   "id": "electrical-roads",
   "metadata": {},
   "source": [
    "(4) 三角形の3つの辺の長さが$a$、$b$、$c$として与えられたとき、その面積$S$を次に与えられたヘロンの公式によって求めるプログラムを書いてみよう。"
   ]
  },
  {
   "cell_type": "markdown",
   "id": "unlike-citizen",
   "metadata": {},
   "source": [
    "$$\n",
    "S = \\sqrt{s(s-a)(s-b)(s-c)} ,\n",
    "\\qquad\n",
    "s = \\frac{a + b + c}{2}.\n",
    "\\tag{1}\n",
    "$$"
   ]
  },
  {
   "cell_type": "markdown",
   "id": "proper-oracle",
   "metadata": {},
   "source": [
    "ただし、平方根は`( ... ) ** (1 / 2)`のように冪乗を使って求めることができる<a name=\"cite_ref-28\"></a>[<sup>[28]</sup>](#cite_note-28)<a name=\"cite_ref-29\"></a>[<sup>[29]</sup>](#cite_note-29)。"
   ]
  },
  {
   "cell_type": "code",
   "execution_count": null,
   "id": "proprietary-camping",
   "metadata": {},
   "outputs": [],
   "source": [
    "a = 3.0\n",
    "b = 4.0\n",
    "c = 5.0\n",
    "\n",
    "# ヘロンの公式を用いて三角形の面積を計算するように書き換えよう。\n",
    "# 必要なら変数を追加しよう。\n",
    "area = 0\n",
    "\n",
    "print(area)"
   ]
  },
  {
   "cell_type": "markdown",
   "id": "medieval-martial",
   "metadata": {},
   "source": [
    "(5) 上の台形の面積を求めるプログラムを、できるだけ**分かりにくい**変数名を使って書き直してみよう。適切な名前の大切さを実感できるだろうか<a name=\"cite_ref-30\"></a>[<sup>[30]</sup>](#cite_note-30)。"
   ]
  },
  {
   "cell_type": "markdown",
   "id": "another-evans",
   "metadata": {},
   "source": [
    "## 数学関数"
   ]
  },
  {
   "cell_type": "markdown",
   "id": "young-progress",
   "metadata": {},
   "source": [
    "通常、関数電卓では様々な数学関数が利用できる。ここでは、Pythonでの数学関数の利用について簡単に触れておこう。そのためには`math`モジュールというものをプログラムに読み込ませる必要がある。Pythonにおいてモジュール（module）とは、様々な機能を分類するための単位である<a name=\"cite_ref-31\"></a>[<sup>[31]</sup>](#cite_note-31)。[`math`モジュール](https://docs.python.org/ja/3/library/math.html)には数学関数（三角関数や指数関数など）や数学定数（円周率など）が分類され、簡単に利用できるようになっている。これを読み込ませるには次のセルのように`import`文を使う<a name=\"cite_ref-32\"></a>[<sup>[32]</sup>](#cite_note-32)。"
   ]
  },
  {
   "cell_type": "code",
   "execution_count": null,
   "id": "forward-shade",
   "metadata": {},
   "outputs": [],
   "source": [
    "import math"
   ]
  },
  {
   "cell_type": "markdown",
   "id": "wooden-margin",
   "metadata": {},
   "source": [
    "`import`文によって`math`モジュールが読み込まれたら、`math.関数名(...)`のようにして数学関数を使うことができる（三角関数はラジアン単位である）。"
   ]
  },
  {
   "cell_type": "code",
   "execution_count": null,
   "id": "suitable-upset",
   "metadata": {},
   "outputs": [],
   "source": [
    "math.sin(1.0)"
   ]
  },
  {
   "cell_type": "code",
   "execution_count": null,
   "id": "plastic-modeling",
   "metadata": {},
   "outputs": [],
   "source": [
    "math.cos(1.0)"
   ]
  },
  {
   "cell_type": "code",
   "execution_count": null,
   "id": "sitting-petroleum",
   "metadata": {},
   "outputs": [],
   "source": [
    "math.exp(1.0)"
   ]
  },
  {
   "cell_type": "code",
   "execution_count": null,
   "id": "foster-crash",
   "metadata": {},
   "outputs": [],
   "source": [
    "x = 0.5\n",
    "math.cos(x) ** 2 + math.sin(x) ** 2"
   ]
  },
  {
   "cell_type": "markdown",
   "id": "animal-damage",
   "metadata": {},
   "source": [
    "ただし、絶対値を求める関数（`abs`）は、数学を扱わないプログラムでもよく使われるため`math`モジュールに分類されておらず、`math`モジュールを読み込まなくてもそのまま使える。`abs`関数に整数を与えると結果は整数に、浮動小数点数を与えると結果も浮動小数点数になる。"
   ]
  },
  {
   "cell_type": "code",
   "execution_count": null,
   "id": "professional-bonus",
   "metadata": {},
   "outputs": [],
   "source": [
    "abs(-1)"
   ]
  },
  {
   "cell_type": "code",
   "execution_count": null,
   "id": "unsigned-newton",
   "metadata": {},
   "outputs": [],
   "source": [
    "abs(-1.0)"
   ]
  },
  {
   "cell_type": "markdown",
   "id": "developing-content",
   "metadata": {},
   "source": [
    "## 文字列"
   ]
  },
  {
   "cell_type": "markdown",
   "id": "atlantic-cincinnati",
   "metadata": {},
   "source": [
    "<!-- textlint-disable jtf-style/4.3.5.二重引用符 -->\n",
    "\n",
    "コンピュータープログラムでは数値だけでなく、文章などのテキストデータを処理することも多い。Pythonには文字列（string）<a name=\"cite_ref-33\"></a>[<sup>[33]</sup>](#cite_note-33)を扱うデータ型（`str`）がある。Pythonプログラム中に文字列データを直接記述するときは（半角の）ダブルクォート（\"）かシングルクォート（'）で囲って表す（文字列リテラル<a name=\"cite_ref-34\"></a>[<sup>[34]</sup>](#cite_note-34)と呼ぶ）。次のセルには、ダブルクォートを使った文字列リテラルとして表した「こんにちは」という文字列データが入力されている。\n",
    "\n",
    "<!-- textlint-enable -->"
   ]
  },
  {
   "cell_type": "code",
   "execution_count": null,
   "id": "historical-rally",
   "metadata": {},
   "outputs": [],
   "source": [
    "\"こんにちは\""
   ]
  },
  {
   "cell_type": "markdown",
   "id": "determined-eleven",
   "metadata": {},
   "source": [
    "もちろん、文字列も変数に代入できる。"
   ]
  },
  {
   "cell_type": "code",
   "execution_count": null,
   "id": "super-qualification",
   "metadata": {},
   "outputs": [],
   "source": [
    "a = \"こんにちは\"\n",
    "print(a)"
   ]
  },
  {
   "cell_type": "markdown",
   "id": "sixth-background",
   "metadata": {},
   "source": [
    "文字列どうしは`+`によって連結（concatenation）できる。"
   ]
  },
  {
   "cell_type": "code",
   "execution_count": null,
   "id": "further-rover",
   "metadata": {},
   "outputs": [],
   "source": [
    "a = \"あいうえお\"\n",
    "b = \"かきくけこ\"\n",
    "c = a + b\n",
    "print(c)"
   ]
  },
  {
   "cell_type": "markdown",
   "id": "utility-frederick",
   "metadata": {},
   "source": [
    "文字列と数値は連結できない。次のセルを実行するとエラー（`TypeError`）が起こる。"
   ]
  },
  {
   "cell_type": "code",
   "execution_count": null,
   "id": "responsible-quarterly",
   "metadata": {},
   "outputs": [],
   "source": [
    "a = \"123\"\n",
    "b = 456\n",
    "c = a + b\n",
    "print(c)"
   ]
  },
  {
   "cell_type": "markdown",
   "id": "collect-partner",
   "metadata": {},
   "source": [
    "## データ型の変換"
   ]
  },
  {
   "cell_type": "markdown",
   "id": "aware-gilbert",
   "metadata": {},
   "source": [
    "これまでに`int`（整数）、`float`（浮動小数点数）、`str`（文字列）というデータ型が出てきた。これらのデータ型間で、あるデータ型の値をほかのデータ型の値に変換するには、`int(なんらかの式)`、`float(なんらかの式)`、`str(なんらかの式)`のように書く<a name=\"cite_ref-35\"></a>[<sup>[35]</sup>](#cite_note-35)。それぞれ、整数、浮動小数点、文字列に変換された値を得ることができる。"
   ]
  },
  {
   "cell_type": "code",
   "execution_count": null,
   "id": "public-following",
   "metadata": {},
   "outputs": [],
   "source": [
    "x = 22 / 7\n",
    "print(x)\n",
    "\n",
    "n = int(x)  # 浮動小数点数から整数に変換、小数点以下は切り捨てられる。\n",
    "print(n)"
   ]
  },
  {
   "cell_type": "code",
   "execution_count": null,
   "id": "religious-selling",
   "metadata": {},
   "outputs": [],
   "source": [
    "n = 42\n",
    "print(n)\n",
    "\n",
    "x = float(n)  # 整数から浮動小数点数に変換。\n",
    "print(x)"
   ]
  },
  {
   "cell_type": "code",
   "execution_count": null,
   "id": "hindu-creek",
   "metadata": {},
   "outputs": [],
   "source": [
    "n = 42\n",
    "print(n)\n",
    "\n",
    "s = \"nの値は\" + str(n)  # 整数から文字列に変換。その後、文字列として連結。\n",
    "print(s)"
   ]
  },
  {
   "cell_type": "markdown",
   "id": "searching-failing",
   "metadata": {},
   "source": [
    "文字列を`int`や`float`によって数値に変換する際、変換元の文字列がただしく数値を表していない場合はエラー（`ValueError`）が起こる。"
   ]
  },
  {
   "cell_type": "code",
   "execution_count": null,
   "id": "broken-astrology",
   "metadata": {},
   "outputs": [],
   "source": [
    "s = \"42.3\"\n",
    "n = int(s)  # (浮動小数点数ではあるが)整数を表した文字列ではないのでエラーが起こる。"
   ]
  },
  {
   "cell_type": "code",
   "execution_count": null,
   "id": "proved-salon",
   "metadata": {},
   "outputs": [],
   "source": [
    "s = \"abc\"\n",
    "x = float(s)  # 浮動小数点数を表した文字列ではないのでエラーが起こる。"
   ]
  },
  {
   "cell_type": "markdown",
   "id": "plastic-tonight",
   "metadata": {},
   "source": [
    "次のセルでは、`age`と`weight`を文字列に変換したあと、連結して1つの文として表示している<a name=\"cite_ref-36\"></a>[<sup>[36]</sup>](#cite_note-36)<a name=\"cite_ref-37\"></a>[<sup>[37]</sup>](#cite_note-37)。"
   ]
  },
  {
   "cell_type": "code",
   "execution_count": null,
   "id": "accompanied-combination",
   "metadata": {},
   "outputs": [],
   "source": [
    "name = \"止田次郎\"\n",
    "age = 20\n",
    "height = 189\n",
    "\n",
    "print(name + \"さんは\" + str(age) + \"歳で身長\" + str(height) + \"センチメートルです。\")"
   ]
  },
  {
   "cell_type": "markdown",
   "id": "experienced-school",
   "metadata": {},
   "source": [
    "上のセルと同じことをフォーマット済み文字列リテラル（formatted string literal; f-string）というものを使って行うことができる<a name=\"cite_ref-38\"></a>[<sup>[38]</sup>](#cite_note-38)。フォーマット済み文字列リテラルは、文字列リテラルの頭に`f`を付け、埋め込みたい式を`{なんらかの式}`のように書いたものである。"
   ]
  },
  {
   "cell_type": "code",
   "execution_count": null,
   "id": "intimate-titanium",
   "metadata": {},
   "outputs": [],
   "source": [
    "name = \"止田次郎\"\n",
    "age = 20\n",
    "height = 189\n",
    "\n",
    "print(f\"{name}さんは{age}歳で身長{height}センチメートルです。\")"
   ]
  },
  {
   "cell_type": "markdown",
   "id": "423ebeef",
   "metadata": {},
   "source": [
    "<!-- textlint-disable ja-technical-writing/ja-no-mixed-period -->\n",
    "\n",
    "次のセルでは、\n",
    "\n",
    "<!-- textlint-enable -->"
   ]
  },
  {
   "cell_type": "markdown",
   "id": "b8ccce0d",
   "metadata": {},
   "source": [
    "$$\n",
    "\\text{BMI} = \\frac{\\text{体重}}{\\text{kg}} \\biggm/ \\left( \\frac{\\text{身長}}{\\text{m}} \\right)^2, \\tag{2} \n",
    "$$"
   ]
  },
  {
   "cell_type": "markdown",
   "id": "cb25f673",
   "metadata": {},
   "source": [
    "で定義される[BMI (Body Mass Index)](https://www.e-healthnet.mhlw.go.jp/information/dictionary/metabolic/ym-002.html)を計算し、フォーマット済み文字列リテラルを使って表示している。"
   ]
  },
  {
   "cell_type": "code",
   "execution_count": null,
   "id": "aed0a2e8",
   "metadata": {},
   "outputs": [],
   "source": [
    "height = 189\n",
    "weight = 75\n",
    "bmi = weight / (height / 100) ** 2\n",
    "print(f\"身長が{height}センチメートル、体重が{weight}キログラムのとき、BMIは{bmi}です。\")"
   ]
  },
  {
   "cell_type": "markdown",
   "id": "junior-offer",
   "metadata": {},
   "source": [
    "## ユーザー入力"
   ]
  },
  {
   "cell_type": "markdown",
   "id": "sitting-investment",
   "metadata": {},
   "source": [
    "ユーザーからの入力が欲しいときは`input`関数というものを使う。これは`input(なんらかの入力を促すメッセージ文字列)`のように書くと、メッセージを表示するとともにユーザー入力を**文字列として**得ることができるものである。実行すると**ユーザー入力待ちの状態になるので、文字列を入力したあとEnterキーで確定する**こと。整数や浮動小数点数が欲しいときはデータ型の変換が必要となる。"
   ]
  },
  {
   "cell_type": "code",
   "execution_count": null,
   "id": "empty-activation",
   "metadata": {},
   "outputs": [],
   "source": [
    "s = input(\"なにか文字列を入力してください\")\n",
    "print(f\"あなたが入力したのは「{s}」\")"
   ]
  },
  {
   "cell_type": "code",
   "execution_count": null,
   "id": "nearby-vocabulary",
   "metadata": {},
   "outputs": [],
   "source": [
    "a = input(\"文字列を入力してね\")\n",
    "b = input(\"もう一つ文字列を入力してね\")\n",
    "print(a + b)"
   ]
  },
  {
   "cell_type": "code",
   "execution_count": null,
   "id": "finished-money",
   "metadata": {},
   "outputs": [],
   "source": [
    "a = int(input(\"整数を選んで\"))\n",
    "b = int(input(\"もう一つ整数選んで\"))\n",
    "print(a + b)"
   ]
  },
  {
   "cell_type": "markdown",
   "id": "metric-buddy",
   "metadata": {},
   "source": [
    "## 演習課題"
   ]
  },
  {
   "cell_type": "markdown",
   "id": "surrounded-registration",
   "metadata": {},
   "source": [
    "次のセルのプログラムは、`x`という変数に`input`関数を用いて得られた数（`float`を使って変換している）を代入したあと、その値を`print`関数で出力するプログラムである。"
   ]
  },
  {
   "cell_type": "code",
   "execution_count": null,
   "id": "atmospheric-disney",
   "metadata": {},
   "outputs": [],
   "source": [
    "x = float(input(\"xを入力してください\"))\n",
    "print(x)"
   ]
  },
  {
   "cell_type": "markdown",
   "id": "african-uncertainty",
   "metadata": {},
   "source": [
    "<!-- textlint-disable ja-technical-writing/ja-no-mixed-period -->\n",
    "\n",
    "これを参考にして、次のセルに\n",
    "\n",
    "1. `x`を`input`関数を用いて入力する、\n",
    "2. `y`を`input`関数を用いて入力する、\n",
    "3. `x`と`y`の和、差、積、商をそれぞれ順に出力する、\n",
    "\n",
    "という動作をするプログラムを作れ。\n",
    "\n",
    "<!-- textlint-enable -->"
   ]
  },
  {
   "cell_type": "code",
   "execution_count": null,
   "id": "dietary-guarantee",
   "metadata": {},
   "outputs": [],
   "source": [
    "# 課題解答1.1  <-- 提出時に、このコメント行を必ず含めること。\n",
    "\n",
    "# このセルに解答（この行は消してよい）"
   ]
  },
  {
   "cell_type": "markdown",
   "id": "flying-transmission",
   "metadata": {},
   "source": [
    "## 脚注"
   ]
  },
  {
   "cell_type": "markdown",
   "id": "turned-partition",
   "metadata": {},
   "source": [
    "<!-- textlint-disable\n",
    "ja-engineering-paper/prh,\n",
    "ja-technical-writing/ja-no-mixed-period,\n",
    "ja-technical-writing/ja-no-weak-phrase,\n",
    "ja-technical-writing/sentence-length\n",
    "-->\n",
    "\n",
    "<a name=\"cite_note-1\"></a>1.&nbsp;[^](#cite_ref-1)\n",
    "脚注には、\n",
    "\n",
    "- 本筋から離れてしまう事柄、\n",
    "- 知っていて損はないけれど授業で触れる時間はないような話、\n",
    "- ひょっとしたら誤解してしまうかもしれないことへの補足説明、\n",
    "- 初めは理解しなくてもよい深く突っ込んだトピック、\n",
    "- C言語などPython以外のプログラミング言語との比較、\n",
    "- ただの雑談、\n",
    "- 課題のヒント、\n",
    "\n",
    "などを書くので、適宜、取捨選択して後で読んだり読まなかったりして欲しい。\n",
    "\n",
    "<!-- textlint-enable -->"
   ]
  },
  {
   "cell_type": "markdown",
   "id": "a3205e5c",
   "metadata": {},
   "source": [
    "<!-- textlint-disable\n",
    "ja-engineering-paper/prh,\n",
    "ja-technical-writing/ja-no-weak-phrase,\n",
    "ja-technical-writing/no-exclamation-question-mark\n",
    "-->\n",
    "\n",
    "初回のノートブックの脚注の分量は少し多めに思えるかもしれない。これは初回なのでどうしても雑多な補足説明が多い、初回なので準備・執筆時間が十分に取れた、などの理由による。回が進むにつれて、すぐに減ると思われるので安心して（？）いただきたい。\n",
    "\n",
    "<!-- textlint-enable -->"
   ]
  },
  {
   "cell_type": "markdown",
   "id": "ae122268",
   "metadata": {},
   "source": [
    "なお、Google Colaboratoryだと、脚注へのリンクをクリックしても、リンク先が折りたたまれて隠れている場合はジャンプしてくれないようだ。"
   ]
  },
  {
   "cell_type": "markdown",
   "id": "union-elizabeth",
   "metadata": {},
   "source": [
    "<a name=\"cite_note-2\"></a>2.&nbsp;[^](#cite_ref-2)\n",
    "この講義では、PythonのバージョンとしてPython 3.7以降を想定している。すべての例題プログラムは、現時点での最新バージョンであるPython 3.10でも動く（はずである）。"
   ]
  },
  {
   "cell_type": "markdown",
   "id": "af6b1a25",
   "metadata": {},
   "source": [
    "<a name=\"cite_note-3\"></a>3.&nbsp;[^](#cite_ref-3)\n",
    "念のため：足し算、引き算、掛け算、割り算のことをそれぞれ加算、減算、乗算、除算などとも呼ぶ。これらは四則演算と総称される。余りを求めることは剰余算と呼ばれる。"
   ]
  },
  {
   "cell_type": "markdown",
   "id": "b4a18447",
   "metadata": {},
   "source": [
    "<!-- textlint-disable\n",
    "ja-technical-writing/sentence-length\n",
    "-->\n",
    "\n",
    "ついでに：（ざっくりと言うと）四則演算できる代数系を数学では[体（field）](https://en.wikipedia.org/wiki/Field_(mathematics))と呼ぶ。例として有理数体、実数体、複素数体などが挙げられる。整数全体の集合$\\mathbb{Z}$は（一般に割り算の結果が整数にならないので）体ではないが、たとえばある素数$p$を法とする剰余によって加算・乗算を定義すると体となる（$\\mathbb{F}_p \\equiv \\mathbb{Z}/p\\mathbb{Z}$で表す）。桁数が大きい場合は非常に遅くなる$\\mathbb{Z}$（あるいはその一般化としてたとえば多項式環$\\mathbb{Z}[\\vec{x}]$）上での多倍長演算は、[中国の剰余定理](https://ja.wikipedia.org/wiki/%E4%B8%AD%E5%9B%BD%E3%81%AE%E5%89%B0%E4%BD%99%E5%AE%9A%E7%90%86)により、高速に実行できる$\\mathbb{F}_p$上での演算から再構築でき、応用上有益である。\n",
    "\n",
    "<!-- textlint-enable -->"
   ]
  },
  {
   "cell_type": "markdown",
   "id": "increased-drinking",
   "metadata": {},
   "source": [
    "<a name=\"cite_note-4\"></a>4.&nbsp;[^](#cite_ref-4)\n",
    "冪乗演算子として`^`を使うプログラミング言語（VBA、Mathematicaなど）と`**`を使うプログラミング言語（Fortran、Rubyなど）、そんな演算子は存在しない言語（C、Javaなど）があるが、Pythonでは`**`を使う。なお、Pythonでは`^`を違う意味（整数に対するビット単位のXOR、集合に対する対称差など）に使うので注意。"
   ]
  },
  {
   "cell_type": "markdown",
   "id": "adjacent-punch",
   "metadata": {},
   "source": [
    "<a name=\"cite_note-5\"></a>5.&nbsp;[^](#cite_ref-5)\n",
    "Pythonの文法では、`100 + 5`のように数字と演算子の間に空白を入れるか、`100+5`のように入れないかで意味は変わらない。しかしインデント（字下げ）や改行に関しては、Pythonの文法上意味を持つので注意が必要である。"
   ]
  },
  {
   "cell_type": "markdown",
   "id": "3d543d24",
   "metadata": {},
   "source": [
    "<a name=\"cite_note-6\"></a>6.&nbsp;[^](#cite_ref-6)\n",
    "念のため：$6.02\\times 10^{23}$のように仮数部と$10$の冪乗の積を用いた数値の表記方法を指数表記（exponential notation）あるいは科学的表記（scientific notation）と呼ぶ。多くのプログラミング言語では、これを`6.02e23`のように仮数部と指数部の間に`e`や`E`などを挟む形で表記する。これをE表記（E notation）と呼ぶ。"
   ]
  },
  {
   "cell_type": "markdown",
   "id": "collectible-venezuela",
   "metadata": {},
   "source": [
    "<a name=\"cite_note-7\"></a>7.&nbsp;[^](#cite_ref-7)\n",
    "$22/7$は古代より知られている円周率の近似値である。"
   ]
  },
  {
   "cell_type": "markdown",
   "id": "50909365",
   "metadata": {},
   "source": [
    "<a name=\"cite_note-8\"></a>8.&nbsp;[^](#cite_ref-8)\n",
    "Pythonの演算子の優先順位は[ここ](https://docs.python.org/ja/3/reference/expressions.html#operator-precedence)にまとめられている（上にあるものほど優先される）。"
   ]
  },
  {
   "cell_type": "markdown",
   "id": "english-hardwood",
   "metadata": {},
   "source": [
    "<!-- textlint-disable\n",
    "ja-engineering-paper/prh,\n",
    "ja-technical-writing/ja-no-weak-phrase\n",
    "-->\n",
    "\n",
    "<a name=\"cite_note-9\"></a>9.&nbsp;[^](#cite_ref-9)\n",
    "数学における括弧のように、演算順序を変えるため角括弧（`[`と`]`）や波括弧（`{`と`}`）を使いたくなるかもしれない。しかし、これらはPythonにおいて違う意味を持っている。\n",
    "\n",
    "<!-- textlint-enable -->"
   ]
  },
  {
   "cell_type": "markdown",
   "id": "ee74f6eb",
   "metadata": {},
   "source": [
    "<!--\n",
    "textlint-disable\n",
    "ja-technical-writing/sentence-length\n",
    "-->\n",
    "\n",
    "<a name=\"cite_note-10\"></a>10.&nbsp;[^](#cite_ref-10)\n",
    "現在のデジタルコンピューターにおいて、あらゆるデータは究極的には0と1の並びで表現されている。たとえば、コンピューターのメモリー上に`11110000 10011111 10001101 10011100 11110000 10011111 10011000 10001010`というデータがあったとして、このデータを何と解釈すべきか（データ型）をあらかじめ決めておかなければならない。ちなみに、このデータはテキストだと解釈すると「🍜😊」、整数であれば$9986908029461569520$、浮動小数点数だと$-1.2812557230242775\\times 10^{-257}$となる。\n",
    "\n",
    "<!-- textlint-enable -->"
   ]
  },
  {
   "cell_type": "markdown",
   "id": "1c2fcfa9",
   "metadata": {},
   "source": [
    "```python\n",
    "import struct\n",
    "data = b\"\\xf0\\x9f\\x8d\\x9c\\xf0\\x9f\\x98\\x8a\"       # 上の0と1の並びを16進法で書いた8バイトのデータ\n",
    "print(\" \".join([f\"{x:08b}\" for x in data]))      # 2進法表示\n",
    "print(data.decode())                             # UTF-8文字列だと思ってみる\n",
    "print(int.from_bytes(data, byteorder=\"little\"))  # 符号なし整数だと思ってみる\n",
    "print(*struct.unpack('<d', data))                # 倍精度浮動小数点だと思ってみる\n",
    "```"
   ]
  },
  {
   "cell_type": "markdown",
   "id": "russian-withdrawal",
   "metadata": {},
   "source": [
    "<!-- textlint-disable ja-technical-writing/sentence-length -->\n",
    "\n",
    "<a name=\"cite_note-11\"></a>11.&nbsp;[^](#cite_ref-11)\n",
    "Pythonの整数は「任意精度多倍長整数（arbitrary-precision integer number）」として実装されており、どんなに大きな整数でも（メモリー容量と計算時間の許す限り）扱うことができる。ほかのプログラミング言語では、基本的な整数データ型の取りうる範囲があらかじめ決まっていることが多い。計算の結果がその範囲を超えたときに何が起こるかは言語によって異なる。オーバーフローのエラーが起きたり、間違った答えのままプログラムが進行してしまったりする。さらには、何が起こるかはまったくの未定義でありプログラマーの鼻から悪魔（[nasal demons](https://stackoverflow.com/a/13444785)）を飛び出させても仕様に反しない、と冗談を言われてしまうような厄介な言語（CおよびC++言語）もある。\n",
    "\n",
    "<!-- textlint-enable -->"
   ]
  },
  {
   "cell_type": "markdown",
   "id": "therapeutic-sweet",
   "metadata": {},
   "source": [
    "<!-- textlint-disable ja-technical-writing/sentence-length -->\n",
    "\n",
    "<a name=\"cite_note-12\"></a>12.&nbsp;[^](#cite_ref-12)\n",
    "1903年、フランク・ネルソン・コールはアメリカ数学会の講演において$193707721 \\times 761838257287$の計算を黒板で行い、これが$M_{67} \\equiv 2^{67} - 1$の因数であることを示した。$M_{67}$が（1644年のマラン・メルセンヌの予想に反して）因数を持つことは1876年エドゥアール・リュカによって証明されていたが、その因数が何かは分かっていなかった。\n",
    "\n",
    "<!-- textlint-enable -->"
   ]
  },
  {
   "cell_type": "markdown",
   "id": "usual-stuff",
   "metadata": {},
   "source": [
    "<a name=\"cite_note-13\"></a>13.&nbsp;[^](#cite_ref-13)\n",
    "浮動小数点数は、固定長の仮数部と指数部を持ち、有効数字の桁数を固定して表される（小数点の位置が動く）。これとは対照的に、整数部と小数部の桁数を固定して表す固定小数点数（fixed-point number）というものもある。科学技術計算では主に浮動小数点数が使われる。"
   ]
  },
  {
   "cell_type": "markdown",
   "id": "studied-brief",
   "metadata": {},
   "source": [
    "<!-- textlint-disable\n",
    "ja-engineering-paper/use-si-units,\n",
    "ja-technical-writing/sentence-length\n",
    "-->\n",
    "\n",
    "<a name=\"cite_note-14\"></a>14.&nbsp;[^](#cite_ref-14)\n",
    "通常、Pythonの`float`型は、[IEEE 754](https://ja.wikipedia.org/wiki/IEEE_754) binary64形式として規定されている64ビット倍精度浮動小数点数（double-precision floating-point number）として実装されている。これは有限桁数を用いた2進法による実数の近似的表現の一種である。$0.1$（10進法）を2進法で書き表すと、$0.0001\\ 1001\\ 1001\\ 1001 \\cdots$（2進法）のような循環小数になるので、$1/10$を有限桁数の2進法表記において厳密に表すことは不可能である。よって、Pythonで`0.1`と入力すると、binary64で表現できる実数のうちもっとも近い値（無理やり10進法で書くと$0.1000000000000000055511151231257827021181583404541015625$）と解釈される。逆に、Pythonでこの値を出力するときは単に`0.1`と表示される。さて、`0.1 + 0.1 + 0.1`を評価すると結果として$0.3000000000000000444089209850062616169452667236328125$が得られるが、これは$3/10$にもっとも近い$0.299999999999999988897769753748434595763683319091796875$とは異なる値である（この場合、その相対誤差は$2\\times 10^{-16}$程度）。そこでPythonは`0.1 + 0.1 + 0.1`を`0.3`ではなく`0.30000000000000004`と表示するのである。\n",
    "\n",
    "<!-- textlint-enable -->"
   ]
  },
  {
   "cell_type": "markdown",
   "id": "silent-vessel",
   "metadata": {},
   "source": [
    "<!-- textlint-disable ja-technical-writing/sentence-length -->\n",
    "\n",
    "<a name=\"cite_note-15\"></a>15.&nbsp;[^](#cite_ref-15)\n",
    "Pythonの浮動小数点は「倍精度浮動小数点数（double-precision floating-point number）」であり、64ビットのデータ長を持つ。ほかのプログラミング言語では、32ビットの単精度浮動小数点数（single-precision floating-point number）や、128ビットの四倍精度浮動小数点数（quadruple-precision floating-point number）が用意されていることもある。より高精度の演算結果が必要とされる場合、任意精度浮動小数点数（arbitrary-precision floating-point number）が使用される（通常はソフトウェア・ライブラリとして実装される）。逆に、機械学習などの高速化を目的として16ビットの半精度浮動小数点数（half-precision floating point number）が使用されることもある。\n",
    "\n",
    "<!-- textlint-enable -->"
   ]
  },
  {
   "cell_type": "markdown",
   "id": "verbal-tongue",
   "metadata": {},
   "source": [
    "<!-- textlint-disable\n",
    "ja-engineering-paper/prh,\n",
    "ja-technical-writing/ja-no-weak-phrase\n",
    "-->\n",
    "\n",
    "<a name=\"cite_note-16\"></a>16.&nbsp;[^](#cite_ref-16)\n",
    "関数については後の回で扱うが、プログラミングにおける「関数」を簡単に言うと、数学でいう関数を一般化したようなものである。入力（引数（ひきすう）と呼ばれる）を与えると、何かしらの処理を行った後に、何らかの出力（返り値もしくは戻り値などと呼ばれる）を返す。ただし、入力は0個の場合もあるし、出力がない場合もある。明示された入出力以外に、内部的な状態を持ったり外部と相互作用する場合もある。まったく何も処理をしない関数を定義することもある。実際、`print`関数は引数として与えられた値を画面に表示したあと、何も値を返さない。このような何も返さない関数は、`None`という「何も値が存在しない状態」を表す定数を返しているとも解釈できる。\n",
    "\n",
    "<!-- textlint-enable -->"
   ]
  },
  {
   "cell_type": "markdown",
   "id": "0d59ab12",
   "metadata": {},
   "source": [
    "関数の呼び出しは`関数の名前(コンマで区切られた引数リスト)`のようになる。引数がない場合も`()`は必要である。"
   ]
  },
  {
   "cell_type": "markdown",
   "id": "environmental-dutch",
   "metadata": {},
   "source": [
    "<a name=\"cite_note-17\"></a>17.&nbsp;[^](#cite_ref-17)\n",
    "セミコロン（`;`）は1行に複数の文を書きたいときにも使う。\n",
    "```python\n",
    "a = 1; b = 2; c = 3\n",
    "```\n",
    "逆に、1つの文を複数行を使って書きたい場合は、バックスラッシュ（`\\`：日本語Windowsでは半角円記号として表示されることが多い）を改行の直前に書くことで継続行を表す。\n",
    "```python\n",
    "a = 1 + \\\n",
    "    2 + \\\n",
    "    3\n",
    "```\n",
    "閉じているはずの括弧が閉じていないなど、文法的に行が継続することの明らかな場合には、`\\`がなくとも継続行であるとみなされる。\n",
    "```python\n",
    "a = (1 +\n",
    "     2 +\n",
    "     3)\n",
    "```"
   ]
  },
  {
   "cell_type": "markdown",
   "id": "tired-moment",
   "metadata": {},
   "source": [
    "<a name=\"cite_note-18\"></a>18.&nbsp;[^](#cite_ref-18)\n",
    "多くのプログラミング言語の文法では、文（statement）と式（expression）を区別している。文とは、コンピューターへの何らかの処理命令である。式とは、数式のようにそれ自体が評価できて値を持つものである。Pythonでは、式文（expression statement）と言って、式自体が文として成立する。ここで出てきたPythonの`=`を使った代入文は文であるが（式ではない）、Python 3.8では代入式（いわゆるセイウチ演算子`:=`、セイウチに見えるから）が導入された。"
   ]
  },
  {
   "cell_type": "markdown",
   "id": "medical-dayton",
   "metadata": {},
   "source": [
    "<!-- textlint-disable ja-technical-writing/sentence-length -->\n",
    "\n",
    "<a name=\"cite_note-19\"></a>19.&nbsp;[^](#cite_ref-19)\n",
    "もう少し正確に言うと、`x = 42`を実行すると、`42`という値を持った`int`型のオブジェクト（object）が用意され、そのオブジェクトに（現在のスコープでのローカルな）`x`という名前が付けられている（名前の束縛；name binding）。オブジェクトに必要なメモリー領域は自動的に確保され、必要なくなったら自動的に解放される。\n",
    "\n",
    "<!-- textlint-enable -->"
   ]
  },
  {
   "cell_type": "markdown",
   "id": "polish-california",
   "metadata": {},
   "source": [
    "<a name=\"cite_note-20\"></a>20.&nbsp;[^](#cite_ref-20)\n",
    "プログラミングの例題で$42$という整数が唐突に出てきたら、おそらく[これ](https://www.google.com/search?q=the+answer+to+life+the+universe+and+everything)が理由である。"
   ]
  },
  {
   "cell_type": "markdown",
   "id": "focal-genre",
   "metadata": {},
   "source": [
    "<a name=\"cite_note-21\"></a>21.&nbsp;[^](#cite_ref-21)\n",
    "`x = x + 1`や`y = y * 5`のように、変数に何らかの二項演算をしたあと、その結果を元の変数に再代入することがある。Pythonではこれらを`x += 1`や`y *= 5`のような累算代入文（augmented assignment statement）で書くことも多い。（通常は）これらは等価である。C言語等では複合代入演算子（compound assignment operator）と呼ばれる機能である。なお、PythonにはC言語等で用意されている`++`や`--`に直接相当するものはない。"
   ]
  },
  {
   "cell_type": "markdown",
   "id": "robust-african",
   "metadata": {},
   "source": [
    "<!-- textlint-disable\n",
    "ja-engineering-paper/prh,\n",
    "ja-technical-writing/ja-no-mixed-period,\n",
    "ja-technical-writing/ja-no-weak-phrase,\n",
    "ja-technical-writing/max-ten\n",
    "-->\n",
    "\n",
    "<a name=\"cite_note-22\"></a>22.&nbsp;[^](#cite_ref-22)\n",
    "識別子（identifier）と呼ばれる、変数のほかに関数やモジュールなどにもつける名前である。識別子として文法上どんなものが許されるかは[ここ](https://docs.python.org/ja/3/reference/lexical_analysis.html#identifiers)に書いてある（が、見てもよくわからないと思う）。ざっくりと言うと：\n",
    "\n",
    "- 半角の英数字とアンダースコア（`_`）の組み合わせは大丈夫。\n",
    "- ただし、最初の文字が数字であってはならない。\n",
    "- 最初の文字がアンダースコアの場合は、慣習として特別な意味を持つことが多い。\n",
    "\n",
    "<!-- textlint-enable -->"
   ]
  },
  {
   "cell_type": "markdown",
   "id": "9f6b3559",
   "metadata": {},
   "source": [
    "<!-- textlint-disable\n",
    "ja-technical-writing/sentence-length\n",
    "-->\n",
    "\n",
    "Jupyterでは`In`という変数に実行履歴、`Out`という変数に実行結果が格納されているが、`_`（前回の結果）, `__`（前々回の結果）, `_5`（`Out[5]`に格納されている結果）などアンダースコアから始まる特殊な変数によって結果を参照できる。\n",
    "\n",
    "<!-- textlint-enable -->"
   ]
  },
  {
   "cell_type": "markdown",
   "id": "98ff7181",
   "metadata": {},
   "source": [
    "実は識別子に日本語を使ってもよいが普通の人はしない（文字変換するのが面倒、日本人以外が読めない、遠い昔に日本語の識別子のせいでエラーになって受けたトラウマがある、などの理由で）。なお、PythonではJavaScript等とは違って識別子に`$`は使えないし、Rとは違って`.`は特別な意味を持つ。"
   ]
  },
  {
   "cell_type": "markdown",
   "id": "least-invalid",
   "metadata": {},
   "source": [
    "<!-- textlint-disable ja-technical-writing/ja-no-mixed-period -->\n",
    "\n",
    "<a name=\"cite_note-23\"></a>23.&nbsp;[^](#cite_ref-23)\n",
    "いくつかの単語を組み合わせて名前を作るときの流儀として、よく使われるものに\n",
    "\n",
    "- アンダースコア（`_`）で単語を`some_variable`のように連ねて書くスネークケース（snake case; ヘビっぽいから）、\n",
    "- 単語の先頭を大文字にして`SomeVariable`（あるいは`someVariable`）のように書くキャメルケース（camel case; 大文字がラクダのこぶっぽいから）、\n",
    "\n",
    "がある。キャメルケースは最初の文字も大文字にするアッパーキャメルケース（upper camel case）と、最初の文字は小文字にするローワーキャメルケース（lower camel case）がある。Pythonでは変数名、関数名、モジュール名などにはスネークケース、クラス名にはアッパーキャメルケースがよく用いられる。\n",
    "なお、世の中にはスネークケースとキャメルケースを区別しない（どちらのスタイルで書かれていても同一のものとして扱う）[Nim](https://nim-lang.org/)という（特殊な）プログラミング言語もある。\n",
    "\n",
    "<!-- textlint-enable -->"
   ]
  },
  {
   "cell_type": "markdown",
   "id": "fitting-bruce",
   "metadata": {},
   "source": [
    "<!-- textlint-disable ja-technical-writing/sentence-length -->\n",
    "\n",
    "<a name=\"cite_note-24\"></a>24.&nbsp;[^](#cite_ref-24)\n",
    "多くのプログラミング言語は大文字と小文字を区別する。区別しない言語の1つに[Fortran](https://fortran-lang.org/)がある。Fortranは1950年代に登場したプログラミング言語であるが（その当時はFORTRANとすべて大文字で綴られていたし[プログラマーは大文字で話していた](https://dajya-ranger.com/software/real-programmers-dont-use-pascal/)そうだ）、スーパーコンピューターを用いた大規模科学技術計算などで一定の需要があり、現在も進化を続けている。\n",
    "\n",
    "<!-- textlint-enable -->"
   ]
  },
  {
   "cell_type": "markdown",
   "id": "alleged-annotation",
   "metadata": {},
   "source": [
    "<!-- textlint-disable ja-technical-writing/ja-unnatural-alphabet -->\n",
    "\n",
    "<a name=\"cite_note-25\"></a>25.&nbsp;[^](#cite_ref-25)\n",
    "英単語を名前に使っていたがスペルを間違えていた、というのがありがちなミスである。I（大文字のI）とl（小文字のL）と1（数字の1）、O（大文字のO）と0（数字の0）などを見間違えることも起こりやすい。\n",
    "\n",
    "<!-- textlint-enable -->"
   ]
  },
  {
   "cell_type": "markdown",
   "id": "macro-volunteer",
   "metadata": {},
   "source": [
    "<a name=\"cite_note-26\"></a>26.&nbsp;[^](#cite_ref-26)\n",
    "注釈としての利用だけでなく、プログラムの特定の行をコメントとして一時的に無効にする（コメントアウト）のにも用いられる。"
   ]
  },
  {
   "cell_type": "markdown",
   "id": "61ce4af6",
   "metadata": {},
   "source": [
    "<!-- textlint-disable ja-technical-writing/sentence-length -->\n",
    "\n",
    "なお、`\"\"\"`や`'''`のようなダブルクォートもしくはシングルクォート3つで挟んだトリプルクォート文字列（triple-quoted strings）を使うと改行を含む複数行のテキストを表すことができるが、これを複数行のコメントに使用することがある。特に、モジュールや関数の頭に書くトリプルクォート文字列はdocstringと呼ばれて特別な意味を持ち、そのモジュールや関数の説明がコメントとして記述される。\n",
    "\n",
    "<!-- textlint-enable -->"
   ]
  },
  {
   "cell_type": "markdown",
   "id": "scientific-colorado",
   "metadata": {},
   "source": [
    "<!-- textlint-disable\n",
    "ja-engineering-paper/prh,\n",
    "ja-technical-writing/max-ten,\n",
    "ja-technical-writing/sentence-length\n",
    "-->\n",
    "\n",
    "<a name=\"cite_note-27\"></a>27.&nbsp;[^](#cite_ref-27)\n",
    "プログラミングには、変数や関数などの名前の付け方、スペースや改行の使い方、コメントの入れ方など、同じ意味のプログラムでもプログラムを書く人の好みによって変わりうる要素が存在する。これらのコーディング・スタイル（coding style）は、1つのプログラムの中では統一されていることが望ましいし、そのほうが読みやすい。複数人が関わるプロジェクトでどのコーディング・スタイルを採用するかは些細なことではあるが、些細なことに対する議論ほど紛糾しやすい（例：[バイク小屋の色](https://docs.freebsd.org/ja/books/faq/#_%E3%81%AA%E3%82%93%E3%81%A7%E3%83%90%E3%82%A4%E3%82%AF%E5%B0%8F%E5%B1%8B_bikeshed_%E3%81%AE%E8%89%B2%E3%81%AB%E3%81%BE%E3%81%A7%E6%B0%97%E3%82%92%E4%BD%BF%E3%82%8F%E3%81%AA%E3%81%91%E3%82%8C%E3%81%B0%E3%81%84%E3%81%91%E3%81%AA%E3%81%84%E3%82%93%E3%81%A7%E3%81%99%E3%81%8B)）。Pythonでは、コーディング・スタイルに関して[PEP 8](https://www.python.org/dev/peps/pep-0008/)（[日本語訳](https://pep8-ja.readthedocs.io/ja/latest/)）という公式文書が存在しており、多くのプロジェクトがこれ（あるいはこれに準じたもの）を採用している。初学者が過度にコーディング・スタイルを意識する必要はないが、初学者の読む例題プログラムが標準規約に従っていないのは望ましくないと[批判を受ける](https://qiita.com/nagataaaas/items/ba33c4c4e0df0b5aa0c4)こともあるので、この講義の例題プログラムではできるだけPEP 8に従うこととする（というよりプログラムの整形を[Black](https://black.readthedocs.io/en/stable/)というソフトウェアに丸投げしているので、だいたいそうなっている）。\n",
    "\n",
    "<!-- textlint-enable -->"
   ]
  },
  {
   "cell_type": "markdown",
   "id": "copyrighted-tyler",
   "metadata": {},
   "source": [
    "<a name=\"cite_note-28\"></a>28.&nbsp;[^](#cite_ref-28)\n",
    "`sqrt`関数を`math`モジュールや（標準ライブラリではないが）`numpy`モジュールからインポートして使ってもよい。ただし、`sqrt`関数に負の値を与えた場合、エラーとなる。ちなみに複素関数が定義されている[`cmath`モジュール](https://docs.python.org/ja/3/library/cmath.html)にも`sqrt`関数があって、こちらは負の値を与えてもエラーとならない（定義に従い複素数を返してくる）。"
   ]
  },
  {
   "cell_type": "markdown",
   "id": "standard-hughes",
   "metadata": {},
   "source": [
    "<a name=\"cite_note-29\"></a>29.&nbsp;[^](#cite_ref-29)\n",
    "三角形にならないような3辺の長さを与えた場合、根号の中が負となり、結果が複素数として返ってくる。たとえば筆者の環境では`(-1) ** (1 / 2)`を計算すると`(6.123233995736766e-17+1j)`という結果が返ってくるが、最後の`j`は虚部を表している。虚部の符号は、複素平面において平方根の分岐切断をどう定義するか、また計算機上で`0`は`+0`を意味するのかそれとも`-0`を意味するのかという規約に依存している。"
   ]
  },
  {
   "cell_type": "markdown",
   "id": "acoustic-public",
   "metadata": {},
   "source": [
    "<a name=\"cite_note-30\"></a>30.&nbsp;[^](#cite_ref-30)\n",
    "逆に、もっと適切な変数名をつけると、コメントが不要になることもある。以下のプログラムが何を意図しているかは（英語が分かれば）自明であろう。\n",
    "```python\n",
    "upper_base_length = 3.0\n",
    "bottom_base_length = 5.0\n",
    "height = 8.0\n",
    "trapezoid_area = (upper_base_length + bottom_base_length) * height / 2\n",
    "```"
   ]
  },
  {
   "cell_type": "markdown",
   "id": "caroline-keeping",
   "metadata": {},
   "source": [
    "<a name=\"cite_note-31\"></a>31.&nbsp;[^](#cite_ref-31)\n",
    "Pythonのモジュールの実態は、`.py`という拡張子を持つ、Pythonプログラムの書かれたテキストファイルである。"
   ]
  },
  {
   "cell_type": "markdown",
   "id": "0c0fcac0",
   "metadata": {},
   "source": [
    "<a name=\"cite_note-32\"></a>32.&nbsp;[^](#cite_ref-32)\n",
    "あるいは`from モジュール名 import 名前1, 名前2`のように書くと、それらを`math`を付けずに参照できる。"
   ]
  },
  {
   "cell_type": "markdown",
   "id": "540c5379",
   "metadata": {},
   "source": [
    "```python\n",
    "from math import sin, cos, pi\n",
    "print(sin(pi / 2))\n",
    "print(cos(pi / 3))\n",
    "```"
   ]
  },
  {
   "cell_type": "markdown",
   "id": "9e33c62d",
   "metadata": {},
   "source": [
    "`math`を付けずに参照できるという意味では、次のコードと同じである（ただし上のコードは`math`という名前を束縛しない）。"
   ]
  },
  {
   "cell_type": "markdown",
   "id": "da5aca14",
   "metadata": {},
   "source": [
    "```python\n",
    "import math\n",
    "sin = math.sin\n",
    "cos = math.cos\n",
    "pi = math.pi\n",
    "print(sin(pi / 2))\n",
    "print(cos(pi / 3))\n",
    "```"
   ]
  },
  {
   "cell_type": "markdown",
   "id": "productive-tribe",
   "metadata": {},
   "source": [
    "<a name=\"cite_note-33\"></a>33.&nbsp;[^](#cite_ref-33)\n",
    "単語や文章のように、文字（character）が連なったものを文字列（string）と呼ぶ。要はテキスト（text）のこと。"
   ]
  },
  {
   "cell_type": "markdown",
   "id": "pleased-studio",
   "metadata": {},
   "source": [
    "<a name=\"cite_note-34\"></a>34.&nbsp;[^](#cite_ref-34)\n",
    "プログラム中に直接記述された`42`、`6.02e23`、`\"こんにちは\"`などのデータ定数のことをリテラル（literal）と呼ぶ。"
   ]
  },
  {
   "cell_type": "markdown",
   "id": "communist-winter",
   "metadata": {},
   "source": [
    "<a name=\"cite_note-35\"></a>35.&nbsp;[^](#cite_ref-35)\n",
    "ちなみに、ある式や変数のデータ型を知りたいときは[`type`関数](https://docs.python.org/ja/3/library/functions.html#type)が使える。\n",
    "```python\n",
    "a = 1\n",
    "b = 1.0\n",
    "print(type(a))             # a の型 \n",
    "print(type(a + b))         # a + b の型\n",
    "print(type(int(\"42\")))     # int(\"42\") で得られる値の型\n",
    "print(type(int))           # int 自体の型\n",
    "print(type(print(\"ABC\")))  # print(\"ABC\")が\"ABC\"を表示した後に返してくる値の型\n",
    "print(type(print))         # print 関数の型\n",
    "print(type(type))          # type 自体の型\n",
    "```\n",
    "実際にプログラムの中でデータ型に応じて条件分岐するときは[`isinstance`関数](https://docs.python.org/ja/3/library/functions.html#isinstance)を使うとよい。"
   ]
  },
  {
   "cell_type": "markdown",
   "id": "c78743f0",
   "metadata": {},
   "source": [
    "<a name=\"cite_note-36\"></a>36.&nbsp;[^](#cite_ref-36)\n",
    "ちなみに`print`関数に複数の引数を渡すと、デフォルトではスペースを挟みながら、すべて出力してくれる。"
   ]
  },
  {
   "cell_type": "markdown",
   "id": "433905cd",
   "metadata": {},
   "source": [
    "```python\n",
    "print(name, \"さんは\", age, \"歳で身長\", height, \"センチメートルです。\")\n",
    "```"
   ]
  },
  {
   "cell_type": "markdown",
   "id": "d49bf592",
   "metadata": {},
   "source": [
    "```\n",
    "止田次郎 さんは 20 歳で身長 189 センチメートルです。\n",
    "```"
   ]
  },
  {
   "cell_type": "markdown",
   "id": "d1301f8f",
   "metadata": {},
   "source": [
    "`print`関数で`sep`オプション引数を指定するとスペースを入れずに複数の引数を出力できる。"
   ]
  },
  {
   "cell_type": "markdown",
   "id": "aac6272b",
   "metadata": {},
   "source": [
    "```python\n",
    "print(name, \"さんは\", age, \"歳で身長\", height, \"センチメートルです。\", sep=\"\")\n",
    "```"
   ]
  },
  {
   "cell_type": "markdown",
   "id": "0852943d",
   "metadata": {},
   "source": [
    "```\n",
    "止田次郎さんは20歳で身長189センチメートルです。\n",
    "```"
   ]
  },
  {
   "cell_type": "markdown",
   "id": "technological-collapse",
   "metadata": {},
   "source": [
    "<a name=\"cite_note-37\"></a>37.&nbsp;[^](#cite_ref-37)\n",
    "止田次郎は[某学会](https://www.jps.or.jp/)の講演予稿集のテンプレートに例として出てくる名前である。身長189cmという設定は止田次郎の元ネタ（つまり[この人](https://www.google.com/search?q=%E9%98%BF%E9%83%A8%E5%AF%9B%E3%81%AE%E8%BA%AB%E9%95%B7)）から拝借した。ちなみに、[CiNii](https://ci.nii.ac.jp/)で「止田次郎」を検索すると1件ヒットする（共同研究者には潟川学がいる）。実に興味深い。"
   ]
  },
  {
   "cell_type": "markdown",
   "id": "united-vatican",
   "metadata": {},
   "source": [
    "<!-- textlint-disable ja-technical-writing/no-doubled-joshi -->\n",
    "\n",
    "<a name=\"cite_note-38\"></a>38.&nbsp;[^](#cite_ref-38)\n",
    "フォーマット済み文字列リテラルはPython 3.6で導入された。それ以前は、`\"{}さんは{}歳で身長{}センチメートルです。\".format(name, age, height)`のように、`str`型の`format`メソッドを使う必要があった。なお、フォーマット済み文字列リテラルでは`format`メソッドと同じ[書式指定](https://docs.python.org/ja/3/library/string.html#format-specification-mini-language)を受け付ける。ちなみに、Python 2.5以前では文字列フォーマット演算子（`%`）を使っていた。\n",
    "\n",
    "<!-- textlint-enable -->"
   ]
  }
 ],
 "metadata": {
  "kernelspec": {
   "display_name": "Python 3 (ipykernel)",
   "language": "python",
   "name": "python3"
  },
  "language_info": {
   "codemirror_mode": {
    "name": "ipython",
    "version": 3
   },
   "file_extension": ".py",
   "mimetype": "text/x-python",
   "name": "python",
   "nbconvert_exporter": "python",
   "pygments_lexer": "ipython3",
   "version": "3.7.13"
  }
 },
 "nbformat": 4,
 "nbformat_minor": 5
}
