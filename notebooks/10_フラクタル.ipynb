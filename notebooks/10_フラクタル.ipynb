{
 "cells": [
  {
   "cell_type": "markdown",
   "id": "dirty-paint",
   "metadata": {},
   "source": [
    "# フラクタル"
   ]
  },
  {
   "cell_type": "markdown",
   "id": "linear-blanket",
   "metadata": {},
   "source": [
    "樹木の枝の付き方、雪の結晶の形、海岸線や山の稜線の形など、自然界にはその一部分を拡大すると元の形と同じようなものが現れる自己相似（フラクタル；fractal）という性質を持つものが多い<a name=\"cite_ref-1\"></a>[<sup>[1]</sup>](#cite_note-1)。今回は、いろいろなフラクタル図形を描画してみよう。"
   ]
  },
  {
   "cell_type": "markdown",
   "id": "apparent-sierra",
   "metadata": {},
   "source": [
    "## 今回のねらい"
   ]
  },
  {
   "cell_type": "markdown",
   "id": "immune-exclusion",
   "metadata": {},
   "source": [
    "- 写像の繰り返しによって定義される簡単な系のシミュレーションができるようになる。\n",
    "- （心に余裕があれば）フラクタルアートを楽しむ。"
   ]
  },
  {
   "cell_type": "markdown",
   "id": "textile-advertiser",
   "metadata": {},
   "source": [
    "## コッホ曲線（再帰処理）"
   ]
  },
  {
   "cell_type": "markdown",
   "id": "diverse-weapon",
   "metadata": {},
   "source": [
    "有限の長さの線分を3等分し、分割した2点で正三角形を描いて底辺を消す。この操作を何度も繰り返してできあがるのがコッホ曲線（Koch curve）である（図1）。"
   ]
  },
  {
   "cell_type": "markdown",
   "id": "seven-darkness",
   "metadata": {},
   "source": [
    "![コッホ曲線](https://tueda.github.io/PS2022SS/notebooks/images/koch.png)\n",
    "\n",
    "<!-- textlint-disable ja-technical-writing/ja-no-mixed-period -->\n",
    "\n",
    "図1. コッホ曲線\n",
    "\n",
    "<!-- textlint-enable -->"
   ]
  },
  {
   "cell_type": "markdown",
   "id": "secret-nightmare",
   "metadata": {},
   "source": [
    "![線分の分割](https://tueda.github.io/PS2022SS/notebooks/images/koch_geom.png)\n",
    "\n",
    "<!-- textlint-disable ja-technical-writing/ja-no-mixed-period -->\n",
    "\n",
    "図2. 線分の分割\n",
    "\n",
    "<!-- textlint-enable -->"
   ]
  },
  {
   "cell_type": "markdown",
   "id": "final-cutting",
   "metadata": {},
   "source": [
    "<!-- textlint-disable ja-technical-writing/ja-no-mixed-period -->\n",
    "\n",
    "図2のように、ある線分が点$P_1$と$P_2$によって与えられたとき、点$A$、$B$、$C$をどう求めるかは単純に平面幾何学の問題である。いま、\n",
    "\n",
    "<!-- textlint-enable -->"
   ]
  },
  {
   "cell_type": "markdown",
   "id": "ahead-stage",
   "metadata": {},
   "source": [
    "<!-- textlint-disable ja-technical-writing/sentence-length,ja-engineering-paper/use-si-units -->\n",
    "\n",
    "$$\n",
    "\\vec{d} = \\overrightarrow{P_1 P_2} = \n",
    "\\begin{pmatrix}\n",
    "x_2 - x_1 \\\\\n",
    "y_2 - y_1\n",
    "\\end{pmatrix} ,\n",
    "\\tag{1}\n",
    "$$\n",
    "\n",
    "<!-- textlint-enable -->"
   ]
  },
  {
   "cell_type": "markdown",
   "id": "balanced-budget",
   "metadata": {},
   "source": [
    "<!-- textlint-disable ja-technical-writing/ja-no-mixed-period -->\n",
    "\n",
    "とし、$\\vec{d}$を反時計回りに$90^\\circ$回転させたものを$\\vec{d}_\\perp$としよう。$\\vec{d}_\\perp$は$\\vec{d}$に回転行列を掛けることで得られる。\n",
    "\n",
    "<!-- textlint-enable -->"
   ]
  },
  {
   "cell_type": "markdown",
   "id": "auburn-proxy",
   "metadata": {},
   "source": [
    "<!-- textlint-disable ja-technical-writing/sentence-length -->\n",
    "\n",
    "$$\n",
    "\\vec{d}_\\perp = \n",
    "\\begin{pmatrix}\n",
    "\\displaystyle \\cos\\left(\\frac{\\pi}{2}\\right) &\n",
    "\\displaystyle -\\sin\\left(\\frac{\\pi}{2}\\right) \\\\\n",
    "\\displaystyle \\sin\\left(\\frac{\\pi}{2}\\right) &\n",
    "\\displaystyle \\phantom{-} \\cos\\left(\\frac{\\pi}{2}\\right)\n",
    "\\end{pmatrix}\n",
    "\\vec{d} =\n",
    "\\begin{pmatrix}\n",
    "y_1 - y_2 \\\\\n",
    "x_2 - x_1\n",
    "\\end{pmatrix} .\n",
    "\\tag{2}\n",
    "$$\n",
    "\n",
    "<!-- textlint-enable -->"
   ]
  },
  {
   "cell_type": "markdown",
   "id": "governmental-invasion",
   "metadata": {},
   "source": [
    "すると、図2から明らかなように、以下のように点$A$、$B$、$C$の位置を求めることができる。"
   ]
  },
  {
   "cell_type": "markdown",
   "id": "vital-sellers",
   "metadata": {},
   "source": [
    "<!-- textlint-disable ja-technical-writing/sentence-length -->\n",
    "\n",
    "$$\n",
    "\\begin{align}\n",
    "A &= P_1 + \\frac{1}{3} \\vec{d} ,\n",
    "\\tag{3} \\\\\n",
    "B &= P_1 + \\frac{1}{2} \\vec{d} + \\frac{\\sqrt{3}}{6} \\vec{d}_\\perp ,\n",
    "\\tag{4} \\\\\n",
    "C &= P_1 + \\frac{2}{3} \\vec{d} .\n",
    "\\tag{5}\n",
    "\\end{align}\n",
    "$$\n",
    "\n",
    "<!-- textlint-enable -->"
   ]
  },
  {
   "cell_type": "markdown",
   "id": "strange-brooks",
   "metadata": {},
   "source": [
    "いま描きたいコッホ曲線は階層的な構造を持っているので、関数の再帰呼び出しと相性がよい。線分を分割する関数を作り、その関数からそれ自身を再帰的に呼び出すことによって、線分の分割を繰り返せばよい<a name=\"cite_ref-2\"></a>[<sup>[2]</sup>](#cite_note-2)<a name=\"cite_ref-3\"></a>[<sup>[3]</sup>](#cite_note-3)。"
   ]
  },
  {
   "cell_type": "code",
   "execution_count": null,
   "id": "altered-relative",
   "metadata": {},
   "outputs": [],
   "source": [
    "%matplotlib inline\n",
    "import matplotlib.pyplot as plt\n",
    "from math import sqrt\n",
    "\n",
    "max_level = 6  # 再帰の深さ\n",
    "\n",
    "# 折れ線グラフを描くための座標を保存するリスト（グローバル変数として使う）\n",
    "xpoints = []\n",
    "ypoints = []\n",
    "\n",
    "\n",
    "def koch(x1, y1, x2, y2, level):  # (x1,y1)から(x2,y2)の間のコッホ曲線\n",
    "    if level == 0:\n",
    "        # levelが0であれば点を追加する\n",
    "        if len(xpoints) == 0:\n",
    "            # リストが空のとき（つまり最初のみ）\n",
    "            xpoints.append(x1)\n",
    "            ypoints.append(y1)\n",
    "        xpoints.append(x2)\n",
    "        ypoints.append(y2)\n",
    "    else:\n",
    "        # levelが0より大きければ、点A、B、Cの位置を求め、\n",
    "        # 4つの線分に分割する(level - 1を渡して再帰)\n",
    "        dx = x2 - x1\n",
    "        dy = y2 - y1\n",
    "\n",
    "        xa = x1 + 1 / 3 * dx\n",
    "        ya = y1 + 1 / 3 * dy\n",
    "\n",
    "        xb = x1 + 1 / 2 * dx - sqrt(3) / 6 * dy\n",
    "        yb = y1 + 1 / 2 * dy + sqrt(3) / 6 * dx\n",
    "\n",
    "        xc = x1 + 2 / 3 * dx\n",
    "        yc = y1 + 2 / 3 * dy\n",
    "\n",
    "        koch(x1, y1, xa, ya, level - 1)\n",
    "        koch(xa, ya, xb, yb, level - 1)\n",
    "        koch(xb, yb, xc, yc, level - 1)\n",
    "        koch(xc, yc, x2, y2, level - 1)\n",
    "\n",
    "\n",
    "# 実際にkoch関数を呼ぶ\n",
    "koch(0, 0, 1, 0, max_level)\n",
    "\n",
    "# 折れ線グラフを描く\n",
    "fig, ax = plt.subplots()\n",
    "ax.plot(xpoints, ypoints)\n",
    "ax.set_aspect(\"equal\")\n",
    "plt.show()"
   ]
  },
  {
   "cell_type": "markdown",
   "id": "eleven-sandwich",
   "metadata": {},
   "source": [
    "## 練習問題"
   ]
  },
  {
   "cell_type": "markdown",
   "id": "understanding-warrant",
   "metadata": {},
   "source": [
    "<!-- textlint-disable ja-technical-writing/sentence-length,ja-technical-writing/max-comma -->\n",
    "\n",
    "(1) 上のプログラムでは$(0, 0) \\to (1, 0)$の間にコッホ曲線を描いた。これに加えて、$(1, 0) \\to (1 / 2, -\\sqrt{3}/2)$、$(1 / 2, -\\sqrt{3}/2) \\to (0, 0)$の間の2つのコッホ曲線を追加してみよう（つまり、`koch`関数を2回追加で呼ぶ）。できた図形はコッホ雪片（Koch snowflake）と呼ばれる<a name=\"cite_ref-4\"></a>[<sup>[4]</sup>](#cite_note-4)。\n",
    "\n",
    "<!-- textlint-enable -->"
   ]
  },
  {
   "cell_type": "markdown",
   "id": "figured-invasion",
   "metadata": {},
   "source": [
    "<!-- textlint-disable ja-technical-writing/sentence-length -->\n",
    "\n",
    "(2) コッホ曲線は、その一部を拡大しても同じ形が現れるという、フラクタル構造を持っている。これを確認してみよう。[Axesオブジェクト](https://matplotlib.org/stable/api/axes_api.html#the-axes-class)の[set_xlimメソッド](https://matplotlib.org/stable/api/_as_gen/matplotlib.axes.Axes.set_xlim.html)や[set_ylimメソッド](https://matplotlib.org/stable/api/_as_gen/matplotlib.axes.Axes.set_ylim.html)を使って、横軸と縦軸の範囲を指定してやればよい（たとえば、$0.10 \\le x \\le 0.23$と$0.05 \\le y \\le 0.10$）。\n",
    "\n",
    "<!-- textlint-enable -->"
   ]
  },
  {
   "cell_type": "markdown",
   "id": "surprising-pierre",
   "metadata": {},
   "source": [
    "## コッホ曲線（カオスゲーム）"
   ]
  },
  {
   "cell_type": "markdown",
   "id": "swiss-supervision",
   "metadata": {},
   "source": [
    "<!-- textlint-disable ja-technical-writing/ja-no-mixed-period -->\n",
    "\n",
    "今度はコッホ曲線を違った方法で描いてみよう。次のような2つの2次元写像を繰り返すことを考える：\n",
    "\n",
    "<!-- textlint-enable -->"
   ]
  },
  {
   "cell_type": "markdown",
   "id": "normal-malawi",
   "metadata": {},
   "source": [
    "<!-- textlint-disable ja-technical-writing/sentence-length -->\n",
    "\n",
    "$$\n",
    "\\begin{align}\n",
    "\\text{①} \\,\n",
    "&\\begin{cases}\n",
    "x_{n+1} = \\displaystyle \\frac{1}{2} x_n + \\frac{\\sqrt{3}}{6} y_n , \\\\\n",
    "y_{n+1} = \\displaystyle \\frac{\\sqrt{3}}{6} x_n - \\frac{1}{2} y_n ,\n",
    "\\end{cases}\n",
    "\\tag{6} \\\\\n",
    "\\text{②} \\,\n",
    "&\\begin{cases}\n",
    "x_{n+1} = \\displaystyle \\frac{1}{2} x_n - \\frac{\\sqrt{3}}{6} y_n + \\frac{1}{2} , \\\\\n",
    "y_{n+1} = \\displaystyle - \\frac{\\sqrt{3}}{6} x_n - \\frac{1}{2} y_n + \\frac{\\sqrt{3}}{6} .\n",
    "\\end{cases}\n",
    "\\tag{7}\n",
    "\\end{align}\n",
    "$$\n",
    "\n",
    "<!-- textlint-enable -->"
   ]
  },
  {
   "cell_type": "markdown",
   "id": "alpine-nature",
   "metadata": {},
   "source": [
    "ただし、各ステップで写像①と②をそれぞれ確率$1/2$で、どちらか1つを選んで適用するものとする。このようにしてできる点の集合を**散布図**によって描画する。初期位置は$(x_0,y_0) = (0, 0)$としてみよう<a name=\"cite_ref-5\"></a>[<sup>[5]</sup>](#cite_note-5)。"
   ]
  },
  {
   "cell_type": "code",
   "execution_count": null,
   "id": "announced-device",
   "metadata": {},
   "outputs": [],
   "source": [
    "%matplotlib inline\n",
    "import matplotlib.pyplot as plt\n",
    "import random\n",
    "from math import sqrt\n",
    "\n",
    "n = 100000  # ステップ数\n",
    "\n",
    "xpoints = []  # 各ステップでの位置を保存するリスト\n",
    "ypoints = []\n",
    "\n",
    "# 初期位置\n",
    "x = 0\n",
    "y = 0\n",
    "xpoints.append(x)\n",
    "ypoints.append(y)\n",
    "\n",
    "for _ in range(n):\n",
    "    # 2つの写像のどちらかをランダムに選んで適用する\n",
    "    r = random.random()\n",
    "    if r < 0.5:\n",
    "        x_new = 1 / 2 * x + sqrt(3) / 6 * y\n",
    "        y_new = sqrt(3) / 6 * x - 1 / 2 * y\n",
    "    else:\n",
    "        x_new = 1 / 2 * x - sqrt(3) / 6 * y + 1 / 2\n",
    "        y_new = -sqrt(3) / 6 * x - 1 / 2 * y + sqrt(3) / 6\n",
    "\n",
    "    x = x_new\n",
    "    y = y_new\n",
    "\n",
    "    # 各ステップでの位置をリストに追加\n",
    "    xpoints.append(x)\n",
    "    ypoints.append(y)\n",
    "\n",
    "# 散布図を描く\n",
    "fig, ax = plt.subplots()\n",
    "ax.scatter(xpoints, ypoints, s=0.01)\n",
    "ax.set_aspect(\"equal\")\n",
    "plt.show()"
   ]
  },
  {
   "cell_type": "markdown",
   "id": "educated-apollo",
   "metadata": {},
   "source": [
    "このようにしてフラクタル図形を描く方法はカオスゲーム（chaos game）と呼ばれる<a name=\"cite_ref-6\"></a>[<sup>[6]</sup>](#cite_note-6)。"
   ]
  },
  {
   "cell_type": "markdown",
   "id": "fresh-theme",
   "metadata": {},
   "source": [
    "## 練習問題"
   ]
  },
  {
   "cell_type": "markdown",
   "id": "gross-oklahoma",
   "metadata": {},
   "source": [
    "<!-- textlint-disable jtf-style/4.3.1.丸かっこ（） -->\n",
    "\n",
    "(3) 式<!-- eqref -->(6)と<!-- eqref -->(7)の係数を1つでも変更すると違う図形となることを確認してみよう（演習課題(2)参照）。\n",
    "\n",
    "<!-- textlint-enable -->"
   ]
  },
  {
   "cell_type": "markdown",
   "id": "continuous-settle",
   "metadata": {},
   "source": [
    "## シェルピンスキーのギャスケット"
   ]
  },
  {
   "cell_type": "markdown",
   "id": "satellite-dimension",
   "metadata": {},
   "source": [
    "次の3つの写像を使ってカオスゲームを行う。"
   ]
  },
  {
   "cell_type": "markdown",
   "id": "norman-effectiveness",
   "metadata": {},
   "source": [
    "<!-- textlint-disable ja-technical-writing/sentence-length -->\n",
    "\n",
    "$$\n",
    "\\begin{align}\n",
    "\\text{①} \\,\n",
    "&\\begin{cases}\n",
    "x_{n+1} = \\displaystyle \\frac{1}{2} x_n  , \\\\\n",
    "y_{n+1} = \\displaystyle \\frac{1}{2} y_n ,\n",
    "\\end{cases}\n",
    "\\tag{8} \\\\\n",
    "\\text{②} \\,\n",
    "&\\begin{cases}\n",
    "x_{n+1} = \\displaystyle \\frac{1}{2} (x_n + 2) , \\\\\n",
    "y_{n+1} = \\displaystyle \\frac{1}{2} y_n ,\n",
    "\\end{cases}\n",
    "\\tag{9} \\\\\n",
    "\\text{③} \\,\n",
    "&\\begin{cases}\n",
    "x_{n+1} = \\displaystyle \\frac{1}{2} (x_n + 1) , \\\\\n",
    "y_{n+1} = \\displaystyle \\frac{1}{2} (y_n + 1) .\n",
    "\\end{cases}\n",
    "\\tag{10}\n",
    "\\end{align}\n",
    "$$\n",
    "\n",
    "<!-- textlint-enable -->"
   ]
  },
  {
   "cell_type": "markdown",
   "id": "boolean-television",
   "metadata": {},
   "source": [
    "ただし、①から③の写像をそれぞれ確率$1/3$で選ぶ。初期位置は$(x_0,y_0) = (1/2, 1/2)$としてみよう。"
   ]
  },
  {
   "cell_type": "code",
   "execution_count": null,
   "id": "swiss-medication",
   "metadata": {},
   "outputs": [],
   "source": [
    "%matplotlib inline\n",
    "import matplotlib.pyplot as plt\n",
    "import random\n",
    "\n",
    "n = 100000  # ステップ数\n",
    "\n",
    "xpoints = []  # 各ステップでの位置を保存するリスト\n",
    "ypoints = []\n",
    "\n",
    "# 初期位置\n",
    "x = 1 / 2\n",
    "y = 1 / 2\n",
    "xpoints.append(x)\n",
    "ypoints.append(y)\n",
    "\n",
    "for _ in range(n):\n",
    "    # 3つの写像のどれかを適用する\n",
    "    r = random.random()\n",
    "    if r < 1 / 3:\n",
    "        x_new = 1 / 2 * x\n",
    "        y_new = 1 / 2 * y\n",
    "    elif r < 2 / 3:\n",
    "        x_new = 1 / 2 * (x + 2)\n",
    "        y_new = 1 / 2 * y\n",
    "    else:\n",
    "        x_new = 1 / 2 * (x + 1)\n",
    "        y_new = 1 / 2 * (y + 1)\n",
    "\n",
    "    x = x_new\n",
    "    y = y_new\n",
    "\n",
    "    # 各ステップでの位置をリストに追加\n",
    "    xpoints.append(x)\n",
    "    ypoints.append(y)\n",
    "\n",
    "# 散布図を描く\n",
    "fig, ax = plt.subplots()\n",
    "ax.scatter(xpoints, ypoints, s=0.01)\n",
    "ax.set_aspect(\"equal\")\n",
    "plt.show()"
   ]
  },
  {
   "cell_type": "markdown",
   "id": "indoor-province",
   "metadata": {},
   "source": [
    "この図形はシェルピンスキーのギャスケット（Sierpiński gasket）と呼ばれる<a name=\"cite_ref-7\"></a>[<sup>[7]</sup>](#cite_note-7)<a name=\"cite_ref-8\"></a>[<sup>[8]</sup>](#cite_note-8)。"
   ]
  },
  {
   "cell_type": "markdown",
   "id": "3c86dae9",
   "metadata": {},
   "source": [
    "## バーンズリーのシダ"
   ]
  },
  {
   "cell_type": "markdown",
   "id": "676ac1c0",
   "metadata": {},
   "source": [
    "次の4つの写像を使ってカオスゲームを行う。"
   ]
  },
  {
   "cell_type": "markdown",
   "id": "fa431ccf",
   "metadata": {},
   "source": [
    "<!-- textlint-disable ja-technical-writing/sentence-length,ja-engineering-paper/use-si-units -->\n",
    "\n",
    "$$\n",
    "\\begin{align}\n",
    "\\text{①} \\,\n",
    "&\\begin{cases}\n",
    "x_{n+1} = \\phantom{-} 0.85 x_n + 0.04 y_n , \\\\\n",
    "y_{n+1} = - 0.04 x_n +0.85 y_n + 1.60,\n",
    "\\end{cases}\n",
    "\\tag{11} \\\\\n",
    "\\text{②} \\,\n",
    "&\\begin{cases}\n",
    "x_{n+1} = \\phantom{-} 0.20 x_n - 0.26 y_n , \\\\\n",
    "y_{n+1} = \\phantom{-} 0.23 x_n + 0.22 y_n + 1.60,\n",
    "\\end{cases}\n",
    "\\tag{12} \\\\\n",
    "\\text{③} \\,\n",
    "&\\begin{cases}\n",
    "x_{n+1} = - 0.15 x_n + 0.28 y_n , \\\\\n",
    "y_{n+1} = \\phantom{-} 0.26 x_n + 0.24 y_n + 0.44,\n",
    "\\end{cases}\n",
    "\\tag{13} \\\\\n",
    "\\text{④} \\,\n",
    "&\\begin{cases}\n",
    "x_{n+1} = \\phantom{-} 0.00 , \\\\\n",
    "y_{n+1} = \\phantom{-} 0.16 y_n .\n",
    "\\end{cases}\n",
    "\\tag{14}\n",
    "\\end{align}\n",
    "$$\n",
    "\n",
    "<!-- textlint-enable -->"
   ]
  },
  {
   "cell_type": "markdown",
   "id": "1c845122",
   "metadata": {},
   "source": [
    "ただし、①から④の写像を選ぶ確率はそれぞれ① 0.85、② 0.07、③ 0.07、④ 0.01とし、初期位置は $(x_0,y_0) = (0, 0)$ とする。"
   ]
  },
  {
   "cell_type": "code",
   "execution_count": null,
   "id": "9e2bb321",
   "metadata": {},
   "outputs": [],
   "source": [
    "%matplotlib inline\n",
    "import matplotlib.pyplot as plt\n",
    "import random\n",
    "\n",
    "n = 100000  # ステップ数\n",
    "\n",
    "xpoints = []  # 各ステップでの位置を保存するリスト\n",
    "ypoints = []\n",
    "\n",
    "# 初期位置\n",
    "x = 0\n",
    "y = 0\n",
    "xpoints.append(x)\n",
    "ypoints.append(y)\n",
    "\n",
    "for _ in range(n):\n",
    "    # 4つの写像のどれかを適用する\n",
    "    r = random.random()\n",
    "    if r < 0.85:\n",
    "        x_new = +0.85 * x + 0.04 * y\n",
    "        y_new = -0.04 * x + 0.85 * y + 1.60\n",
    "    elif r < 0.92:\n",
    "        x_new = +0.20 * x - 0.26 * y\n",
    "        y_new = +0.23 * x + 0.22 * y + 1.60\n",
    "    elif r < 0.99:\n",
    "        x_new = -0.15 * x + 0.28 * y\n",
    "        y_new = +0.26 * x + 0.24 * y + 0.44\n",
    "    else:\n",
    "        x_new = 0\n",
    "        y_new = 0.16 * y\n",
    "\n",
    "    x = x_new\n",
    "    y = y_new\n",
    "\n",
    "    # 各ステップでの位置をリストに追加\n",
    "    xpoints.append(x)\n",
    "    ypoints.append(y)\n",
    "\n",
    "# 散布図を描く\n",
    "fig, ax = plt.subplots()\n",
    "ax.scatter(xpoints, ypoints, s=0.01, c=\"green\")\n",
    "ax.set_aspect(0.5)\n",
    "plt.show()"
   ]
  },
  {
   "cell_type": "markdown",
   "id": "cbd0c451",
   "metadata": {},
   "source": [
    "この図形はバーンズリーのシダ（Barnsley fern）と呼ばれる。"
   ]
  },
  {
   "cell_type": "markdown",
   "id": "3d4458b8",
   "metadata": {},
   "source": [
    "## アポロニウスの窓"
   ]
  },
  {
   "cell_type": "markdown",
   "id": "460517e2",
   "metadata": {},
   "source": [
    "もう少し複雑な写像（非線形写像）を用いることもできる<a name=\"cite_ref-9\"></a>[<sup>[9]</sup>](#cite_note-9)。今度は次の4つの写像を使ってカオスゲームを行う<a name=\"cite_ref-10\"></a>[<sup>[10]</sup>](#cite_note-10)。"
   ]
  },
  {
   "cell_type": "markdown",
   "id": "b14993e1",
   "metadata": {},
   "source": [
    "<!-- textlint-disable ja-technical-writing/sentence-length -->\n",
    "\n",
    "$$\n",
    "\\begin{align}\n",
    "\\text{①} \\,\n",
    "&\\begin{cases}\n",
    "x_{n+1} = \\displaystyle x_n  , \\\\\n",
    "y_{n+1} = \\displaystyle - y_n ,\n",
    "\\end{cases}\n",
    "\\tag{15} \\\\\n",
    "\\text{②} \\,\n",
    "&\\begin{cases}\n",
    "x_{n+1} = \\displaystyle \\frac{x_n}{16 x_n^2 + (4 y_n - 1)^2} , \\\\\n",
    "y_{n+1} = \\displaystyle \\frac{4 x_n^2 + y_n (4 y_n - 1)}{16 x^2 + (4 y - 1)^2} ,\n",
    "\\end{cases}\n",
    "\\tag{16} \\\\\n",
    "\\text{③} \\,\n",
    "&\\begin{cases}\n",
    "x_{n+1} = \\displaystyle \\frac{x (x - 1) + (y - 1)^2}{(x - 1)^2 + (y - 1)^2} , \\\\\n",
    "y_{n+1} = \\displaystyle \\frac{(x - 1)^2 + y (y - 1)}{(x - 1)^2 + (y - 1)^2} ,\n",
    "\\end{cases}\n",
    "\\tag{17} \\\\\n",
    "\\text{④} \\,\n",
    "&\\begin{cases}\n",
    "x_{n+1} = \\displaystyle - \\frac{x (x + 1) + (y - 1)^2}{(x + 1)^2 + (y - 1)^2} , \\\\\n",
    "y_{n+1} = \\displaystyle \\frac{(x + 1)^2 + y (y - 1)}{(x + 1)^2 + (y - 1)^2} .\n",
    "\\end{cases}\n",
    "\\tag{18}\n",
    "\\end{align}\n",
    "$$\n",
    "\n",
    "<!-- textlint-enable -->"
   ]
  },
  {
   "cell_type": "markdown",
   "id": "3c01656d",
   "metadata": {},
   "source": [
    "ただし、①から④の写像をそれぞれ確率$1/4$で選ぶ。初期位置は$(x_0,y_0) = (1/2, 1/2)$とする。"
   ]
  },
  {
   "cell_type": "code",
   "execution_count": null,
   "id": "58054a99",
   "metadata": {},
   "outputs": [],
   "source": [
    "%matplotlib inline\n",
    "import matplotlib.pyplot as plt\n",
    "import random\n",
    "\n",
    "n = 100000  # ステップ数\n",
    "\n",
    "xpoints = []  # 各ステップでの位置を保存するリスト\n",
    "ypoints = []\n",
    "\n",
    "# 初期位置\n",
    "x = 1 / 2\n",
    "y = 1 / 2\n",
    "xpoints.append(x)\n",
    "ypoints.append(y)\n",
    "\n",
    "for _ in range(n):\n",
    "    # 4つの写像のどれかを適用する\n",
    "    r = random.random()\n",
    "    if r < 1 / 4:\n",
    "        x_new = x\n",
    "        y_new = -y\n",
    "    elif r < 1 / 2:\n",
    "        x_new = x / (16 * x**2 + (4 * y - 1) ** 2)\n",
    "        y_new = (4 * x**2 + y * (4 * y - 1)) / (16 * x**2 + (4 * y - 1) ** 2)\n",
    "    elif r < 3 / 4:\n",
    "        x_new = (x * (x - 1) + (y - 1) ** 2) / ((x - 1) ** 2 + (y - 1) ** 2)\n",
    "        y_new = ((x - 1) ** 2 + y * (y - 1)) / ((x - 1) ** 2 + (y - 1) ** 2)\n",
    "    else:\n",
    "        x_new = -(x * (x + 1) + (y - 1) ** 2) / ((x + 1) ** 2 + (y - 1) ** 2)\n",
    "        y_new = ((x + 1) ** 2 + y * (y - 1)) / ((x + 1) ** 2 + (y - 1) ** 2)\n",
    "\n",
    "    x = x_new\n",
    "    y = y_new\n",
    "\n",
    "    # 各ステップでの位置をリストに追加\n",
    "    xpoints.append(x)\n",
    "    ypoints.append(y)\n",
    "\n",
    "# 散布図を描く\n",
    "fig, ax = plt.subplots()\n",
    "ax.scatter(xpoints, ypoints, s=0.01)\n",
    "ax.set_aspect(\"equal\")\n",
    "plt.show()"
   ]
  },
  {
   "cell_type": "markdown",
   "id": "47d569c6",
   "metadata": {},
   "source": [
    "この図形はアポロニウスの窓（Apollonian window）と呼ばれる。"
   ]
  },
  {
   "cell_type": "markdown",
   "id": "precious-romania",
   "metadata": {},
   "source": [
    "## 演習課題"
   ]
  },
  {
   "cell_type": "markdown",
   "id": "characteristic-nirvana",
   "metadata": {},
   "source": [
    "(1) 次の4つの写像を使ったカオスゲームを考える。"
   ]
  },
  {
   "cell_type": "markdown",
   "id": "incoming-journalism",
   "metadata": {},
   "source": [
    "<!-- textlint-disable ja-technical-writing/sentence-length,ja-engineering-paper/use-si-units -->\n",
    "\n",
    "$$\n",
    "\\begin{align}\n",
    "\\text{①} \\,\n",
    "&\\begin{cases}\n",
    "x_{n+1} = 0.8 x_n , \\\\\n",
    "y_{n+1} = 0.8 y_n ,\n",
    "\\end{cases}\n",
    "\\tag{19} \\\\\n",
    "\\text{②} \\,\n",
    "&\\begin{cases}\n",
    "x_{n+1} = 0.5 x_n + 0.000 , \\\\\n",
    "y_{n+1} = 0.5 y_n + 0.315 ,\n",
    "\\end{cases}\n",
    "\\tag{20} \\\\\n",
    "\\text{③} \\,\n",
    "&\\begin{cases}\n",
    "x_{n+1} = \\phantom{-} 0.355 x_n - 0.355 y_n - 0.163 , \\\\\n",
    "y_{n+1} = \\phantom{-} 0.355 x_n + 0.355 y_n + 0.062 ,\n",
    "\\end{cases}\n",
    "\\tag{21} \\\\\n",
    "\\text{④} \\,\n",
    "&\\begin{cases}\n",
    "x_{n+1} = \\phantom{-} 0.355 x_n + 0.355 y_n + 0.163 , \\\\\n",
    "y_{n+1} = - 0.355 x_n + 0.355 y_n + 0.062 .\n",
    "\\end{cases}\n",
    "\\tag{22}\n",
    "\\end{align}\n",
    "$$\n",
    "\n",
    "<!-- textlint-enable -->"
   ]
  },
  {
   "cell_type": "markdown",
   "id": "retired-screen",
   "metadata": {},
   "source": [
    "ただし、①から④の写像を選ぶ確率はそれぞれ① 0.5、② 0.168、③ 0.166、④ 0.166、初期位置は $(x_0,y_0) = (0, 0)$ とする。これらの写像を繰り返して得られる点の集合よりフラクタル図形を描画せよ。点の色は（そのフラクタル図形から想像される色などに）適当に変えてもよい。"
   ]
  },
  {
   "cell_type": "code",
   "execution_count": null,
   "id": "joined-jaguar",
   "metadata": {},
   "outputs": [],
   "source": [
    "# 課題解答10.1  <-- 提出する際に、この行を必ず含めること。\n",
    "\n",
    "%matplotlib inline\n",
    "import matplotlib.pyplot as plt\n",
    "import random"
   ]
  },
  {
   "cell_type": "markdown",
   "id": "afraid-saver",
   "metadata": {},
   "source": [
    "<!-- textlint-disable ja-technical-writing/ja-no-mixed-period -->\n",
    "\n",
    "(2) アポロニウスの窓の場合を除くと、今回用いた写像の一般形は、線形写像に平行移動を加えた\n",
    "\n",
    "<!-- textlint-enable -->"
   ]
  },
  {
   "cell_type": "markdown",
   "id": "activated-equilibrium",
   "metadata": {},
   "source": [
    "<!-- textlint-disable ja-technical-writing/sentence-length -->\n",
    "\n",
    "$$\n",
    "\\begin{cases}\n",
    "x_{n+1} = a_{11} x_n + a_{12} y_n + b_1 , \\\\\n",
    "y_{n+1} = a_{21} x_n + a_{22} y_n + b_2 ,\n",
    "\\end{cases}\n",
    "\\tag{23}\n",
    "$$\n",
    "\n",
    "<!-- textlint-enable -->"
   ]
  },
  {
   "cell_type": "markdown",
   "id": "static-windsor",
   "metadata": {},
   "source": [
    "であり、アフィン写像（affine map）と呼ばれる。コッホ曲線を描画した例題プログラムのように、いま**2種類**のアフィン写像を用い、その係数を適宜修正してオリジナルの**フラクタル図形**を描画してみよう。ただし、2つの写像を選ぶ確率はそれぞれ**1/2ずつに固定**することにする。いくつか試して、気に入ったデザインのもののを提出せよ。なお、[scatterメソッド](https://matplotlib.org/stable/api/_as_gen/matplotlib.axes.Axes.scatter.html)の`c`オプションや`cmap`オプションをうまく指定して、点の色を変えても面白いだろう<a name=\"cite_ref-11\"></a>[<sup>[11]</sup>](#cite_note-11)。"
   ]
  },
  {
   "cell_type": "code",
   "execution_count": null,
   "id": "choice-container",
   "metadata": {},
   "outputs": [],
   "source": [
    "# 課題解答10.2  <-- 提出する際に、この行を必ず含めること。\n",
    "\n",
    "\n",
    "%matplotlib inline\n",
    "import matplotlib.pyplot as plt\n",
    "import random\n",
    "\n",
    "# 使いたければmathモジュールやnumpyモジュールの関数を適宜インポートせよ。"
   ]
  },
  {
   "cell_type": "markdown",
   "id": "55a743bf",
   "metadata": {},
   "source": [
    "## 発展課題"
   ]
  },
  {
   "cell_type": "markdown",
   "id": "0f2feee2",
   "metadata": {},
   "source": [
    "<!-- textlint-disable jtf-style/1.1.1.本文 -->\n",
    "\n",
    "余裕があればやってみてください。\n",
    "\n",
    "<!-- textlint-enable -->"
   ]
  },
  {
   "cell_type": "markdown",
   "id": "e4b87239",
   "metadata": {},
   "source": [
    "(3) 今回カオスゲームによって描いたシェルピンスキーのギャスケットを、ほかの方法で描いてみよう。"
   ]
  },
  {
   "cell_type": "markdown",
   "id": "ffccc674",
   "metadata": {},
   "source": [
    "<!-- textlint-disable ja-technical-writing/ja-no-mixed-period -->\n",
    "\n",
    "いま、$n \\times n = n^2$個の要素を持った2次元リスト`a`を、\n",
    "\n",
    "<!-- textlint-enable -->"
   ]
  },
  {
   "cell_type": "code",
   "execution_count": null,
   "id": "f24bc21d",
   "metadata": {},
   "outputs": [],
   "source": [
    "n = 500\n",
    "\n",
    "a = []\n",
    "for _ in range(n):\n",
    "    a.append([0] * n)"
   ]
  },
  {
   "cell_type": "markdown",
   "id": "25e6eee9",
   "metadata": {},
   "source": [
    "<!-- textlint-disable ja-technical-writing/ja-no-mixed-period -->\n",
    "\n",
    "あるいは、\n",
    "\n",
    "<!-- textlint-enable -->"
   ]
  },
  {
   "cell_type": "code",
   "execution_count": null,
   "id": "d857bf5c",
   "metadata": {},
   "outputs": [],
   "source": [
    "n = 500\n",
    "\n",
    "a = [[0] * n for _ in range(n)]"
   ]
  },
  {
   "cell_type": "markdown",
   "id": "bd2c8a31",
   "metadata": {},
   "source": [
    "のようにして作る（どちらでもよい）<a name=\"cite_ref-12\"></a>[<sup>[12]</sup>](#cite_note-12)。すると、`a`の要素へのアクセスは`a[i][j]`のように書ける。ただし、$i$と$j$の範囲は$0 \\le i \\le n - 1$、$0 \\le j \\le n - 1$である。`a`の要素はすべて`0`で初期化されている。"
   ]
  },
  {
   "cell_type": "markdown",
   "id": "bbb9c357",
   "metadata": {},
   "source": [
    "まず、`a`の各要素を次式に従って設定せよ<a name=\"cite_ref-13\"></a>[<sup>[13]</sup>](#cite_note-13)。"
   ]
  },
  {
   "cell_type": "markdown",
   "id": "30bf87fe",
   "metadata": {},
   "source": [
    "$$\n",
    "a_{i,j} =\n",
    "\\begin{cases}\n",
    "1, & \\text{for } 0 \\le i \\le n - 1 \\text{ and } j = 0, \\\\\n",
    "1, & \\text{for } i = 0 \\text{ and } 0 \\le j \\le n - 1, \\\\\n",
    "a_{i-1,j} + a_{i,j-1}, & \\text{otherwise}. \n",
    "\\end{cases}\n",
    "\\tag{24}\n",
    "$$"
   ]
  },
  {
   "cell_type": "markdown",
   "id": "bb4981f8",
   "metadata": {},
   "source": [
    "<!-- textlint-disable ja-technical-writing/ja-no-mixed-period -->\n",
    "\n",
    "それができたら、$0 \\le i + j \\le n - 1$を満たす`a`のすべての要素`a[i][j]`に対し、もし**その値が奇数なら**ば、\n",
    "\n",
    "<!-- textlint-enable -->"
   ]
  },
  {
   "cell_type": "markdown",
   "id": "49e50cd2",
   "metadata": {},
   "source": [
    "$$\n",
    "x_{i,j} = i - j, \\qquad\n",
    "y_{i,j} = - i - j, \\qquad\n",
    "\\tag{25}\n",
    "$$"
   ]
  },
  {
   "cell_type": "markdown",
   "id": "ff6df4bf",
   "metadata": {},
   "source": [
    "で表される座標$(x_{i,j},y_{i,j})$に点を打つことで散布図を作れ。$n$の値は$500$程度としてみよう。"
   ]
  },
  {
   "cell_type": "code",
   "execution_count": null,
   "id": "834fdfb8",
   "metadata": {},
   "outputs": [],
   "source": [
    "# 課題解答10.3  <-- 提出する際に、この行を必ず含めること。\n",
    "\n",
    "\n",
    "%matplotlib inline\n",
    "import matplotlib.pyplot as plt\n",
    "\n",
    "# 2次元リストを作成、各要素を設定し、それに基づいて散布図を描いてください。"
   ]
  },
  {
   "cell_type": "markdown",
   "id": "fatal-origin",
   "metadata": {},
   "source": [
    "## 参考：アフィン変換"
   ]
  },
  {
   "cell_type": "markdown",
   "id": "private-morrison",
   "metadata": {},
   "source": [
    "<!-- textlint-disable ja-technical-writing/ja-no-mixed-period -->\n",
    "\n",
    "式<!-- eqref -->(23)は、拡大係数行列（augmented matrix）を用いて表した\n",
    "\n",
    "<!-- textlint-enable -->"
   ]
  },
  {
   "cell_type": "markdown",
   "id": "peaceful-checklist",
   "metadata": {},
   "source": [
    "<!-- textlint-disable ja-technical-writing/sentence-length -->\n",
    "\n",
    "$$\n",
    "\\begin{pmatrix}\n",
    "x_{n+1} \\\\\n",
    "y_{n+1} \\\\\n",
    "1\n",
    "\\end{pmatrix}\n",
    "=\n",
    "\\begin{pmatrix}\n",
    "a_{11} & a_{12} & b_1 \\\\\n",
    "a_{21} & a_{22} & b_2 \\\\\n",
    "0 & 0 & 1\n",
    "\\end{pmatrix}\n",
    "\\begin{pmatrix}\n",
    "x_n \\\\\n",
    "y_n \\\\\n",
    "1\n",
    "\\end{pmatrix} ,\n",
    "\\tag{26}\n",
    "$$\n",
    "\n",
    "<!-- textlint-enable -->"
   ]
  },
  {
   "cell_type": "markdown",
   "id": "bottom-manual",
   "metadata": {},
   "source": [
    "と等価である。このような行列は（正則であれば）群を成し、座標変換を表すのに都合がよい。任意の2次元アフィン変換は回転、拡大縮小、平行移動を表す行列の積として表される<a name=\"cite_ref-14\"></a>[<sup>[14]</sup>](#cite_note-14)<a name=\"cite_ref-15\"></a>[<sup>[15]</sup>](#cite_note-15)。"
   ]
  },
  {
   "cell_type": "markdown",
   "id": "indian-sheriff",
   "metadata": {},
   "source": [
    "<!-- textlint-disable ja-technical-writing/sentence-length -->\n",
    "\n",
    "$$\n",
    "\\begin{align}\n",
    "\\text{Rotation}(\\theta) &=\n",
    "\\begin{pmatrix}\n",
    "\\cos(\\theta) & - \\sin(\\theta) & 0 \\\\\n",
    "\\sin(\\theta) & \\phantom{-} \\cos(\\theta) & 0 \\\\\n",
    "0 & 0 & 1\n",
    "\\end{pmatrix} ,\n",
    "\\tag{27} \\\\\n",
    "\\text{Scaling}(s_x, s_y) &=\n",
    "\\begin{pmatrix}\n",
    "s_x & 0 & 0 \\\\\n",
    "0 & s_y & 0 \\\\\n",
    "0 & 0 & 1\n",
    "\\end{pmatrix} ,\n",
    "\\tag{28} \\\\\n",
    "\\text{Translation}(t_x, t_y) &=\n",
    "\\begin{pmatrix}\n",
    "1 & 0 & t_x \\\\\n",
    "0 & 1 & t_y \\\\\n",
    "0 & 0 & 1\n",
    "\\end{pmatrix} .\n",
    "\\tag{29}\n",
    "\\end{align}\n",
    "$$\n",
    "\n",
    "<!-- textlint-enable -->"
   ]
  },
  {
   "cell_type": "markdown",
   "id": "ruled-agenda",
   "metadata": {},
   "source": [
    "3次元空間への拡張も容易である。複数のアフィン変換の合成も行列の積によって1つにまとめることができるなど便利であり、コンピューターグラフィックスの分野などで多用される。"
   ]
  },
  {
   "cell_type": "markdown",
   "id": "analyzed-portsmouth",
   "metadata": {},
   "source": [
    "<!-- textlint-disable jtf-style/4.3.1.丸かっこ（） -->\n",
    "\n",
    "行列の積によるアフィン変換の合成の例として、式<!-- eqref -->(6)と<!-- eqref -->(7)の写像はそれぞれ、次のような行列の積で表される。\n",
    "\n",
    "<!-- textlint-enable -->"
   ]
  },
  {
   "cell_type": "markdown",
   "id": "reduced-newsletter",
   "metadata": {},
   "source": [
    "<!-- textlint-disable ja-technical-writing/sentence-length -->\n",
    "\n",
    "$$\n",
    "\\begin{pmatrix}\n",
    "\\displaystyle \\cos\\left(\\frac{\\pi}{6}\\right) \\vphantom{\\frac{1}{\\sqrt{3}}} &\n",
    "\\displaystyle -\\sin\\left(\\frac{\\pi}{6}\\right) &\n",
    "0 \\\\\n",
    "\\displaystyle \\sin\\left(\\frac{\\pi}{6}\\right) \\vphantom{\\frac{1}{\\sqrt{3}}} &\n",
    "\\displaystyle \\phantom{-} \\cos\\left(\\frac{\\pi}{6}\\right) & \n",
    "0 \\\\\n",
    "0 & 0 & 1\n",
    "\\end{pmatrix}\n",
    "\\begin{pmatrix}\n",
    "\\displaystyle \\frac{1}{\\sqrt{3}} & 0 & 0 \\\\\n",
    "0 & \\displaystyle - \\frac{1}{\\sqrt{3}} & 0 \\\\\n",
    "0 & 0 & 1\n",
    "\\end{pmatrix}\n",
    "=\n",
    "\\begin{pmatrix}\n",
    "\\displaystyle \\frac{1}{2} &\n",
    "\\displaystyle \\frac{\\sqrt{3}}{6} & 0 \\\\\n",
    "\\displaystyle \\frac{\\sqrt{3}}{6} &\n",
    "\\displaystyle - \\frac{1}{2} & 0 \\\\\n",
    "0 & 0 & 1\n",
    "\\end{pmatrix} ,\n",
    "\\tag{30}\n",
    "$$\n",
    "\n",
    "<!-- textlint-enable -->"
   ]
  },
  {
   "cell_type": "markdown",
   "id": "lucky-solution",
   "metadata": {},
   "source": [
    "<!-- textlint-disable ja-technical-writing/sentence-length -->\n",
    "\n",
    "$$\n",
    "\\begin{pmatrix}\n",
    "1 &\n",
    "0 &\n",
    "\\displaystyle \\frac{1}{2} \\vphantom{\\frac{1}{\\sqrt{3}}} \\\\\n",
    "0 &\n",
    "1 & \n",
    "\\displaystyle \\frac{\\sqrt{3}}{6} \\\\\n",
    "0 & 0 & 1\n",
    "\\end{pmatrix}\n",
    "\\begin{pmatrix}\n",
    "\\displaystyle \\cos\\left(-\\frac{\\pi}{6}\\right) \\vphantom{\\frac{1}{\\sqrt{3}}} &\n",
    "\\displaystyle -\\sin\\left(-\\frac{\\pi}{6}\\right) &\n",
    "0 \\\\\n",
    "\\displaystyle \\sin\\left(-\\frac{\\pi}{6}\\right) \\vphantom{\\frac{1}{\\sqrt{3}}} &\n",
    "\\displaystyle \\phantom{-} \\cos\\left(-\\frac{\\pi}{6}\\right) & \n",
    "0 \\\\\n",
    "0 & 0 & 1\n",
    "\\end{pmatrix}\n",
    "\\begin{pmatrix}\n",
    "\\displaystyle \\frac{1}{\\sqrt{3}} & 0 & 0 \\\\\n",
    "0 & \\displaystyle - \\frac{1}{\\sqrt{3}} & 0 \\\\\n",
    "0 & 0 & 1\n",
    "\\end{pmatrix}\n",
    "=\n",
    "\\begin{pmatrix}\n",
    "\\displaystyle \\frac{1}{2} &\n",
    "\\displaystyle - \\frac{\\sqrt{3}}{6} &\n",
    "\\displaystyle \\frac{1}{2} \\\\\n",
    "\\displaystyle - \\frac{\\sqrt{3}}{6} &\n",
    "\\displaystyle - \\frac{1}{2} &\n",
    "\\displaystyle \\frac{\\sqrt{3}}{6} \\\\\n",
    "0 & 0 & 1\n",
    "\\end{pmatrix} .\n",
    "\\tag{31}\n",
    "$$\n",
    "\n",
    "<!-- textlint-enable -->"
   ]
  },
  {
   "cell_type": "markdown",
   "id": "union-weight",
   "metadata": {},
   "source": [
    "<!-- textlint-disable ja-engineering-paper/use-si-units -->\n",
    "\n",
    "これらは、図2の$\\triangle P_1 P_2 B$を、それぞれ$\\triangle P_1 B A$と$\\triangle B P_2 C$に移す写像となっている<a name=\"cite_ref-16\"></a>[<sup>[16]</sup>](#cite_note-16)。\n",
    "\n",
    "<!-- textlint-enable -->"
   ]
  },
  {
   "cell_type": "markdown",
   "id": "hispanic-mason",
   "metadata": {},
   "source": [
    "## 脚注"
   ]
  },
  {
   "cell_type": "markdown",
   "id": "bfc01ca6",
   "metadata": {},
   "source": [
    "<a name=\"cite_note-1\"></a>1.&nbsp;[^](#cite_ref-1)\n",
    "自己相似性を表すものとしてフラクタルという概念を導入し数学的に厳密な定義を与えたのはブヌワ・マンデルブロットである。"
   ]
  },
  {
   "cell_type": "markdown",
   "id": "emerging-threat",
   "metadata": {},
   "source": [
    "<a name=\"cite_note-2\"></a>2.&nbsp;[^](#cite_ref-2)\n",
    "分割操作を無限に繰り返して得られるのがコッホ曲線である。しかし、計算機上では（無限回繰り返すと無限の時間がかかってしまうので）有限回の繰り返しで止めて、近似的な曲線を求めることになる。"
   ]
  },
  {
   "cell_type": "markdown",
   "id": "bigger-chinese",
   "metadata": {},
   "source": [
    "なお、（無限に分割操作を繰り返して得られる）コッホ曲線は、いたるところで微分不可能である（接線が引けない）。"
   ]
  },
  {
   "cell_type": "markdown",
   "id": "273876fb",
   "metadata": {},
   "source": [
    "<a name=\"cite_note-3\"></a>3.&nbsp;[^](#cite_ref-3)\n",
    "このプログラムでは、グローバル変数として`xpoints`と`ypoints`というリストを用意し、関数`koch`の中でこれらの`append`メソッドを呼ぶことで点を追加している。代わりに、`xpoints`と`ypoints`を関数`koch`の引数としておいてもよい（関数の引数は参照の値渡しで渡されるということさえ理解していれば）。これくらい短いプログラムであれば問題は起こりづらいが、基本的に**グローバル変数は悪**（[global variables are evil](https://www.google.com/search?q=global+variables+are+evil)）である。"
   ]
  },
  {
   "cell_type": "markdown",
   "id": "administrative-variance",
   "metadata": {},
   "source": [
    "<!-- textlint-disable ja-technical-writing/sentence-length,ja-technical-writing/max-ten -->\n",
    "\n",
    "<a name=\"cite_note-4\"></a>4.&nbsp;[^](#cite_ref-4)\n",
    "コッホ曲線の分割操作を1回行うと、線分の全長は$4/3$倍になる。これを無限回繰り返すことになるので、コッホ曲線の長さは無限大である。よって、コッホ曲線を3つつないだ図形であるコッホ雪片の周の長さも無限大となる。一方、面積については、$n$回目の操作によって面積が$(1/3)^{2n} \\sqrt{3} \\, / 4$ である$3 \\times 4^{n-1}$個の正三角形の分だけ増えるから、もとの三角形の面積$\\sqrt{3}/4$とこれらを（無限個）すべて足し合わせて、$2\\sqrt{3} \\, / 5$と求まる。\n",
    "\n",
    "<!-- textlint-enable -->"
   ]
  },
  {
   "cell_type": "markdown",
   "id": "adaptive-samba",
   "metadata": {},
   "source": [
    "<!-- textlint-disable ja-technical-writing/no-doubled-conjunction -->\n",
    "\n",
    "このような、2次元において有限の図形中に定義された無限の長さを持つ曲線の中でも、極端な例として[ペアノ曲線](https://ja.wikipedia.org/wiki/%E3%83%9A%E3%82%A2%E3%83%8E%E6%9B%B2%E7%B7%9A)が知られている。ペアノ曲線は正方形を埋め尽くす曲線である。通常、始点と終点を持った曲線上の位置は、1つの自由度によって指定できる。正方形の中の位置は2つの自由度（たとえば$x$と$y$）によって指定できる。このような自由度のことをナイーブには「次元」と呼ぶが、ペアノ曲線の発見により平面と曲線の自由度は同じだと言えてしまい、さらに正確な「次元」の定義が必要となった。たとえばペアノ曲線のハウスドルフ次元は$2$、コッホ曲線のハウスドルフ次元は$\\log_3(4) \\approx 1.26186$となる。もっと知りたければ、たとえば次を参照せよ。\n",
    "\n",
    "<!-- textlint-enable -->"
   ]
  },
  {
   "cell_type": "markdown",
   "id": "champion-unemployment",
   "metadata": {},
   "source": [
    "<!-- textlint-disable ja-technical-writing/max-comma,ja-engineering-paper/unify-kuten-and-touten,ja-spacing/ja-space-between-half-and-full-width,jtf-style/1.2.1.句点(。)と読点(、),jtf-style/3.1.1.全角文字と半角文字の間 -->\n",
    "\n",
    "- 高安秀樹, フラクタルの物理, 物性研究 44(6), 885-981, 1985, http://hdl.handle.net/2433/91795.\n",
    "\n",
    "<!-- textlint-enable -->"
   ]
  },
  {
   "cell_type": "markdown",
   "id": "998c70c7",
   "metadata": {},
   "source": [
    "<a name=\"cite_note-5\"></a>5.&nbsp;[^](#cite_ref-5)\n",
    "十分にたくさんの点を打つと、描かれる図は（始めの数個を除いては）初期位置に依存しない。しかし筆者は描かれる図をすでに知っているので、ここではその図の主要な部分の1点からカオスゲームを始めている。"
   ]
  },
  {
   "cell_type": "markdown",
   "id": "ceramic-transport",
   "metadata": {},
   "source": [
    "<!-- textlint-disable jtf-style/4.3.1.丸かっこ（） -->\n",
    "\n",
    "<a name=\"cite_note-6\"></a>6.&nbsp;[^](#cite_ref-6)\n",
    "式<!-- eqref -->(6)、<!-- eqref -->(7)のような複数の写像（通常は縮小写像）の和集合によって定義される系を反復関数系（iterated function system）と呼ぶ。カオスゲームでは、各ステップにおいて、反復関数系に含まれる写像の中から確率的に1つを選択することにより系を発展させている。\n",
    "\n",
    "<!-- textlint-enable -->"
   ]
  },
  {
   "cell_type": "markdown",
   "id": "painful-macintosh",
   "metadata": {},
   "source": [
    "<!-- textlint-disable ja-engineering-paper/prh,ja-technical-writing/ja-no-weak-phrase -->\n",
    "\n",
    "<a name=\"cite_note-7\"></a>7.&nbsp;[^](#cite_ref-7)\n",
    "次回もまたこの図形にお目にかかるかもしれない。\n",
    "\n",
    "<!-- textlint-enable -->"
   ]
  },
  {
   "cell_type": "markdown",
   "id": "75f071a9",
   "metadata": {},
   "source": [
    "<a name=\"cite_note-8\"></a>8.&nbsp;[^](#cite_ref-8)\n",
    "出来上がった図形を見ても想像がつくとおり、シェルピンスキーのギャスケットも再帰的な手続きによって定義でき、無限回の分割操作によって得られる面積の極限は$0$となる。"
   ]
  },
  {
   "cell_type": "markdown",
   "id": "ranging-doctrine",
   "metadata": {},
   "source": [
    "<a name=\"cite_note-9\"></a>9.&nbsp;[^](#cite_ref-9)\n",
    "カオスゲーム（および反復関数系）に対して、ほかの非線形写像を用いる例は、たとえば[これ](https://en.wikipedia.org/wiki/Fractal_flame)。"
   ]
  },
  {
   "cell_type": "markdown",
   "id": "b81167d1",
   "metadata": {},
   "source": [
    "<a name=\"cite_note-10\"></a>10.&nbsp;[^](#cite_ref-10)\n",
    "Jerzy Kocik, *Apollonian Window*, http://lagrange.math.siu.edu/Kocik/apollo/achaos/chaos-explain.htm."
   ]
  },
  {
   "cell_type": "markdown",
   "id": "8e8f0093",
   "metadata": {},
   "source": [
    "<a name=\"cite_note-11\"></a>11.&nbsp;[^](#cite_ref-11)\n",
    "たとえば、各点の$x$座標と$y$座標から適当な実数値を生成する関数を定義しておく。\n",
    "```python\n",
    "def make_color(x, y):\n",
    "    return x ** 2 + y ** 2\n",
    "```\n",
    "これにより、各点の色に対応する色を決定する。\n",
    "```python\n",
    "    xpoints.append(x)\n",
    "    ypoints.append(y)\n",
    "    colors.append(make_color(x, y))\n",
    "```\n",
    "あとは、[`scatter`メソッド](https://matplotlib.org/stable/api/_as_gen/matplotlib.axes.Axes.scatter.html)を呼び出す際に、`c`とともに`cmap`を指定すればよい。\n",
    "```python\n",
    "ax.scatter(xpoints, ypoints, s=0.01, c=colors, cmap=\"viridis\")\n",
    "```\n",
    "あらかじめ用意されているカラーマップ（`cmap`）の種類については[こちら](https://matplotlib.org/stable/tutorials/colors/colormaps.html)を参照せよ。"
   ]
  },
  {
   "cell_type": "markdown",
   "id": "05da354e",
   "metadata": {},
   "source": [
    "<a name=\"cite_note-12\"></a>12.&nbsp;[^](#cite_ref-12)\n",
    "次のように`a`を作ると、ここで意図しているものにはならないので注意。\n",
    "```python\n",
    "a = [[0] * n] * n  # 内側にある、同一リストへの参照をn個持ったリスト\n",
    "```"
   ]
  },
  {
   "cell_type": "markdown",
   "id": "f5f1cb46",
   "metadata": {},
   "source": [
    "<a name=\"cite_note-13\"></a>13.&nbsp;[^](#cite_ref-13)\n",
    "この$a_{i,j}$の定義は[パスカルの三角形](https://ja.wikipedia.org/wiki/%E3%83%91%E3%82%B9%E3%82%AB%E3%83%AB%E3%81%AE%E4%B8%89%E8%A7%92%E5%BD%A2)と同等のものである。"
   ]
  },
  {
   "cell_type": "markdown",
   "id": "respected-southwest",
   "metadata": {},
   "source": [
    "<!-- textlint-disable ja-technical-writing/sentence-length -->\n",
    "\n",
    "<a name=\"cite_note-14\"></a>14.&nbsp;[^](#cite_ref-14)\n",
    "剪断（せんだん）と呼ばれる写像もあるが、これは特異値分解（singular value decomposition；SVD）という行列分解によって、いくつかの拡大縮小と回転の積へと分解できる。\n",
    "\n",
    "<!-- textlint-enable -->"
   ]
  },
  {
   "cell_type": "markdown",
   "id": "traditional-treat",
   "metadata": {},
   "source": [
    "<!-- textlint-disable ja-technical-writing/sentence-length,ja-technical-writing/max-ten,jtf-style/4.3.1.丸かっこ（） -->\n",
    "\n",
    "<a name=\"cite_note-15\"></a>15.&nbsp;[^](#cite_ref-15)\n",
    "これを見ていると、行列式$\\displaystyle \\begin{vmatrix} a_{11} & a_{12} \\\\ a_{21} & a_{22} \\end{vmatrix}$の絶対値が$1$より大きいような写像を演習課題(2)に使うとそれは拡大変換を含んでいるので、原点からの距離がどんどん大きくなってしまってまずそうだ（固定点がなく収束しない）、ということが分かるだろう。\n",
    "\n",
    "<!-- textlint-enable -->"
   ]
  },
  {
   "cell_type": "markdown",
   "id": "6fcca9c6",
   "metadata": {},
   "source": [
    "<!-- textlint-disable\n",
    "ja-technical-writing/ja-no-mixed-period\n",
    "-->\n",
    "\n",
    "<a name=\"cite_note-16\"></a>16.&nbsp;[^](#cite_ref-16)\n",
    "すぐわかるように、シェルピンスキーのギャスケットの式<!-- eqref -->(8)、<!-- eqref -->(9)、<!-- eqref -->(10)も、それぞれ\n",
    "\n",
    "<!-- textlint-enable -->"
   ]
  },
  {
   "cell_type": "markdown",
   "id": "caf53a2d",
   "metadata": {},
   "source": [
    "$$\n",
    "\\begin{pmatrix}\n",
    "\\displaystyle \\frac{1}{2} & 0 & 0 \\\\\n",
    "0 & \\displaystyle \\frac{1}{2} & 0 \\\\\n",
    "0 & 0 & 1\n",
    "\\end{pmatrix},\n",
    "\\qquad\n",
    "\\begin{pmatrix}\n",
    "1 & 0 & 1 \\\\\n",
    "0 & 1 & 0 \\\\\n",
    "0 & 0 & 1\n",
    "\\end{pmatrix}\n",
    "\\begin{pmatrix}\n",
    "\\displaystyle \\frac{1}{2} & 0 & 0 \\\\\n",
    "0 & \\displaystyle \\frac{1}{2} & 0 \\\\\n",
    "0 & 0 & 1\n",
    "\\end{pmatrix},\n",
    "\\qquad\n",
    "\\begin{pmatrix}\n",
    "1 & 0 & \\displaystyle \\frac{1}{2} \\\\\n",
    "0 & 1 & \\displaystyle \\frac{1}{2} \\\\\n",
    "0 & 0 & 1\n",
    "\\end{pmatrix}\n",
    "\\begin{pmatrix}\n",
    "\\displaystyle \\frac{1}{2} & 0 & 0 \\\\\n",
    "0 & \\displaystyle \\frac{1}{2} & 0 \\\\\n",
    "0 & 0 & 1\n",
    "\\end{pmatrix},\n",
    "$$"
   ]
  },
  {
   "cell_type": "markdown",
   "id": "c5cefaf7",
   "metadata": {},
   "source": [
    "<!-- textlint-disable\n",
    "ja-technical-writing/sentence-length\n",
    "-->\n",
    "\n",
    "という行列で表現できる。これらは、座標$(0,0)-(2,0)-(1,1)$からなる三角形を、それぞれ$(0,0)-(1,0)-(1/2,1/2)$、$(1,0)-(2,0)-(3/2,1/2)$、$(1/2,1/2)-(3/2,1/2)-(1,1)$の、相似ではあるが縮小された三角形へと移す写像となっている。このような複数の縮小写像を使ってカオスゲームを行うと、どのように初期値を選んでも、フラクタル構造を持ったアトラクターへと収束する。\n",
    "\n",
    "<!-- textlint-enable -->"
   ]
  }
 ],
 "metadata": {
  "kernelspec": {
   "display_name": "Python 3 (ipykernel)",
   "language": "python",
   "name": "python3"
  },
  "language_info": {
   "codemirror_mode": {
    "name": "ipython",
    "version": 3
   },
   "file_extension": ".py",
   "mimetype": "text/x-python",
   "name": "python",
   "nbconvert_exporter": "python",
   "pygments_lexer": "ipython3",
   "version": "3.7.13"
  }
 },
 "nbformat": 4,
 "nbformat_minor": 5
}
