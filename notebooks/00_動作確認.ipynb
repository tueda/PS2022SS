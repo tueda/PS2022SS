{
 "cells": [
  {
   "cell_type": "markdown",
   "id": "pressed-attribute",
   "metadata": {},
   "source": [
    "# 動作確認"
   ]
  },
  {
   "cell_type": "markdown",
   "id": "magnetic-waters",
   "metadata": {},
   "source": [
    "次のセルを実行してみよう[<sup id=\"cite_ref-1\">[1]</sup>](#cite_note-1)。また、`a`や`b`の値を書き換えて再実行してみよう。"
   ]
  },
  {
   "cell_type": "code",
   "execution_count": null,
   "id": "bound-species",
   "metadata": {},
   "outputs": [],
   "source": [
    "%matplotlib inline\n",
    "import matplotlib.pyplot as plt\n",
    "import numpy as np\n",
    "\n",
    "a = -0.8\n",
    "b = 0.156\n",
    "\n",
    "max_iteration = 200\n",
    "threshold = 2\n",
    "cmap = \"hot\"\n",
    "x, y = np.mgrid[-1:1:500j, -1:1:500j]\n",
    "z = x + y * 1j\n",
    "c = a + b * 1j\n",
    "t = np.zeros(z.shape, int)\n",
    "mask = np.full(z.shape, True, bool)\n",
    "for i in range(max_iteration):\n",
    "    z[mask] = z[mask] ** 2 + c\n",
    "    mask[np.abs(z) > threshold] = False\n",
    "    t[mask] = i\n",
    "fig, ax = plt.subplots(figsize=(8, 8))\n",
    "ax.imshow(t.transpose(), origin=\"lower\", cmap=cmap)\n",
    "ax.axis(\"off\")\n",
    "plt.show()"
   ]
  },
  {
   "cell_type": "markdown",
   "id": "caroline-rebel",
   "metadata": {},
   "source": [
    "## 脚注"
   ]
  },
  {
   "cell_type": "markdown",
   "id": "taken-public",
   "metadata": {},
   "source": [
    "<span id=\"cite_note-1\">1.</span> [^](#cite_ref-1)\n",
    "これは[ジュリア集合](https://en.wikipedia.org/wiki/Julia_set)を描いたものである。"
   ]
  }
 ],
 "metadata": {
  "kernelspec": {
   "display_name": "Python 3",
   "language": "python",
   "name": "python3"
  },
  "language_info": {
   "codemirror_mode": {
    "name": "ipython",
    "version": 3
   },
   "file_extension": ".py",
   "mimetype": "text/x-python",
   "name": "python",
   "nbconvert_exporter": "python",
   "pygments_lexer": "ipython3",
   "version": "3.7.12"
  }
 },
 "nbformat": 4,
 "nbformat_minor": 5
}
