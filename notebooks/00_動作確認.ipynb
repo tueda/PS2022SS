{
 "cells": [
  {
   "cell_type": "markdown",
   "id": "pressed-attribute",
   "metadata": {},
   "source": [
    "# 動作確認"
   ]
  },
  {
   "cell_type": "markdown",
   "id": "magnetic-waters",
   "metadata": {},
   "source": [
    "次のセルを実行してみよう。何が表示されるだろうか<a name=\"cite_ref-1\"></a>[<sup>[1]</sup>](#cite_note-1)。"
   ]
  },
  {
   "cell_type": "code",
   "execution_count": null,
   "id": "bound-species",
   "metadata": {},
   "outputs": [],
   "source": [
    "%matplotlib inline\n",
    "import matplotlib.pyplot as plt\n",
    "from matplotlib.collections import LineCollection\n",
    "import numpy as np\n",
    "from numpy import cos, pi\n",
    "from numpy.polynomial import Polynomial\n",
    "from fractions import Fraction\n",
    "\n",
    "\n",
    "qmax = 30\n",
    "\n",
    "\n",
    "def tr_q(p, q):\n",
    "    mu, nu = 2 * pi * p / q, pi / 2 / q\n",
    "    a, b, c, d = Polynomial([-2 * cos(nu), 1]), -1, 1, 0\n",
    "    for m in range(1, q):\n",
    "        x = Polynomial([-2 * cos(mu * m - nu), 1])\n",
    "        a, b, c, d = a * x + b, -a, c * x + d, -c\n",
    "    return a + d\n",
    "\n",
    "\n",
    "def spectrum(p, q):\n",
    "    t = tr_q(p, q)\n",
    "    t1, t2 = t + 4, t - 4\n",
    "    return np.sort(np.concatenate([t1.roots(), t2.roots()]).real).reshape(-1, 2)\n",
    "\n",
    "\n",
    "def spectrum_lines(p, q):\n",
    "    alpha = p / q\n",
    "    spec = spectrum(p, q)\n",
    "    return [[[s[0], alpha], [s[1], alpha]] for s in spec] + [\n",
    "        [[s[0], 1 - alpha], [s[1], 1 - alpha]] for s in spec\n",
    "    ]\n",
    "\n",
    "\n",
    "def rationals(qmax):\n",
    "    a = [[Fraction(p, q) for p in range(1, q // 2 + 1)] for q in range(1, qmax + 1)]\n",
    "    return set(sum(a, [Fraction(1, 1)]))\n",
    "\n",
    "\n",
    "lines = []\n",
    "for r in rationals(qmax):\n",
    "    lines += spectrum_lines(r.numerator, r.denominator)\n",
    "fig, ax = plt.subplots(figsize=(8, 6))\n",
    "ax.add_collection(LineCollection(lines, linewidth=0.5))\n",
    "ax.scatter(*np.array(lines).flatten().reshape(-1, 2).T, s=0.02)\n",
    "ax.autoscale()\n",
    "plt.show()"
   ]
  },
  {
   "cell_type": "markdown",
   "id": "caroline-rebel",
   "metadata": {},
   "source": [
    "## 脚注"
   ]
  },
  {
   "cell_type": "markdown",
   "id": "taken-public",
   "metadata": {},
   "source": [
    "<a name=\"cite_note-1\"></a>1.&nbsp;[^](#cite_ref-1)\n",
    "これは磁場を印加したときの2次元結晶中の電子のエネルギー準位を図示したもので、[ホフスタッターの蝶](https://en.wikipedia.org/wiki/Hofstadter%27s_butterfly)と呼ばれる自己相似的な構造をしている。"
   ]
  },
  {
   "cell_type": "markdown",
   "id": "faaa3c45",
   "metadata": {},
   "source": [
    "<!-- textlint-disable ja-technical-writing/sentence-length -->\n",
    "\n",
    "- Douglas R. Hofstadter, *Energy levels and wave functions of Bloch electrons in rational and irrational magnetic fields*, [*Phys. Rev.* **B**14 (1976) 2239](https://doi.org/10.1103/PhysRevB.14.2239).\n",
    "\n",
    "<!-- textlint-enable -->"
   ]
  }
 ],
 "metadata": {
  "kernelspec": {
   "display_name": "Python 3 (ipykernel)",
   "language": "python",
   "name": "python3"
  },
  "language_info": {
   "codemirror_mode": {
    "name": "ipython",
    "version": 3
   },
   "file_extension": ".py",
   "mimetype": "text/x-python",
   "name": "python",
   "nbconvert_exporter": "python",
   "pygments_lexer": "ipython3",
   "version": "3.7.13"
  }
 },
 "nbformat": 4,
 "nbformat_minor": 5
}
