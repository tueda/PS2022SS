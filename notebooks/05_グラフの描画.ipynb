{
 "cells": [
  {
   "cell_type": "markdown",
   "id": "differential-pierce",
   "metadata": {},
   "source": [
    "## グラフの描画"
   ]
  },
  {
   "cell_type": "markdown",
   "id": "military-chambers",
   "metadata": {},
   "source": [
    "実験や観測、コンピューターシミュレーションで得られた（一般に複雑な）データに潜む規則性や関係性を、人間が目で見てすぐ分かる形にすること（可視化；visualization）は重要である。今回は[Matplotlib](https://matplotlib.org/)という可視化ライブラリを用いて、Pythonでグラフ等を作成する方法を学ぶ<a name=\"cite_ref-1\"></a>[<sup>[1]</sup>](#cite_note-1)。"
   ]
  },
  {
   "cell_type": "markdown",
   "id": "faced-crossing",
   "metadata": {},
   "source": [
    "## 今回のねらい"
   ]
  },
  {
   "cell_type": "markdown",
   "id": "caroline-neighborhood",
   "metadata": {},
   "source": [
    "- Matplotlibを使った基本的なグラフの描画ができるようになる。\n",
    "- オブジェクト指向ライブラリの使い方に慣れる。"
   ]
  },
  {
   "cell_type": "markdown",
   "id": "coral-harmony",
   "metadata": {},
   "source": [
    "## おまじない"
   ]
  },
  {
   "cell_type": "markdown",
   "id": "occupational-australian",
   "metadata": {},
   "source": [
    "Matplotlibの、Jupyter上での使い方をインターネットで検索すると、（入門者用に）まず次の「おまじない」じみたものをとりあえず書けと記してあることがある。"
   ]
  },
  {
   "cell_type": "code",
   "execution_count": null,
   "id": "illegal-april",
   "metadata": {},
   "outputs": [],
   "source": [
    "%matplotlib inline\n",
    "import matplotlib.pyplot as plt\n",
    "import numpy as np"
   ]
  },
  {
   "cell_type": "markdown",
   "id": "unique-cuisine",
   "metadata": {},
   "source": [
    "プログラミングに真の意味での「おまじない」など存在しないので、まずはこれらを説明していこう<a name=\"cite_ref-2\"></a>[<sup>[2]</sup>](#cite_note-2)。"
   ]
  },
  {
   "cell_type": "markdown",
   "id": "competent-hello",
   "metadata": {},
   "source": [
    "1行目の`%matplotlib inline`のように、`%`から始まるコマンドはJupyterによって解釈されるマジックコマンド（magic command）と呼ばれるものである<a name=\"cite_ref-3\"></a>[<sup>[3]</sup>](#cite_note-3)。この場合、Matplotlibのグラフィック出力をインライン画像として表示することを指定している。Jupyter環境ではない素のPythonを使う場合、マジックコマンドを書くと文法エラーとなるので注意が必要である。"
   ]
  },
  {
   "cell_type": "markdown",
   "id": "serious-speaking",
   "metadata": {},
   "source": [
    "<!-- textlint-disable ja-technical-writing/sentence-length -->\n",
    "\n",
    "2行目の`import matplotlib.pyplot as plt`は、Matplotlibの`pyplot`モジュールをインポートとし、それに`plt`と別名を付けて使えるようにしている。Matplotlibのような大きなライブラリは、いくつもの（サブ）モジュールをまとめたもの（パッケージと呼ぶ）として作られている。この行では、そのうちの`matplotlib.pyplot`をインポートしているのであるが、そのままだと`pyplot`モジュール内の関数を呼び出すときに`matplotlib.pyplot.show()`のように呼び出す必要がある。これでは少々長いので別名をつけて`plt.show()`として呼び出せるようにしている。\n",
    "\n",
    "<!-- textlint-enable -->"
   ]
  },
  {
   "cell_type": "markdown",
   "id": "scheduled-glenn",
   "metadata": {},
   "source": [
    "3行目の`import numpy as np`は[NumPy](https://numpy.org/)というモジュールをインポートして、それに`np`と別名を付けている<a name=\"cite_ref-4\"></a>[<sup>[4]</sup>](#cite_note-4)。NumPyは数値計算を効率的に行うためのライブラリ<a name=\"cite_ref-5\"></a>[<sup>[5]</sup>](#cite_note-5)であり、Matplotlibをインストールすると、NumPyも自動的にインストールされる<a name=\"cite_ref-6\"></a>[<sup>[6]</sup>](#cite_note-6)。この行は、NumPyの機能を直接使うのでなければ必要ない。"
   ]
  },
  {
   "cell_type": "markdown",
   "id": "advisory-plenty",
   "metadata": {},
   "source": [
    "上の「おまじない」は1回だけ実行すればよいのだが、セルを1つだけ実行したときにも動くように、以下では（できるだけ）各セル内にも書くこととする。"
   ]
  },
  {
   "cell_type": "markdown",
   "id": "muslim-syntax",
   "metadata": {},
   "source": [
    "## 基本的なグラフ"
   ]
  },
  {
   "cell_type": "markdown",
   "id": "helpful-anxiety",
   "metadata": {},
   "source": [
    "次の例では、簡単なグラフを表示している。"
   ]
  },
  {
   "cell_type": "code",
   "execution_count": null,
   "id": "incredible-breath",
   "metadata": {},
   "outputs": [],
   "source": [
    "# 上で説明した「おまじない」。\n",
    "%matplotlib inline\n",
    "import matplotlib.pyplot as plt\n",
    "\n",
    "# 点の座標を与えるリスト。\n",
    "xpoints = [0, 1, 2, 3, 4]\n",
    "ypoints = [0, 2, 7, 5, 6]\n",
    "\n",
    "# グラフを作成して表示する。\n",
    "fig, ax = plt.subplots()\n",
    "ax.plot(xpoints, ypoints)\n",
    "plt.show()"
   ]
  },
  {
   "cell_type": "markdown",
   "id": "promising-rally",
   "metadata": {},
   "source": [
    "ここでは`plt`（=`matplotlib.pyplot`モジュール）の[`subplots`関数](https://matplotlib.org/stable/api/_as_gen/matplotlib.pyplot.subplots.html)を呼び出している<a name=\"cite_ref-7\"></a>[<sup>[7]</sup>](#cite_note-7)。返ってくる値は[`Figure`オブジェクト](https://matplotlib.org/stable/api/figure_api.html#matplotlib.figure.Figure)と[`Axes`オブジェクト](https://matplotlib.org/stable/api/axes_api.html#the-axes-class)であり<a name=\"cite_ref-8\"></a>[<sup>[8]</sup>](#cite_note-8)、それぞれを`fig`と`ax`という変数に代入している。Microsoft Excelで作るグラフや[この図](https://matplotlib.org/stable/tutorials/introductory/usage.html#parts-of-a-figure)を見るとわかるように、グラフというものは多くの部品からできている。よって、それぞれの部品をオブジェクトと考えて、その組み合わせとしてグラフを作るのは筋のよい考え方である。Matplotlibも、オブジェクト指向プログラミングをもとにして利用できるようになっている<a name=\"cite_ref-9\"></a>[<sup>[9]</sup>](#cite_note-9)。`Figure`オブジェクトは1つの図全体を表し、`Axes`オブジェクトは図の中の1つの座標軸を表している。ここでは座標軸を1つだけ作っているが、1つの図の中に2つ以上の座標軸を作ることも可能である。"
   ]
  },
  {
   "cell_type": "markdown",
   "id": "capable-mediterranean",
   "metadata": {},
   "source": [
    "<!-- textlint-disable ja-technical-writing/sentence-length -->\n",
    "\n",
    "次に`ax`の[`plot`メソッド](https://matplotlib.org/stable/api/_as_gen/matplotlib.axes.Axes.plot.html)を呼び出して折れ線グラフを描いている。与えている引数は、グラフの点のx座標とy座標を表す2つのリストである。[`plot`メソッド](https://matplotlib.org/stable/api/_as_gen/matplotlib.axes.Axes.plot.html)にはたくさんのオプション引数がある。たとえば`ax.plot(xpoints, ypoints, color=\"red\", marker=\"o\", linestyle=\"dashed\", linewidth=0.5, markersize=15.0)`などとすると、線種やマーカーを変更できる（それぞれのオプションの意味は想像がつくだろう）<a name=\"cite_ref-10\"></a>[<sup>[10]</sup>](#cite_note-10)。\n",
    "\n",
    "<!-- textlint-enable -->"
   ]
  },
  {
   "cell_type": "markdown",
   "id": "disciplinary-kinase",
   "metadata": {},
   "source": [
    "最後に`plt`の[`show`関数](https://matplotlib.org/stable/api/_as_gen/matplotlib.pyplot.show.html)を呼び出して、作成したグラフを表示している<a name=\"cite_ref-11\"></a>[<sup>[11]</sup>](#cite_note-11)。この例では、変数`fig`に格納された[`Figure`オブジェクト](https://matplotlib.org/stable/api/figure_api.html#matplotlib.figure.Figure)を（直接には）使用していない。"
   ]
  },
  {
   "cell_type": "markdown",
   "id": "incredible-withdrawal",
   "metadata": {},
   "source": [
    "## 練習問題"
   ]
  },
  {
   "cell_type": "markdown",
   "id": "described-distributor",
   "metadata": {},
   "source": [
    "(1) 上の例で、点の座標を追加や変更して、グラフがどのように変わるか確認せよ。"
   ]
  },
  {
   "cell_type": "markdown",
   "id": "willing-private",
   "metadata": {},
   "source": [
    "## グラフに凝ってみる"
   ]
  },
  {
   "cell_type": "markdown",
   "id": "strange-liberty",
   "metadata": {},
   "source": [
    "<!-- textlint-disable ja-technical-writing/ja-no-mixed-period -->\n",
    "\n",
    "[`Axes`オブジェクト](https://matplotlib.org/stable/api/axes_api.html#the-axes-class)の[`plot`メソッド](https://matplotlib.org/stable/api/_as_gen/matplotlib.axes.Axes.plot.html)は、第3引数として線種とマーカーの形式を与えることができる。たとえば折れ線を引かずにマーカーのみのグラフを描きたければ、\n",
    "\n",
    "<!-- textlint-enable -->"
   ]
  },
  {
   "cell_type": "code",
   "execution_count": null,
   "id": "signal-suggestion",
   "metadata": {},
   "outputs": [],
   "source": [
    "%matplotlib inline\n",
    "import matplotlib.pyplot as plt\n",
    "\n",
    "xpoints = [0, 1, 2, 3, 4]\n",
    "ypoints = [0, 2, 7, 5, 6]\n",
    "\n",
    "fig, ax = plt.subplots()\n",
    "ax.plot(xpoints, ypoints, \"o\")  # マーカーのみ(o)\n",
    "plt.show()"
   ]
  },
  {
   "cell_type": "markdown",
   "id": "ancient-laugh",
   "metadata": {},
   "source": [
    "あるいは次の例のように[`Axes`オブジェクト](https://matplotlib.org/stable/api/axes_api.html#the-axes-class)の[`scatter`メソッド](https://matplotlib.org/stable/api/_as_gen/matplotlib.axes.Axes.scatter.html)を使って散布図として描いてもよい<a name=\"cite_ref-12\"></a>[<sup>[12]</sup>](#cite_note-12)。"
   ]
  },
  {
   "cell_type": "code",
   "execution_count": null,
   "id": "korean-termination",
   "metadata": {},
   "outputs": [],
   "source": [
    "%matplotlib inline\n",
    "import matplotlib.pyplot as plt\n",
    "\n",
    "xpoints = [0, 1, 2, 3, 4]\n",
    "ypoints = [0, 2, 7, 5, 6]\n",
    "\n",
    "fig, ax = plt.subplots()\n",
    "ax.scatter(xpoints, ypoints)  # 散布図\n",
    "plt.show()"
   ]
  },
  {
   "cell_type": "markdown",
   "id": "foster-seafood",
   "metadata": {},
   "source": [
    "複数の折れ線グラフを重ねたいときは、[`Axes`オブジェクト](https://matplotlib.org/stable/api/axes_api.html#the-axes-class)の[`plot`メソッド](https://matplotlib.org/stable/api/_as_gen/matplotlib.axes.Axes.plot.html)を必要なだけ呼べばよい。"
   ]
  },
  {
   "cell_type": "code",
   "execution_count": null,
   "id": "funded-region",
   "metadata": {},
   "outputs": [],
   "source": [
    "%matplotlib inline\n",
    "import matplotlib.pyplot as plt\n",
    "\n",
    "xpoints1 = [1, 2, 3, 5, 8]\n",
    "ypoints1 = [1, 2, 7, 5, 6]\n",
    "\n",
    "xpoints2 = [1, 4, 5, 7, 8]\n",
    "ypoints2 = [1, 3, 6, 4, 6]\n",
    "\n",
    "fig, ax = plt.subplots()\n",
    "ax.plot(xpoints1, ypoints1)  # 1つめの折れ線グラフ\n",
    "ax.plot(xpoints2, ypoints2)  # 2つめの折れ線グラフ\n",
    "plt.show()"
   ]
  },
  {
   "cell_type": "markdown",
   "id": "statistical-completion",
   "metadata": {},
   "source": [
    "1つのセルの中で、複数の図を作成してもよい。"
   ]
  },
  {
   "cell_type": "code",
   "execution_count": null,
   "id": "unexpected-inclusion",
   "metadata": {},
   "outputs": [],
   "source": [
    "%matplotlib inline\n",
    "import matplotlib.pyplot as plt\n",
    "\n",
    "xpoints1 = [1, 2, 3, 5, 8]\n",
    "ypoints1 = [1, 2, 7, 5, 6]\n",
    "\n",
    "xpoints2 = [1, 4, 5, 7, 8]\n",
    "ypoints2 = [1, 3, 6, 4, 6]\n",
    "\n",
    "fig, ax = plt.subplots()  # 1つめの図\n",
    "ax.plot(xpoints1, ypoints1)\n",
    "plt.show()\n",
    "\n",
    "fig, ax = plt.subplots()  # 2つめの図\n",
    "ax.plot(xpoints2, ypoints2)\n",
    "plt.show()"
   ]
  },
  {
   "cell_type": "markdown",
   "id": "conventional-pursuit",
   "metadata": {},
   "source": [
    "[`Axes`オブジェクト](https://matplotlib.org/stable/api/axes_api.html#the-axes-class)のメソッドを呼ぶことで、追加の情報を表示したり、グラフの細かな設定をいろいろと変えることができる。たとえば、凡例をつけたいときは、[`Axes`オブジェクト](https://matplotlib.org/stable/api/axes_api.html#the-axes-class)の[`legend`メソッド](https://matplotlib.org/stable/api/_as_gen/matplotlib.axes.Axes.legend.html#matplotlib.axes.Axes.legend)を使う。ただし、[`Axes`オブジェクト](https://matplotlib.org/stable/api/axes_api.html#the-axes-class)オブジェクトの[`plot`メソッド](https://matplotlib.org/stable/api/_as_gen/matplotlib.axes.Axes.plot.html#matplotlib.axes.Axes.plot)を呼ぶときにオプション引数`label`を指定しておく必要がある。"
   ]
  },
  {
   "cell_type": "code",
   "execution_count": null,
   "id": "documented-median",
   "metadata": {},
   "outputs": [],
   "source": [
    "%matplotlib inline\n",
    "import matplotlib.pyplot as plt\n",
    "\n",
    "xpoints1 = [1, 2, 3, 5, 8]\n",
    "ypoints1 = [1, 2, 7, 5, 6]\n",
    "\n",
    "xpoints2 = [1, 4, 5, 7, 8]\n",
    "ypoints2 = [1, 3, 6, 4, 6]\n",
    "\n",
    "fig, ax = plt.subplots()\n",
    "ax.plot(xpoints1, ypoints1, label=\"graph 1\")\n",
    "ax.plot(xpoints2, ypoints2, label=\"graph 2\")\n",
    "ax.legend()  # 凡例を表示\n",
    "ax.grid()  # ついでにグリッドを表示\n",
    "plt.show()"
   ]
  },
  {
   "cell_type": "markdown",
   "id": "variable-termination",
   "metadata": {},
   "source": [
    "次の例では、さらに細かい設定を与えている。"
   ]
  },
  {
   "cell_type": "code",
   "execution_count": null,
   "id": "opposed-estimate",
   "metadata": {},
   "outputs": [],
   "source": [
    "%matplotlib inline\n",
    "import matplotlib.pyplot as plt\n",
    "\n",
    "xpoints1 = [1, 2, 3, 5, 8]\n",
    "ypoints1 = [1, 2, 7, 5, 6]\n",
    "\n",
    "xpoints2 = [1, 4, 5, 7, 8]\n",
    "ypoints2 = [1, 3, 6, 4, 6]\n",
    "\n",
    "fig, ax = plt.subplots()\n",
    "ax.plot(xpoints1, ypoints1, label=\"graph 1\")\n",
    "ax.plot(xpoints2, ypoints2, label=\"graph 2\")\n",
    "ax.set_title(\"our example\")  # タイトル\n",
    "ax.set_xlabel(\"x\")  # x軸のラベル\n",
    "ax.set_ylabel(\"y\")  # y軸のラベル\n",
    "ax.set_xlim(1, 20)  # x軸の範囲\n",
    "ax.set_ylim(1, 20)  # y軸の範囲\n",
    "ax.set_xscale(\"log\")  # x軸を対数目盛に\n",
    "ax.set_yscale(\"log\")  # y軸を対数目盛に\n",
    "ax.legend(loc=\"lower right\")  # 凡例: 位置(loc)は右下\n",
    "ax.set_aspect(\"equal\")  # アスペクト比を座標軸の長さの比に揃える\n",
    "plt.show()"
   ]
  },
  {
   "cell_type": "markdown",
   "id": "played-lafayette",
   "metadata": {},
   "source": [
    "なお、Matplotlibに与えるタイトルやラベルでは、[LaTeX表記による数式](https://matplotlib.org/stable/tutorials/text/mathtext.html)が使用可能である<a name=\"cite_ref-13\"></a>[<sup>[13]</sup>](#cite_note-13)。次のセルではタイトルと軸ラベルに加えて、さらに[`Axes`オブジェクト](https://matplotlib.org/stable/api/axes_api.html#matplotlib.axes.Axes)の[`text`メソッド](https://matplotlib.org/stable/api/_as_gen/matplotlib.axes.Axes.text.html)を用いて文字列を描いている。"
   ]
  },
  {
   "cell_type": "code",
   "execution_count": null,
   "id": "sixth-labor",
   "metadata": {},
   "outputs": [],
   "source": [
    "%matplotlib inline\n",
    "import matplotlib.pyplot as plt\n",
    "\n",
    "xpoints = [-2, 5]\n",
    "ypoints = [-3, 11]\n",
    "\n",
    "fig, ax = plt.subplots()\n",
    "ax.plot(xpoints, ypoints)\n",
    "ax.set_title(r\"$f(x) = \\alpha x + \\beta$\")  # LaTeX表記によるタイトル\n",
    "ax.set_xlabel(\"$x$\")\n",
    "ax.set_ylabel(\"$y = f(x)$\")\n",
    "ax.text(-2, 10, r\"$\\alpha = 2$\")\n",
    "ax.text(-2, 9, r\"$\\beta = 1$\")\n",
    "plt.show()"
   ]
  },
  {
   "cell_type": "markdown",
   "id": "average-moderator",
   "metadata": {},
   "source": [
    "日本語を含むタイトルやラベル、テキストをMatplotlibで表示しようとすると、文字化けの起こることが多いので注意が必要である<a name=\"cite_ref-14\"></a>[<sup>[14]</sup>](#cite_note-14)。"
   ]
  },
  {
   "cell_type": "markdown",
   "id": "recognized-watershed",
   "metadata": {},
   "source": [
    "Matplotlibを使えば、折れ線グラフや散布図以外にもいろいろな種類のグラフが描ける。詳しくは[チュートリアル](https://matplotlib.org/stable/tutorials/index.html)や[ギャラリー](https://matplotlib.org/stable/gallery/index.html)を見てほしい。ここでは、もう1つの例としてヒストグラム（度数分布図）の描き方を紹介しよう。使うのは[`Axes`オブジェクト](https://matplotlib.org/stable/api/axes_api.html#the-axes-class)の[`hist`メソッド](https://matplotlib.org/stable/api/_as_gen/matplotlib.axes.Axes.hist.html#matplotlib.axes.Axes.hist)である。"
   ]
  },
  {
   "cell_type": "code",
   "execution_count": null,
   "id": "discrete-german",
   "metadata": {},
   "outputs": [],
   "source": [
    "%matplotlib inline\n",
    "import matplotlib.pyplot as plt\n",
    "\n",
    "data = [0.1, 1.2, 1.5, 1.9, 2.1, 2.2, 2.6, 3.3, 3.4, 3.5]\n",
    "\n",
    "fig, ax = plt.subplots()\n",
    "ax.hist(data, bins=4)  # ビンの数は4つ\n",
    "plt.show()"
   ]
  },
  {
   "cell_type": "markdown",
   "id": "future-fight",
   "metadata": {},
   "source": [
    "## 関数のグラフを描く（その1）"
   ]
  },
  {
   "cell_type": "markdown",
   "id": "electoral-administration",
   "metadata": {},
   "source": [
    "上で見たように、描く点の$x$座標と$y$座標がそれぞれリストとして与えられれば、Matplotlibを使って折れ線グラフや散布図を作るのは簡単である。ここでは、$y=f(x)$の形で与えられる関数のグラフを$x_\\text{min} \\le x \\le x_\\text{max}$の範囲で描くことを考える。そのためには$x$の範囲を$(n-1)$等分して両端を含めた$n$個の点の座標を計算してリストにし、これを使って折れ線グラフを作ればよい。分割数$(n-1)$が十分に大きければ、人間の目には折れ線と曲線の区別はつかない。"
   ]
  },
  {
   "cell_type": "markdown",
   "id": "architectural-deployment",
   "metadata": {},
   "source": [
    "<!-- textlint-disable ja-technical-writing/ja-no-mixed-period -->\n",
    "\n",
    "次の例では、$y=f(x)=x^2$のグラフのための座標のリストを作っている。ここで、\n",
    "\n",
    "<!-- textlint-enable -->"
   ]
  },
  {
   "cell_type": "markdown",
   "id": "indonesian-glass",
   "metadata": {},
   "source": [
    "<!-- textlint-disable ja-technical-writing/sentence-length -->\n",
    "\n",
    "$$\n",
    "x_i = x_\\text{min} + (x_\\text{max} - x_\\text{min}) \\times \\frac{i}{n-1},\n",
    "\\quad \\text{for } 0 \\le i \\le n - 1,\n",
    "\\tag{1}\n",
    "$$\n",
    "\n",
    "<!-- textlint-enable -->"
   ]
  },
  {
   "cell_type": "markdown",
   "id": "natural-glucose",
   "metadata": {},
   "source": [
    "が$x_\\text{min} \\le x \\le x_\\text{max}$の範囲を$(n-1)$等分した$n$個の点の$x$座標を与えることに注意しよう。出力されたリストの中身を目で確認できるように、$n$の値は小さめに設定してある。"
   ]
  },
  {
   "cell_type": "code",
   "execution_count": null,
   "id": "micro-thirty",
   "metadata": {},
   "outputs": [],
   "source": [
    "xmin = -2  # xの下限\n",
    "xmax = 2  # xの上限\n",
    "n = 9  # 点の数\n",
    "\n",
    "\n",
    "def f(x):\n",
    "    return x**2\n",
    "\n",
    "\n",
    "# 空のリストを用意する。\n",
    "xpoints = []\n",
    "ypoints = []\n",
    "\n",
    "for i in range(n):\n",
    "    # i番目の点のx座標、y座標を計算してそれぞれリストに追加する。\n",
    "    x = xmin + (xmax - xmin) * i / (n - 1)\n",
    "    y = f(x)\n",
    "    xpoints.append(x)\n",
    "    ypoints.append(y)\n",
    "\n",
    "print(xpoints)\n",
    "print(ypoints)"
   ]
  },
  {
   "cell_type": "markdown",
   "id": "optional-marketplace",
   "metadata": {},
   "source": [
    "あるいは、まず$x$座標のリストを作ってから、その中の$x$の値を使って$y$座標のリストを作ってもよいだろう<a name=\"cite_ref-15\"></a>[<sup>[15]</sup>](#cite_note-15)。"
   ]
  },
  {
   "cell_type": "code",
   "execution_count": null,
   "id": "sealed-accuracy",
   "metadata": {},
   "outputs": [],
   "source": [
    "xmin = -2  # xの下限\n",
    "xmax = 2  # xの上限\n",
    "n = 9  # 点の数\n",
    "\n",
    "\n",
    "def f(x):\n",
    "    return x**2\n",
    "\n",
    "\n",
    "# x座標について、空のリストを用意する。\n",
    "xpoints = []\n",
    "\n",
    "for i in range(n):\n",
    "    # i番目の点のx座標を計算してリストに追加する。\n",
    "    x = xmin + (xmax - xmin) * i / (n - 1)\n",
    "    xpoints.append(x)\n",
    "\n",
    "# y座標について、空のリストを用意する。\n",
    "ypoints = []\n",
    "\n",
    "for x in xpoints:\n",
    "    # x座標に対応したy座標を計算してリストに追加する。\n",
    "    y = f(x)\n",
    "    ypoints.append(y)\n",
    "\n",
    "print(xpoints)\n",
    "print(ypoints)"
   ]
  },
  {
   "cell_type": "markdown",
   "id": "congressional-distribution",
   "metadata": {},
   "source": [
    "こうして得られたリストからMatplotlibを用いて折れ線グラフを描くのは容易であろう。"
   ]
  },
  {
   "cell_type": "code",
   "execution_count": null,
   "id": "bronze-permission",
   "metadata": {},
   "outputs": [],
   "source": [
    "%matplotlib inline\n",
    "import matplotlib.pyplot as plt\n",
    "\n",
    "xmin = -2  # xの下限\n",
    "xmax = 2  # xの上限\n",
    "n = 50  # 点の数（増やした）\n",
    "\n",
    "\n",
    "def f(x):\n",
    "    return x**2\n",
    "\n",
    "\n",
    "# 空のリスト\n",
    "xpoints = []\n",
    "ypoints = []\n",
    "\n",
    "for i in range(n):\n",
    "    # i番目の点のx座標、y座標を計算してそれぞれリストに追加\n",
    "    x = xmin + (xmax - xmin) * i / (n - 1)\n",
    "    y = f(x)\n",
    "    xpoints.append(x)\n",
    "    ypoints.append(y)\n",
    "\n",
    "fig, ax = plt.subplots()\n",
    "ax.plot(xpoints, ypoints)\n",
    "plt.show()"
   ]
  },
  {
   "cell_type": "markdown",
   "id": "outer-smell",
   "metadata": {},
   "source": [
    "## 関数のグラフを描く（その2）"
   ]
  },
  {
   "cell_type": "markdown",
   "id": "arranged-collection",
   "metadata": {},
   "source": [
    "上の例のようにリストに自分で点を追加していく方法は応用が利く半面、あらかじめ陽に形が分かっている関数のグラフを描くだけのためには少々長ったらしい。これはNumPyの機能を使うと次のように書ける。"
   ]
  },
  {
   "cell_type": "code",
   "execution_count": null,
   "id": "affecting-buffer",
   "metadata": {},
   "outputs": [],
   "source": [
    "import numpy as np\n",
    "\n",
    "xmin = -2  # xの下限\n",
    "xmax = 2  # xの上限\n",
    "n = 9  # 点の数\n",
    "\n",
    "\n",
    "@np.vectorize\n",
    "def f(x):\n",
    "    return x**2\n",
    "\n",
    "\n",
    "xpoints = np.linspace(xmin, xmax, n)\n",
    "ypoints = f(xpoints)\n",
    "\n",
    "print(xpoints)\n",
    "print(ypoints)"
   ]
  },
  {
   "cell_type": "markdown",
   "id": "north-alias",
   "metadata": {},
   "source": [
    "まず、`xpoints`が[`np.linespace`という関数](https://numpy.org/doc/stable/reference/generated/numpy.linspace.html)によって生成されている。出力を見て推測できるように、この関数は与えられた範囲を等間隔に分割する数列を**リストのようなもの**（後で見るように、正確にはNumpyの`ndarray`オブジェクト）として返す。"
   ]
  },
  {
   "cell_type": "markdown",
   "id": "electrical-corporation",
   "metadata": {},
   "source": [
    "次に、`def f(x)`の直前に`@np.vectorize`という見慣れないものが付いていることに気づくだろう。このような`@`から始まる行は[デコレータ（decorator）](https://docs.python.org/ja/3/glossary.html#term-decorator)構文と呼ばれ、直後に`def`文で定義される関数を「修飾する」ことができる<a name=\"cite_ref-16\"></a>[<sup>[16]</sup>](#cite_note-16)。この場合、関数`f`は[`np.vectorize`](https://numpy.org/doc/stable/reference/generated/numpy.vectorize.html)によって「修飾」されている。その結果、関数`f`はリストのようなものを引数に与えるとそれに対応したリストのようなものを返すように「ベクトル化」される。"
   ]
  },
  {
   "cell_type": "code",
   "execution_count": null,
   "id": "bearing-sweden",
   "metadata": {},
   "outputs": [],
   "source": [
    "import numpy as np\n",
    "\n",
    "\n",
    "@np.vectorize\n",
    "def f(x):\n",
    "    return x**2\n",
    "\n",
    "\n",
    "print(f(0))  # 普通の呼び出し\n",
    "print(f(1))\n",
    "print(f(2))\n",
    "print(f(3))\n",
    "print(f([0, 1, 2, 3]))  # ベクトル化されているので、リストを与えるとリスト（のようなもの）を返す"
   ]
  },
  {
   "cell_type": "markdown",
   "id": "binary-attribute",
   "metadata": {},
   "source": [
    "よって、`ypoints = f(xpoints)`とするだけで、与えられた複数の$x$座標`xpoints`に対応した複数の$y$座標が得られる。"
   ]
  },
  {
   "cell_type": "markdown",
   "id": "protective-present",
   "metadata": {},
   "source": [
    "<!-- textlint-disable ja-technical-writing/ja-no-mixed-period -->\n",
    "\n",
    "NumPyにはあらかじめベクトル化された[数学関数](https://numpy.org/doc/stable/reference/routines.math.html)が多数用意されている<a name=\"cite_ref-17\"></a>[<sup>[17]</sup>](#cite_note-17)。たとえば[sin関数](https://numpy.org/doc/stable/reference/generated/numpy.sin.html)を、\n",
    "\n",
    "<!-- textlint-enable -->"
   ]
  },
  {
   "cell_type": "code",
   "execution_count": null,
   "id": "neutral-september",
   "metadata": {},
   "outputs": [],
   "source": [
    "print(np.sin([0.0, 0.5, 1.0]))"
   ]
  },
  {
   "cell_type": "markdown",
   "id": "tired-access",
   "metadata": {},
   "source": [
    "のように使うことができる。"
   ]
  },
  {
   "cell_type": "markdown",
   "id": "fifty-experiment",
   "metadata": {},
   "source": [
    "それでは、このようにして作った座標点を使ってグラフを描いてみよう。"
   ]
  },
  {
   "cell_type": "code",
   "execution_count": null,
   "id": "artistic-snapshot",
   "metadata": {},
   "outputs": [],
   "source": [
    "%matplotlib inline\n",
    "import matplotlib.pyplot as plt\n",
    "import numpy as np\n",
    "\n",
    "xmin = -2  # xの下限\n",
    "xmax = 2  # xの上限\n",
    "n = 50  # 点の数\n",
    "\n",
    "\n",
    "@np.vectorize\n",
    "def f(x):\n",
    "    return x**2\n",
    "\n",
    "\n",
    "xpoints = np.linspace(xmin, xmax, n)\n",
    "ypoints = f(xpoints)\n",
    "\n",
    "fig, ax = plt.subplots()\n",
    "ax.plot(xpoints, ypoints)\n",
    "plt.show()"
   ]
  },
  {
   "cell_type": "markdown",
   "id": "noted-jacob",
   "metadata": {},
   "source": [
    "## 関数のグラフを描く（その3）"
   ]
  },
  {
   "cell_type": "markdown",
   "id": "pleasant-center",
   "metadata": {},
   "source": [
    "<!-- textlint-disable ja-technical-writing/ja-no-mixed-period -->\n",
    "\n",
    "Numpyの`linespace`関数によって返されるリストのようなものは、正確にはNumpyの`ndarray`オブジェクトと呼ばれるものである。この`ndarray`には、ベクトル化された算術演算子が定義されており<a name=\"cite_ref-18\"></a>[<sup>[18]</sup>](#cite_note-18)、たとえば\n",
    "\n",
    "<!-- textlint-enable -->"
   ]
  },
  {
   "cell_type": "code",
   "execution_count": null,
   "id": "incredible-signature",
   "metadata": {},
   "outputs": [],
   "source": [
    "import numpy as np\n",
    "\n",
    "x = np.linspace(-1, 1, 5)\n",
    "y = x**2\n",
    "print(x)\n",
    "print(y)"
   ]
  },
  {
   "cell_type": "markdown",
   "id": "behavioral-malta",
   "metadata": {},
   "source": [
    "のように`x ** 2`と書くだけで、`x`のそれぞれの要素を2乗したものが得られる。よって、手っ取り早く関数のグラフを描くには次のようにすればよい。"
   ]
  },
  {
   "cell_type": "code",
   "execution_count": null,
   "id": "abandoned-programmer",
   "metadata": {},
   "outputs": [],
   "source": [
    "%matplotlib inline\n",
    "import matplotlib.pyplot as plt\n",
    "import numpy as np\n",
    "\n",
    "x = np.linspace(-2, 2)\n",
    "y = x**2\n",
    "\n",
    "fig, ax = plt.subplots()\n",
    "ax.plot(x, y)\n",
    "plt.show()"
   ]
  },
  {
   "cell_type": "markdown",
   "id": "weighted-kitty",
   "metadata": {},
   "source": [
    "なお、[`linespace`関数](https://numpy.org/doc/stable/reference/generated/numpy.linspace.html)の第3引数は省略でき、そのデフォルト値は`50`である。"
   ]
  },
  {
   "cell_type": "markdown",
   "id": "polished-regard",
   "metadata": {},
   "source": [
    "## 練習問題"
   ]
  },
  {
   "cell_type": "markdown",
   "id": "noticed-teaching",
   "metadata": {},
   "source": [
    "(2) 次の関数$f(x)$のグラフを与えられた範囲で描け。上記のどの方法を用いてもよい。ただし、グラフがなめらかに見えるようサンプル点の数を調節せよ。なお、`sin`関数と`cos`関数、`pi`定数は[`math`モジュール](https://docs.python.org/ja/3/library/math.html)および[`numpy`モジュール](https://numpy.org/doc/stable/reference/routines.math.html)の中に定義されている。"
   ]
  },
  {
   "cell_type": "markdown",
   "id": "affected-radical",
   "metadata": {},
   "source": [
    "(a)\n",
    "$$\n",
    "f(x) = (x - 1) (x - 3) (x - 9), \\qquad 0 \\le x \\le 10.\n",
    "\\tag{2} \n",
    "$$"
   ]
  },
  {
   "cell_type": "markdown",
   "id": "labeled-landing",
   "metadata": {},
   "source": [
    "(b)\n",
    "$$\n",
    "f(x) = \\sin(x + \\delta), \\qquad 0 \\le x \\le 2\\pi.\n",
    "\\tag{3} \n",
    "$$\n",
    "ただし$\\delta$は定数で、好きな値に取ってよい（例：$\\delta=0.2$）。"
   ]
  },
  {
   "cell_type": "markdown",
   "id": "functioning-algorithm",
   "metadata": {},
   "source": [
    "(c)\n",
    "$$\n",
    "f(x) = \\sin\\bigl(x \\cos(x)\\bigr), \\qquad 0 \\le x \\le 2\\pi.\n",
    "\\tag{4} \n",
    "$$"
   ]
  },
  {
   "cell_type": "markdown",
   "id": "periodic-retention",
   "metadata": {},
   "source": [
    "## マクローリン展開"
   ]
  },
  {
   "cell_type": "markdown",
   "id": "crazy-sleeve",
   "metadata": {},
   "source": [
    "<!-- textlint-disable ja-technical-writing/ja-no-mixed-period -->\n",
    "\n",
    "$\\sin(x)$のマクローリン展開は\n",
    "\n",
    "<!-- textlint-enable -->"
   ]
  },
  {
   "cell_type": "markdown",
   "id": "mature-battle",
   "metadata": {},
   "source": [
    "<!-- textlint-disable ja-technical-writing/no-exclamation-question-mark,ja-technical-writing/no-unmatched-pair -->\n",
    "\n",
    "$$\n",
    "\\sin(x)\n",
    "=\n",
    "x - \\frac{x^3}{3!} + \\frac{x^5}{5!} - \\frac{x^7}{7!} + \\frac{x^9}{9!} - \\cdots\n",
    "=\n",
    "\\sum_{k=1}^\\infty\n",
    "\\frac{(-1)^{k-1}}{(2k-1)!}\n",
    "x^{2k-1}\n",
    ",\n",
    "\\tag{5}\n",
    "$$\n",
    "\n",
    "<!-- textlint-enable -->"
   ]
  },
  {
   "cell_type": "markdown",
   "id": "adequate-platform",
   "metadata": {},
   "source": [
    "で与えられる。右辺を有限の項数で打ち切ると$\\sin(x)$の近似式が得られるが、それがどのくらいよい近似になっているのか、グラフを描くことで確かめてみよう<a name=\"cite_ref-19\"></a>[<sup>[19]</sup>](#cite_note-19)。"
   ]
  },
  {
   "cell_type": "code",
   "execution_count": null,
   "id": "related-bracelet",
   "metadata": {},
   "outputs": [],
   "source": [
    "%matplotlib inline\n",
    "import matplotlib.pyplot as plt\n",
    "import numpy as np\n",
    "from math import factorial  # 階乗を返す関数\n",
    "\n",
    "m = 5  # 最大で第5項まで展開\n",
    "\n",
    "# sin(x)を第n項までのマクローリン展開によって近似的に計算する関数。\n",
    "@np.vectorize\n",
    "def sin_approx(x, n):\n",
    "    y = 0\n",
    "    for k in range(1, n + 1):\n",
    "        y += (-1) ** (k - 1) / factorial(2 * k - 1) * x ** (2 * k - 1)\n",
    "    return y\n",
    "\n",
    "\n",
    "fig, ax = plt.subplots()\n",
    "\n",
    "xpoints = np.linspace(-3, 3, 100)\n",
    "\n",
    "for i in range(m + 1):\n",
    "    # 第i項までの近似を表示する。\n",
    "    ypoints = sin_approx(xpoints, i)\n",
    "    ax.plot(xpoints, ypoints, label=i)\n",
    "\n",
    "# 比較のため、正確な結果も表示する。\n",
    "ax.plot(xpoints, np.sin(xpoints), label=\"exact\")\n",
    "\n",
    "ax.legend()\n",
    "ax.grid()\n",
    "plt.show()"
   ]
  },
  {
   "cell_type": "markdown",
   "id": "dutch-jackson",
   "metadata": {},
   "source": [
    "<!-- textlint-disable ja-technical-writing/sentence-length -->\n",
    "\n",
    "ここで`from math import factorial`という行は、`math`モジュールから`factorial`関数のみをインポートして（`math.`を付けずに）`factorial(整数)`のように使えるようにしている。\n",
    "\n",
    "<!-- textlint-enable -->"
   ]
  },
  {
   "cell_type": "markdown",
   "id": "maritime-momentum",
   "metadata": {},
   "source": [
    "展開の項数を増やすにつれて近似がよくなることを確認できただろうか。"
   ]
  },
  {
   "cell_type": "markdown",
   "id": "therapeutic-hardwood",
   "metadata": {},
   "source": [
    "## 練習問題"
   ]
  },
  {
   "cell_type": "markdown",
   "id": "moderate-liabilities",
   "metadata": {},
   "source": [
    "<!-- textlint-disable ja-technical-writing/ja-no-mixed-period -->\n",
    "\n",
    "(3) 同様のグラフを$\\cos(x)$について作成せよ。ただし、$\\cos(x)$のマクローリン展開は\n",
    "\n",
    "<!-- textlint-enable -->"
   ]
  },
  {
   "cell_type": "markdown",
   "id": "passive-coating",
   "metadata": {},
   "source": [
    "<!-- textlint-disable ja-technical-writing/no-exclamation-question-mark,ja-technical-writing/no-unmatched-pair -->\n",
    "\n",
    "$$\n",
    "\\cos(x)\n",
    "=\n",
    "1 - \\frac{x^2}{2!} + \\frac{x^4}{4!} - \\frac{x^6}{6!} + \\frac{x^8}{8!} - \\cdots\n",
    "=\n",
    "\\sum_{k=1}^\\infty\n",
    "\\frac{(-1)^{k-1}}{(2k-2)!}\n",
    "x^{2k-2}\n",
    ",\n",
    "\\tag{6}\n",
    "$$\n",
    "\n",
    "<!-- textlint-enable -->"
   ]
  },
  {
   "cell_type": "markdown",
   "id": "musical-regulation",
   "metadata": {},
   "source": [
    "で与えられる。"
   ]
  },
  {
   "cell_type": "markdown",
   "id": "coupled-ready",
   "metadata": {},
   "source": [
    "(4) $\\sin(x)$や$\\cos(x)$のマクローリン展開の収束半径は$\\infty$である。つまり、$x > 1$であっても十分な数の展開項の和を取れば収束する。このことを、$-10 \\le x \\le 10$の範囲について、$m$を十分に大きく取って確認してみよう<a name=\"cite_ref-20\"></a>[<sup>[20]</sup>](#cite_note-20)。"
   ]
  },
  {
   "cell_type": "markdown",
   "id": "induced-abraham",
   "metadata": {},
   "source": [
    "## 媒介変数表示された関数のグラフ"
   ]
  },
  {
   "cell_type": "markdown",
   "id": "grave-summary",
   "metadata": {},
   "source": [
    "<!-- textlint-disable ja-technical-writing/sentence-length,ja-technical-writing/ja-no-mixed-period -->\n",
    "\n",
    "上では$y=f(x)$の形をした関数のグラフを$x_\\text{min} \\le x \\le x_\\text{max}$の範囲で描くことを考えたが、同様にして$x = f(t)$, $y = g(t)$のように媒介変数表示された関数のグラフを$t_\\text{min} \\le t \\le t_\\text{max}$の範囲で描くことができる<a name=\"cite_ref-21\"></a>[<sup>[21]</sup>](#cite_note-21)。手順は、\n",
    "\n",
    "1. $t$の範囲を適当に等分してリストにする、\n",
    "1. $t$のリストから$x$座標のリストを作る、\n",
    "1. $t$のリストから$y$座標のリストを作る、\n",
    "1. $x$座標と$y$座標のリストを使って折れ線グラフを描く、\n",
    "\n",
    "となる。\n",
    "\n",
    "<!-- textlint-enable -->"
   ]
  },
  {
   "cell_type": "markdown",
   "id": "prime-banner",
   "metadata": {},
   "source": [
    "## 演習課題"
   ]
  },
  {
   "cell_type": "markdown",
   "id": "banned-dietary",
   "metadata": {},
   "source": [
    "(1) 次の媒介変数表示で表されるリサジュー曲線（Lissajous curve）のグラフを描くプログラムを作成せよ<a name=\"cite_ref-22\"></a>[<sup>[22]</sup>](#cite_note-22)。"
   ]
  },
  {
   "cell_type": "markdown",
   "id": "crucial-institute",
   "metadata": {},
   "source": [
    "$$\n",
    "\\begin{align}\n",
    "x &= \\cos(n_x t) ,\n",
    "\\tag{7} \\\\\n",
    "y &= \\sin(n_y t + \\delta) .\n",
    "\\tag{8}\n",
    "\\end{align}\n",
    "$$"
   ]
  },
  {
   "cell_type": "markdown",
   "id": "religious-spoke",
   "metadata": {},
   "source": [
    "<!-- textlint-disable ja-technical-writing/sentence-length -->\n",
    "\n",
    "すぐわかるように、これらは$t$の周期関数である。周期全体について描けるように適当な$t$の範囲を取り、また十分滑らかになるように分割数を調整せよ。ここで現れるパラメーター$(n_x, n_y, \\delta)$については（いろいろと変えてグラフを眺めていると小一時間楽しめるだろうが）、提出する際には$n_x = 6$、$n_y = 5$、$\\delta = 0.1$とせよ<a name=\"cite_ref-23\"></a>[<sup>[23]</sup>](#cite_note-23)。\n",
    "\n",
    "<!-- textlint-enable -->"
   ]
  },
  {
   "cell_type": "code",
   "execution_count": null,
   "id": "compatible-bristol",
   "metadata": {},
   "outputs": [],
   "source": [
    "# 課題解答5.1  <-- 提出する際に、この行を必ず含めること。\n",
    "\n",
    "%matplotlib inline\n",
    "import matplotlib.pyplot as plt\n",
    "\n",
    "# 必要なら以下の行を有効にして使ってもよい。\n",
    "# import numpy as np\n",
    "# from numpy import sin, cos, pi"
   ]
  },
  {
   "cell_type": "markdown",
   "id": "logical-framework",
   "metadata": {},
   "source": [
    "(2) 次式で定義される内トロコイドのグラフを描くプログラムを作成せよ。"
   ]
  },
  {
   "cell_type": "markdown",
   "id": "bored-cooperative",
   "metadata": {},
   "source": [
    "<!-- textlint-disable ja-technical-writing/sentence-length -->\n",
    "\n",
    "$$\n",
    "\\begin{align}\n",
    "x &= (a - b) \\cos(t) + c \\cos\\biggl(\\frac{a - b}{b} t\\biggr),\n",
    "\\tag{9} \\\\\n",
    "y &= (a - b) \\sin(t) - c \\sin\\biggl(\\frac{a - b}{b} t\\biggr).\n",
    "\\tag{10}\n",
    "\\end{align}\n",
    "$$\n",
    "\n",
    "<!-- textlint-enable -->"
   ]
  },
  {
   "cell_type": "markdown",
   "id": "twelve-nomination",
   "metadata": {},
   "source": [
    "提出時には、パラメーター$(a, b, c)$は$a=12$、$b=7$、$c=6$とせよ<a name=\"cite_ref-24\"></a>[<sup>[24]</sup>](#cite_note-24)。周期全体について描けるように適当な$t$の範囲を取り、また十分滑らかになるように分割数を調整せよ。"
   ]
  },
  {
   "cell_type": "code",
   "execution_count": null,
   "id": "normal-accounting",
   "metadata": {},
   "outputs": [],
   "source": [
    "# 課題解答5.2  <-- 提出する際に、この行を必ず含めること。\n",
    "\n",
    "%matplotlib inline\n",
    "import matplotlib.pyplot as plt\n",
    "\n",
    "# 必要なら以下の行を有効にして使うこと。\n",
    "# import numpy as np\n",
    "# from numpy import sin, cos, pi"
   ]
  },
  {
   "cell_type": "markdown",
   "id": "complimentary-photographer",
   "metadata": {},
   "source": [
    "<!-- textlint-disable japanese/no-mix-dearu-desumasu,ja-technical-writing/no-mix-dearu-desumasu,jtf-style/1.1.1.本文 -->\n",
    "\n",
    "(3) 【復習問題】授業内で出題します。\n",
    "\n",
    "<!-- textlint-enable -->"
   ]
  },
  {
   "cell_type": "code",
   "execution_count": null,
   "id": "thirty-thought",
   "metadata": {},
   "outputs": [],
   "source": [
    "# 課題解答5.3  <-- 提出する際に、この行を必ず含めること。\n",
    "\n",
    "# このセルに解答（この行は消してよい）"
   ]
  },
  {
   "cell_type": "markdown",
   "id": "decreased-concept",
   "metadata": {},
   "source": [
    "## 参考：pandasを使う"
   ]
  },
  {
   "cell_type": "markdown",
   "id": "suburban-weekly",
   "metadata": {},
   "source": [
    "実際の研究では、実験や観測、数値計算などで得られたデータファイルを読み込んで可視化を行うことがあるだろう。その場合、Pythonの標準機能によって[ファイルの読み書き](https://docs.python.org/ja/3/tutorial/inputoutput.html#reading-and-writing-files)を行ったり、データの操作するプログラムを自分で書いてもよいが、[pandas](https://pandas.pydata.org/)のようなデータ解析ライブラリを利用するのが簡便である。"
   ]
  },
  {
   "cell_type": "markdown",
   "id": "apart-courtesy",
   "metadata": {},
   "source": [
    "Google Colabならば、pandasはインストール済みである。Binderでは、次のコマンドを実行すればpandasがインストールできる。\n",
    "```python\n",
    "!pip install pandas\n",
    "```\n",
    "自分のパソコンを使っている場合は、インストール済みでなければ、自分でインストールする必要がある。"
   ]
  },
  {
   "cell_type": "markdown",
   "id": "whole-maryland",
   "metadata": {},
   "source": [
    "<!-- textlint-disable ja-technical-writing/max-ten -->\n",
    "\n",
    "次の例では、pandasを用いてインターネット上に公開されているCSVファイルを読み込み、データ処理を行ったうえで、東京都の新型コロナウイルス感染症累計感染者数のグラフを表示している。\n",
    "\n",
    "<!-- textlint-enable -->"
   ]
  },
  {
   "cell_type": "markdown",
   "id": "professional-christmas",
   "metadata": {},
   "source": [
    "<!-- textlint-disable ja-technical-writing/sentence-length -->\n",
    "\n",
    "**注意：このプログラムは[東京都新型コロナウイルス感染症対策サイト\n",
    "](https://stopcovid19.metro.tokyo.lg.jp/)から、都内の新型コロナウイルス陽性患者の詳細データ（2021年5月1日時点で11MB超）を（Jupyterを実行しているサーバーに）ダウンロードする。過度のネットワーク負荷を避けるため、あまり何度も実行することは推奨しない。**\n",
    "\n",
    "<!-- textlint-enable -->"
   ]
  },
  {
   "cell_type": "code",
   "execution_count": null,
   "id": "innovative-carry",
   "metadata": {},
   "outputs": [],
   "source": [
    "%matplotlib inline\n",
    "import pandas as pd\n",
    "\n",
    "df = pd.read_csv(\n",
    "    \"https://stopcovid19.metro.tokyo.lg.jp/data/130001_tokyo_covid19_patients.csv\"\n",
    ")\n",
    "ax = df[\"公表_年月日\"].value_counts().sort_index(0).cumsum().plot()\n",
    "ax.set_xlabel(\"date\")\n",
    "ax.set_ylabel(\"total number of people testing positive\")\n",
    "ax.grid()"
   ]
  },
  {
   "cell_type": "markdown",
   "id": "optional-reading",
   "metadata": {},
   "source": [
    "## 脚注"
   ]
  },
  {
   "cell_type": "markdown",
   "id": "reverse-bleeding",
   "metadata": {},
   "source": [
    "<!-- textlint-disable ja-technical-writing/max-ten,ja-technical-writing/sentence-length -->\n",
    "\n",
    "<a name=\"cite_note-1\"></a>1.&nbsp;[^](#cite_ref-1)\n",
    "MatplotlibはPythonの標準ライブラリの中には含まれていない。Matplotlibを使いたいが、個人でインストールしたPythonの処理系にMatplotlibがインストールされていない場合は、まずMatplotlibをインストールする必要がある。このノートブックをBinderで起動した場合や、Google Colabを使った場合、もしくはAnacondaを使ってWindowsパソコンにJupyterをインストールしたものを使っている場合は、Matplotlibはすでにインストール済みで使える状態のはずである。\n",
    "\n",
    "<!-- textlint-enable -->"
   ]
  },
  {
   "cell_type": "markdown",
   "id": "varying-great",
   "metadata": {},
   "source": [
    "<!-- textlint-disable ja-technical-writing/no-double-negative-ja,ja-technical-writing/sentence-length -->\n",
    "\n",
    "<a name=\"cite_note-2\"></a>2.&nbsp;[^](#cite_ref-2)\n",
    "プログラミング入門によくある「おまじない」というのは、ものによっては、ある意味で教える側の逃げであると言えなくもない。簡単に教えることができず、後回しにしたいから、「おまじない」と言ってしまうのである。ただし、「おまじない」を詳しく解説されると**教わる側が逃げてしまう**という事情もある。たとえば[Hello world](https://ja.wikipedia.org/wiki/Hello_world)（Pythonでいうと`print(\"Hello world\")`とだけ書いたプログラム）のC++版を詳しく解説すると[こうなる](https://qiita.com/kazatsuyu/items/478c55de0f75ea5904bd)そうだ（`std::cout`というグローバル変数を使っているので、ついでに[静的初期化順序の問題](https://isocpp.org/wiki/faq/ctors#static-init-order)についても徹底的に解説して欲しいと思ったり思わなかったり）。これを初回の講義でやってしまったら、いったい何人の履修者が残るだろうか（そもそも1回の講義で終わるのか）。\n",
    "\n",
    "<!-- textlint-enable -->"
   ]
  },
  {
   "cell_type": "markdown",
   "id": "innovative-perfume",
   "metadata": {},
   "source": [
    "<a name=\"cite_note-3\"></a>3.&nbsp;[^](#cite_ref-3)\n",
    "正確にはJupyterの一部である[IPython](https://ipython.org/)のマジックコマンドである。初めから組み込まれているマジックコマンドには[このようなもの](https://ipython.readthedocs.io/en/stable/interactive/magics.html)がある。"
   ]
  },
  {
   "cell_type": "markdown",
   "id": "stopped-halloween",
   "metadata": {},
   "source": [
    "<!-- textlint-disable ja-engineering-paper/prh,ja-technical-writing/ja-no-weak-phrase,ja-technical-writing/sentence-length -->\n",
    "\n",
    "<a name=\"cite_note-4\"></a>4.&nbsp;[^](#cite_ref-4)\n",
    "`numpy`を`np`と略する必要があるか疑問に思うかもしれないが、[NumPyの公式サイト](https://numpy.org/doc/stable/user/quickstart.html#an-example)や[Matplotlibのチュートリアル](https://matplotlib.org/stable/tutorials/introductory/usage.html#usage-guide)でもやっているので、「長いものには巻かれろ」の精神でこれを採用することにする。\n",
    "\n",
    "<!-- textlint-enable -->"
   ]
  },
  {
   "cell_type": "markdown",
   "id": "funded-contest",
   "metadata": {},
   "source": [
    "<!-- textlint-disable ja-technical-writing/max-ten -->\n",
    "\n",
    "<a name=\"cite_note-5\"></a>5.&nbsp;[^](#cite_ref-5)\n",
    "Pythonは他のプログラミング言語と比較的して柔軟かつ動的な言語であり、その代償として最適化（自動的な実行速度の高速化）が困難である。よって、CやFortranなどの言語と比べ、一般的に言って**実行速度は遅い**。しかしこれは、Pythonで書かれたプログラムが、実行速度が重視される科学技術計算や機械学習では役に立たない、ということを直接には意味しない。平均的なプログラムでは、**実行時間の80%はプログラムコード全体の20%の部分の実行に費やされる**と言われる（パレートの法則）。この部分をCやFortranで書かれ十分に最適化されたNumPyのようなライブラリによって処理すればよいのである。そのほか、Pythonで書かれたプログラムの高速化については、たとえば[これ](https://qiita.com/kaityo256/items/3c07252ab63591256835)や[これ](https://qiita.com/yubais/items/5a9d91fe03fe715b21d0)や[これ](https://qiita.com/HidKamiya/items/ed0992c27e43db5f2d48)などを参照のこと。\n",
    "\n",
    "<!-- textlint-enable -->"
   ]
  },
  {
   "cell_type": "markdown",
   "id": "tropical-sending",
   "metadata": {},
   "source": [
    "<a name=\"cite_note-6\"></a>6.&nbsp;[^](#cite_ref-6)\n",
    "NumPyはMatplotlibが依存するパッケージの1つである。よって、Matplotlibを`pip`や`conda`などのパッケージ管理ソフトウェアを使ってインストールしようとすると、自動的にNumPyもインストールされる。"
   ]
  },
  {
   "cell_type": "markdown",
   "id": "7a4dad39",
   "metadata": {},
   "source": [
    "<a name=\"cite_note-7\"></a>7.&nbsp;[^](#cite_ref-7)\n",
    "なお、[`subplots`関数](https://matplotlib.org/stable/api/_as_gen/matplotlib.pyplot.subplots.html)のほかに[`subplot`関数](https://matplotlib.org/stable/api/_as_gen/matplotlib.pyplot.subplot.html)（最後に`s`が付かない）もあるので注意。"
   ]
  },
  {
   "cell_type": "markdown",
   "id": "arabic-relationship",
   "metadata": {},
   "source": [
    "<a name=\"cite_note-8\"></a>8.&nbsp;[^](#cite_ref-8)\n",
    "`plt.subplots`に与える引数（`nrows`と`ncols`）によって、`Axes`オブジェクトが何個返ってくるか（つまり図に含まれるサブプロットが何個か）は変化する。"
   ]
  },
  {
   "cell_type": "markdown",
   "id": "large-knight",
   "metadata": {},
   "source": [
    "<a name=\"cite_note-9\"></a>9.&nbsp;[^](#cite_ref-9)\n",
    "そのほかにMATLABのコマンドのように使える[pyplot API](https://matplotlib.org/stable/api/index.html#the-pyplot-api)も用意されている。[オブジェクト指向プログラミングスタイルのAPI](https://matplotlib.org/stable/api/index.html#the-object-oriented-api)と混同すると厄介なのでここでは扱わない。書き捨てのテストプログラムを書くときにはpyplot APIも悪くない。"
   ]
  },
  {
   "cell_type": "markdown",
   "id": "usual-mouse",
   "metadata": {},
   "source": [
    "<a name=\"cite_note-10\"></a>10.&nbsp;[^](#cite_ref-10)\n",
    "当たり前のことだが、このような細かいオプションをすべて覚える必要はない。「Matplotlibのマニュアルにいろいろ書いてあったな」「グーグルで検索すればすぐ見つかるな」くらいのことを頭に入れておけばよい。"
   ]
  },
  {
   "cell_type": "markdown",
   "id": "miniature-sweet",
   "metadata": {},
   "source": [
    "<a name=\"cite_note-11\"></a>11.&nbsp;[^](#cite_ref-11)\n",
    "実はJupyter上だと`plt.show()`を呼ぶ必要はない。しかし、ここでは以下の2つの理由により、あえて`plt.show()`を書くようにしている。\n",
    "- （Jupyterではない）普通のPythonプログラム（non-interactive mode）の場合に必要である。\n",
    "- セルを評価した結果を表示しないための[解決策の1つ](https://stackoverflow.com/a/46311589)である。"
   ]
  },
  {
   "cell_type": "markdown",
   "id": "dangerous-egyptian",
   "metadata": {},
   "source": [
    "<a name=\"cite_note-12\"></a>12.&nbsp;[^](#cite_ref-12)\n",
    "`scatter`メソッドが受け付けるオプション引数は`plot`メソッドと異なっており、点ごとに色やサイズを変えるなど、もっと一般的な散布図が描けるようになっている。"
   ]
  },
  {
   "cell_type": "markdown",
   "id": "incorporate-trial",
   "metadata": {},
   "source": [
    "<!-- textlint-disable ja-technical-writing/sentence-length -->\n",
    "\n",
    "<a name=\"cite_note-13\"></a>13.&nbsp;[^](#cite_ref-13)\n",
    "（La）TeXではバックスラッシュ（`\\`；日本語フォントだと「円記号」に見える）を多用するが、Pythonの文字列においてバックスラッシュはエスケープシーケンス（特殊な文字を表すのに使われる文字の並び）に使われるので、`\"$\\\\alpha$\"`のように2個続けて書くか、もしくは`r\"$\\alpha$\"`のようにエスケープシーケンスを無効化したraw文字列リテラル（文字列リテラルの前に`r`を付けて表す）を使う。\n",
    "\n",
    "<!-- textlint-enable -->"
   ]
  },
  {
   "cell_type": "markdown",
   "id": "general-specific",
   "metadata": {},
   "source": [
    "<!-- textlint-disable ja-technical-writing/ja-no-mixed-period -->\n",
    "\n",
    "<a name=\"cite_note-14\"></a>14.&nbsp;[^](#cite_ref-14)\n",
    "フォントの問題である。解決策は、たとえば[これ](https://github.com/uehara1414/japanize-matplotlib)。BinderやColabであれば、\n",
    "```python\n",
    "!pip install japanize-matplotlib\n",
    "import japanize_matplotlib\n",
    "```\n",
    "を実行すればよい。\n",
    "\n",
    "<!-- textlint-enable -->"
   ]
  },
  {
   "cell_type": "markdown",
   "id": "hawaiian-swimming",
   "metadata": {},
   "source": [
    "<!-- textlint-disable ja-technical-writing/ja-no-mixed-period -->\n",
    "\n",
    "<a name=\"cite_note-15\"></a>15.&nbsp;[^](#cite_ref-15)\n",
    "もしくは[リスト内包表記（list comprehension）](https://docs.python.org/ja/3/glossary.html#term-list-comprehension)というPythonの機能を用いて\n",
    "```python\n",
    "xpoints = [xmin + (xmax - xmin) * i / (n - 1) for i in range(n)]\n",
    "ypoints = [f(x) for x in xpoints]\n",
    "```\n",
    "と書いてもよい。\n",
    "\n",
    "<!-- textlint-enable -->"
   ]
  },
  {
   "cell_type": "markdown",
   "id": "thermal-arabic",
   "metadata": {},
   "source": [
    "<a name=\"cite_note-16\"></a>16.&nbsp;[^](#cite_ref-16)\n",
    "デコレータの本質は、関数を引数にとり関数を返す関数、もしくはそれと同等に振る舞うクラスである。"
   ]
  },
  {
   "cell_type": "markdown",
   "id": "proper-arctic",
   "metadata": {},
   "source": [
    "<!-- textlint-disable ja-technical-writing/max-ten,ja-technical-writing/sentence-length -->\n",
    "\n",
    "<a name=\"cite_note-17\"></a>17.&nbsp;[^](#cite_ref-17)\n",
    "Numpyの思想として、大きな多次元配列の演算（ベクトル、行列などの計算）をCで書かれたネイティブコードによって高速に実行させれば、（それがボトルネックであれば）プログラムは劇的に速くなる（はず）、というものがある。\n",
    "\n",
    "<!-- textlint-enable -->"
   ]
  },
  {
   "cell_type": "markdown",
   "id": "editorial-facial",
   "metadata": {},
   "source": [
    "<a name=\"cite_note-18\"></a>18.&nbsp;[^](#cite_ref-18)\n",
    "`ndarray`に対する演算子は、通常のリストとは動作が違うことに注意する必要がある。\n",
    "```python\n",
    "# リストの場合\n",
    "[1, 2] * 2       # [1, 2, 1, 2]\n",
    "[1, 2] + [3, 4]  # [1, 2, 3, 4]\n",
    "# ndarrayの場合\n",
    "np.ndarray([1, 2]) * 2                   # np.ndarray([2, 4])\n",
    "np.ndarray([1, 2]) + np.ndarray([3, 4])  # np.ndarray([4, 6])\n",
    "```"
   ]
  },
  {
   "cell_type": "markdown",
   "id": "modular-upper",
   "metadata": {},
   "source": [
    "<a name=\"cite_note-19\"></a>19.&nbsp;[^](#cite_ref-19)\n",
    "`vectorize`を使わないのであれば、`sin_approx`関数は次のように書ける。\n",
    "```python\n",
    "def sin_approx(x, n):\n",
    "    y = np.zeros_like(x)  # xと同じサイズで、すべての要素が0であるndarrayオブジェクト\n",
    "    for k in range(1, n + 1):\n",
    "        y += (-1) ** (k - 1) / factorial(2 * k - 1) * x ** (2 * k - 1)\n",
    "    return y\n",
    "```\n",
    "この関数は$n = 0$であっても、ちゃんと`ndarray`オブジェクトを返す。"
   ]
  },
  {
   "cell_type": "markdown",
   "id": "consistent-muscle",
   "metadata": {},
   "source": [
    "<a name=\"cite_note-20\"></a>20.&nbsp;[^](#cite_ref-20)\n",
    "$0 \\le i \\le m$のすべての曲線を1つのグラフに書くと見づらくなる。適当に曲線の数を絞ったり、描画する$y$の範囲を調節したりせよ。"
   ]
  },
  {
   "cell_type": "markdown",
   "id": "acoustic-jungle",
   "metadata": {},
   "source": [
    "<a name=\"cite_note-21\"></a>21.&nbsp;[^](#cite_ref-21)\n",
    "ここでは式を手で入力できる程度の関数しか扱わないが、頑張れば[こんなこと](https://ja.wolframalpha.com/input/?i=%E3%82%A2%E3%82%A4%E3%83%B3%E3%82%B7%E3%83%A5%E3%82%BF%E3%82%A4%E3%83%B3%E3%81%AE%E7%B7%9A%E7%94%BB)もできるはず（ただし非連結部分を扱うのは難しいので、散布図としてたくさん点を打ってみるとよい）。そのほかの例は[ここ](https://ja.wolframalpha.com/examples/mathematics/geometry/curves-and-surfaces/popular-curves/)や[ここ](https://nlab.itmedia.co.jp/nl/articles/1305/02/news063.html)を参照のこと。"
   ]
  },
  {
   "cell_type": "markdown",
   "id": "vocational-scout",
   "metadata": {},
   "source": [
    "<a name=\"cite_note-22\"></a>22.&nbsp;[^](#cite_ref-22)\n",
    "お好みで、グリッドを表示したり、アスペクト比を調節したりしてみてもよい。"
   ]
  },
  {
   "cell_type": "markdown",
   "id": "continuous-surgery",
   "metadata": {},
   "source": [
    "<!-- textlint-disable japanese/no-mix-dearu-desumasu,ja-technical-writing/no-mix-dearu-desumasu,jtf-style/1.1.1.本文 -->\n",
    "\n",
    "<a name=\"cite_note-23\"></a>23.&nbsp;[^](#cite_ref-23)\n",
    "このパラメーターに合わせていただくと採点がしやすくなりますので、どうかご協力をよろしくお願いします。\n",
    "\n",
    "<!-- textlint-enable -->"
   ]
  },
  {
   "cell_type": "markdown",
   "id": "median-stand",
   "metadata": {},
   "source": [
    "<a name=\"cite_note-24\"></a>24.&nbsp;[^](#cite_ref-24)\n",
    "このパラメーターを変えるといろいろな図形が楽しめる（お勧めは$a=5$、$b=3$、$c=5$や$a=7$、$b=10$、$c=10$とか）。"
   ]
  }
 ],
 "metadata": {
  "kernelspec": {
   "display_name": "Python 3 (ipykernel)",
   "language": "python",
   "name": "python3"
  },
  "language_info": {
   "codemirror_mode": {
    "name": "ipython",
    "version": 3
   },
   "file_extension": ".py",
   "mimetype": "text/x-python",
   "name": "python",
   "nbconvert_exporter": "python",
   "pygments_lexer": "ipython3",
   "version": "3.7.13"
  }
 },
 "nbformat": 4,
 "nbformat_minor": 5
}
